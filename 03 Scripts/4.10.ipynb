{
 "cells": [
  {
   "cell_type": "markdown",
   "id": "de373e32",
   "metadata": {},
   "source": [
    "# Exercise 4.10 - Part 1\n",
    "\n",
    "\n"
   ]
  },
  {
   "cell_type": "markdown",
   "id": "96185379",
   "metadata": {},
   "source": [
    "## Question 1:\n",
    "- Import the data set you exported in Exercise 4.9 into a new Jupyter notebook. This should be the merged version of your data that contains the new customers column."
   ]
  },
  {
   "cell_type": "code",
   "execution_count": 1,
   "id": "cebc85ba",
   "metadata": {},
   "outputs": [],
   "source": [
    "# import libraries\n",
    "import pandas as pd\n",
    "import numpy as np\n",
    "import os\n",
    "import matplotlib.pyplot as plt\n",
    "import seaborn as sns\n",
    "import scipy"
   ]
  },
  {
   "cell_type": "code",
   "execution_count": 2,
   "id": "c07ae695",
   "metadata": {},
   "outputs": [],
   "source": [
    "# import data\n",
    "path = r'/Users/azadehrezaei/Desktop/Career Foundry/Achievement 4/08-2021 Instacart Basket Analysis'\n",
    "df = pd.read_pickle(os.path.join(path, '02 Data', 'Prepared Data', '4.9_ords_prods_customers.pkl'))"
   ]
  },
  {
   "cell_type": "markdown",
   "id": "0e6f314e",
   "metadata": {},
   "source": [
    "    "
   ]
  },
  {
   "cell_type": "markdown",
   "id": "f0a4d35a",
   "metadata": {},
   "source": [
    "   "
   ]
  },
  {
   "cell_type": "code",
   "execution_count": 3,
   "id": "44a4bc3d",
   "metadata": {
    "scrolled": true
   },
   "outputs": [
    {
     "data": {
      "text/plain": [
       "99999.0"
      ]
     },
     "execution_count": 3,
     "metadata": {},
     "output_type": "execute_result"
    }
   ],
   "source": [
    "# checked the max price since I did not remove these rows in the previous steps:\n",
    "df['prices'].max()"
   ]
  },
  {
   "cell_type": "code",
   "execution_count": 4,
   "id": "2ed7f23c",
   "metadata": {},
   "outputs": [],
   "source": [
    "# Dropped the rows were the price value is above $100\n",
    "df.loc[df['prices'] >100, 'prices'] = np.nan"
   ]
  },
  {
   "cell_type": "code",
   "execution_count": 5,
   "id": "c9f70cf8",
   "metadata": {},
   "outputs": [
    {
     "data": {
      "text/plain": [
       "25.0"
      ]
     },
     "execution_count": 5,
     "metadata": {},
     "output_type": "execute_result"
    }
   ],
   "source": [
    "df['prices'].max()"
   ]
  },
  {
   "cell_type": "code",
   "execution_count": 6,
   "id": "d0b404e5",
   "metadata": {},
   "outputs": [],
   "source": [
    "# viewing all column labels:\n",
    "pd.set_option(\"display.max_columns\", None)"
   ]
  },
  {
   "cell_type": "code",
   "execution_count": 7,
   "id": "8bc764c0",
   "metadata": {},
   "outputs": [
    {
     "data": {
      "text/html": [
       "<div>\n",
       "<style scoped>\n",
       "    .dataframe tbody tr th:only-of-type {\n",
       "        vertical-align: middle;\n",
       "    }\n",
       "\n",
       "    .dataframe tbody tr th {\n",
       "        vertical-align: top;\n",
       "    }\n",
       "\n",
       "    .dataframe thead th {\n",
       "        text-align: right;\n",
       "    }\n",
       "</style>\n",
       "<table border=\"1\" class=\"dataframe\">\n",
       "  <thead>\n",
       "    <tr style=\"text-align: right;\">\n",
       "      <th></th>\n",
       "      <th>product_id</th>\n",
       "      <th>product_name</th>\n",
       "      <th>aisle_id</th>\n",
       "      <th>department_id</th>\n",
       "      <th>prices</th>\n",
       "      <th>order_id</th>\n",
       "      <th>user_id</th>\n",
       "      <th>order_number</th>\n",
       "      <th>order_day_of_week</th>\n",
       "      <th>order_hour_of_day</th>\n",
       "      <th>days_since_prior_order</th>\n",
       "      <th>add_to_cart_order</th>\n",
       "      <th>reordered</th>\n",
       "      <th>_merge</th>\n",
       "      <th>price_range_loc</th>\n",
       "      <th>busiest_day</th>\n",
       "      <th>slowest/busiest days</th>\n",
       "      <th>busiest_period_of_day</th>\n",
       "      <th>max_order</th>\n",
       "      <th>loyalty_flag</th>\n",
       "      <th>avg_price</th>\n",
       "      <th>spending_flag</th>\n",
       "      <th>order_freq</th>\n",
       "      <th>frequency_flag</th>\n",
       "      <th>first_name</th>\n",
       "      <th>last_name</th>\n",
       "      <th>gender</th>\n",
       "      <th>state</th>\n",
       "      <th>age</th>\n",
       "      <th>date_joined</th>\n",
       "      <th>n_dependants</th>\n",
       "      <th>fam_status</th>\n",
       "      <th>income</th>\n",
       "    </tr>\n",
       "  </thead>\n",
       "  <tbody>\n",
       "    <tr>\n",
       "      <th>0</th>\n",
       "      <td>1</td>\n",
       "      <td>Chocolate Sandwich Cookies</td>\n",
       "      <td>61</td>\n",
       "      <td>19</td>\n",
       "      <td>5.8</td>\n",
       "      <td>3139998</td>\n",
       "      <td>138</td>\n",
       "      <td>28</td>\n",
       "      <td>6</td>\n",
       "      <td>11</td>\n",
       "      <td>3.0</td>\n",
       "      <td>5</td>\n",
       "      <td>0</td>\n",
       "      <td>both</td>\n",
       "      <td>Mid-range Product</td>\n",
       "      <td>Regularly busy</td>\n",
       "      <td>Regular Busy</td>\n",
       "      <td>Most Orders</td>\n",
       "      <td>32</td>\n",
       "      <td>Regular customer</td>\n",
       "      <td>6.935811</td>\n",
       "      <td>Low Spender</td>\n",
       "      <td>8.0</td>\n",
       "      <td>Frequent Customer</td>\n",
       "      <td>Charles</td>\n",
       "      <td>Cox</td>\n",
       "      <td>Male</td>\n",
       "      <td>Minnesota</td>\n",
       "      <td>81</td>\n",
       "      <td>8/1/2019</td>\n",
       "      <td>1</td>\n",
       "      <td>married</td>\n",
       "      <td>49620</td>\n",
       "    </tr>\n",
       "    <tr>\n",
       "      <th>1</th>\n",
       "      <td>1</td>\n",
       "      <td>Chocolate Sandwich Cookies</td>\n",
       "      <td>61</td>\n",
       "      <td>19</td>\n",
       "      <td>5.8</td>\n",
       "      <td>1977647</td>\n",
       "      <td>138</td>\n",
       "      <td>30</td>\n",
       "      <td>6</td>\n",
       "      <td>17</td>\n",
       "      <td>20.0</td>\n",
       "      <td>1</td>\n",
       "      <td>1</td>\n",
       "      <td>both</td>\n",
       "      <td>Mid-range Product</td>\n",
       "      <td>Regularly busy</td>\n",
       "      <td>Regular Busy</td>\n",
       "      <td>Average Orders</td>\n",
       "      <td>32</td>\n",
       "      <td>Regular customer</td>\n",
       "      <td>6.935811</td>\n",
       "      <td>Low Spender</td>\n",
       "      <td>8.0</td>\n",
       "      <td>Frequent Customer</td>\n",
       "      <td>Charles</td>\n",
       "      <td>Cox</td>\n",
       "      <td>Male</td>\n",
       "      <td>Minnesota</td>\n",
       "      <td>81</td>\n",
       "      <td>8/1/2019</td>\n",
       "      <td>1</td>\n",
       "      <td>married</td>\n",
       "      <td>49620</td>\n",
       "    </tr>\n",
       "    <tr>\n",
       "      <th>2</th>\n",
       "      <td>907</td>\n",
       "      <td>Premium Sliced Bacon</td>\n",
       "      <td>106</td>\n",
       "      <td>12</td>\n",
       "      <td>20.0</td>\n",
       "      <td>3160996</td>\n",
       "      <td>138</td>\n",
       "      <td>1</td>\n",
       "      <td>5</td>\n",
       "      <td>13</td>\n",
       "      <td>-1.0</td>\n",
       "      <td>4</td>\n",
       "      <td>0</td>\n",
       "      <td>both</td>\n",
       "      <td>High-range Product</td>\n",
       "      <td>Regularly busy</td>\n",
       "      <td>Regular Busy</td>\n",
       "      <td>Most Orders</td>\n",
       "      <td>32</td>\n",
       "      <td>Regular customer</td>\n",
       "      <td>6.935811</td>\n",
       "      <td>Low Spender</td>\n",
       "      <td>8.0</td>\n",
       "      <td>Frequent Customer</td>\n",
       "      <td>Charles</td>\n",
       "      <td>Cox</td>\n",
       "      <td>Male</td>\n",
       "      <td>Minnesota</td>\n",
       "      <td>81</td>\n",
       "      <td>8/1/2019</td>\n",
       "      <td>1</td>\n",
       "      <td>married</td>\n",
       "      <td>49620</td>\n",
       "    </tr>\n",
       "    <tr>\n",
       "      <th>3</th>\n",
       "      <td>907</td>\n",
       "      <td>Premium Sliced Bacon</td>\n",
       "      <td>106</td>\n",
       "      <td>12</td>\n",
       "      <td>20.0</td>\n",
       "      <td>2254091</td>\n",
       "      <td>138</td>\n",
       "      <td>10</td>\n",
       "      <td>5</td>\n",
       "      <td>14</td>\n",
       "      <td>6.0</td>\n",
       "      <td>1</td>\n",
       "      <td>1</td>\n",
       "      <td>both</td>\n",
       "      <td>High-range Product</td>\n",
       "      <td>Regularly busy</td>\n",
       "      <td>Regular Busy</td>\n",
       "      <td>Most Orders</td>\n",
       "      <td>32</td>\n",
       "      <td>Regular customer</td>\n",
       "      <td>6.935811</td>\n",
       "      <td>Low Spender</td>\n",
       "      <td>8.0</td>\n",
       "      <td>Frequent Customer</td>\n",
       "      <td>Charles</td>\n",
       "      <td>Cox</td>\n",
       "      <td>Male</td>\n",
       "      <td>Minnesota</td>\n",
       "      <td>81</td>\n",
       "      <td>8/1/2019</td>\n",
       "      <td>1</td>\n",
       "      <td>married</td>\n",
       "      <td>49620</td>\n",
       "    </tr>\n",
       "    <tr>\n",
       "      <th>4</th>\n",
       "      <td>1000</td>\n",
       "      <td>Apricots</td>\n",
       "      <td>18</td>\n",
       "      <td>10</td>\n",
       "      <td>12.9</td>\n",
       "      <td>505689</td>\n",
       "      <td>138</td>\n",
       "      <td>9</td>\n",
       "      <td>6</td>\n",
       "      <td>12</td>\n",
       "      <td>7.0</td>\n",
       "      <td>5</td>\n",
       "      <td>0</td>\n",
       "      <td>both</td>\n",
       "      <td>Mid-range Product</td>\n",
       "      <td>Regularly busy</td>\n",
       "      <td>Regular Busy</td>\n",
       "      <td>Most Orders</td>\n",
       "      <td>32</td>\n",
       "      <td>Regular customer</td>\n",
       "      <td>6.935811</td>\n",
       "      <td>Low Spender</td>\n",
       "      <td>8.0</td>\n",
       "      <td>Frequent Customer</td>\n",
       "      <td>Charles</td>\n",
       "      <td>Cox</td>\n",
       "      <td>Male</td>\n",
       "      <td>Minnesota</td>\n",
       "      <td>81</td>\n",
       "      <td>8/1/2019</td>\n",
       "      <td>1</td>\n",
       "      <td>married</td>\n",
       "      <td>49620</td>\n",
       "    </tr>\n",
       "  </tbody>\n",
       "</table>\n",
       "</div>"
      ],
      "text/plain": [
       "   product_id                product_name  aisle_id  department_id  prices  \\\n",
       "0           1  Chocolate Sandwich Cookies        61             19     5.8   \n",
       "1           1  Chocolate Sandwich Cookies        61             19     5.8   \n",
       "2         907        Premium Sliced Bacon       106             12    20.0   \n",
       "3         907        Premium Sliced Bacon       106             12    20.0   \n",
       "4        1000                    Apricots        18             10    12.9   \n",
       "\n",
       "   order_id user_id  order_number  order_day_of_week  order_hour_of_day  \\\n",
       "0   3139998     138            28                  6                 11   \n",
       "1   1977647     138            30                  6                 17   \n",
       "2   3160996     138             1                  5                 13   \n",
       "3   2254091     138            10                  5                 14   \n",
       "4    505689     138             9                  6                 12   \n",
       "\n",
       "   days_since_prior_order  add_to_cart_order  reordered _merge  \\\n",
       "0                     3.0                  5          0   both   \n",
       "1                    20.0                  1          1   both   \n",
       "2                    -1.0                  4          0   both   \n",
       "3                     6.0                  1          1   both   \n",
       "4                     7.0                  5          0   both   \n",
       "\n",
       "      price_range_loc     busiest_day slowest/busiest days  \\\n",
       "0   Mid-range Product  Regularly busy         Regular Busy   \n",
       "1   Mid-range Product  Regularly busy         Regular Busy   \n",
       "2  High-range Product  Regularly busy         Regular Busy   \n",
       "3  High-range Product  Regularly busy         Regular Busy   \n",
       "4   Mid-range Product  Regularly busy         Regular Busy   \n",
       "\n",
       "  busiest_period_of_day  max_order      loyalty_flag  avg_price spending_flag  \\\n",
       "0           Most Orders         32  Regular customer   6.935811   Low Spender   \n",
       "1        Average Orders         32  Regular customer   6.935811   Low Spender   \n",
       "2           Most Orders         32  Regular customer   6.935811   Low Spender   \n",
       "3           Most Orders         32  Regular customer   6.935811   Low Spender   \n",
       "4           Most Orders         32  Regular customer   6.935811   Low Spender   \n",
       "\n",
       "   order_freq     frequency_flag first_name last_name gender      state  age  \\\n",
       "0         8.0  Frequent Customer    Charles       Cox   Male  Minnesota   81   \n",
       "1         8.0  Frequent Customer    Charles       Cox   Male  Minnesota   81   \n",
       "2         8.0  Frequent Customer    Charles       Cox   Male  Minnesota   81   \n",
       "3         8.0  Frequent Customer    Charles       Cox   Male  Minnesota   81   \n",
       "4         8.0  Frequent Customer    Charles       Cox   Male  Minnesota   81   \n",
       "\n",
       "  date_joined  n_dependants fam_status  income  \n",
       "0    8/1/2019             1    married   49620  \n",
       "1    8/1/2019             1    married   49620  \n",
       "2    8/1/2019             1    married   49620  \n",
       "3    8/1/2019             1    married   49620  \n",
       "4    8/1/2019             1    married   49620  "
      ]
     },
     "execution_count": 7,
     "metadata": {},
     "output_type": "execute_result"
    }
   ],
   "source": [
    "df.head()"
   ]
  },
  {
   "cell_type": "markdown",
   "id": "c72e11ed",
   "metadata": {},
   "source": [
    "## Question 2:\n",
    "\n",
    "- Consider any security implications that might exist for this new data. You’ll need to address any PII data in the data before continuing your analysis.\n",
    "\n",
    "I removed the customers' first and last names since they can be traced back to a particular individual. "
   ]
  },
  {
   "cell_type": "code",
   "execution_count": 8,
   "id": "d832f51f",
   "metadata": {},
   "outputs": [],
   "source": [
    "df = df.drop(columns = ['first_name', 'last_name'])"
   ]
  },
  {
   "cell_type": "code",
   "execution_count": 9,
   "id": "ee3fd5d5",
   "metadata": {
    "scrolled": true
   },
   "outputs": [
    {
     "name": "stdout",
     "output_type": "stream",
     "text": [
      "<class 'pandas.core.frame.DataFrame'>\n",
      "Int64Index: 32404859 entries, 0 to 32404858\n",
      "Data columns (total 31 columns):\n",
      " #   Column                  Dtype   \n",
      "---  ------                  -----   \n",
      " 0   product_id              int64   \n",
      " 1   product_name            object  \n",
      " 2   aisle_id                int64   \n",
      " 3   department_id           int64   \n",
      " 4   prices                  float64 \n",
      " 5   order_id                int64   \n",
      " 6   user_id                 object  \n",
      " 7   order_number            int64   \n",
      " 8   order_day_of_week       int64   \n",
      " 9   order_hour_of_day       int64   \n",
      " 10  days_since_prior_order  float64 \n",
      " 11  add_to_cart_order       int64   \n",
      " 12  reordered               int64   \n",
      " 13  _merge                  category\n",
      " 14  price_range_loc         object  \n",
      " 15  busiest_day             object  \n",
      " 16  slowest/busiest days    object  \n",
      " 17  busiest_period_of_day   object  \n",
      " 18  max_order               int64   \n",
      " 19  loyalty_flag            object  \n",
      " 20  avg_price               float64 \n",
      " 21  spending_flag           object  \n",
      " 22  order_freq              float64 \n",
      " 23  frequency_flag          object  \n",
      " 24  gender                  object  \n",
      " 25  state                   object  \n",
      " 26  age                     int64   \n",
      " 27  date_joined             object  \n",
      " 28  n_dependants            int64   \n",
      " 29  fam_status              object  \n",
      " 30  income                  int64   \n",
      "dtypes: category(1), float64(4), int64(13), object(13)\n",
      "memory usage: 7.5+ GB\n"
     ]
    }
   ],
   "source": [
    "# checkign to make sure I have all the columns I need:\n",
    "df.info()"
   ]
  },
  {
   "cell_type": "markdown",
   "id": "0fc5e823",
   "metadata": {},
   "source": [
    "## Question 3:\n",
    "The Instacart officers are interested in comparing customer behavior in different geographic areas. Create a regional segmentation of the data. You’ll need to create a “Region” column based on the “State” column from your customers data set.\n",
    "- Use the region information in this Wikipedia article to create your column (you only need to create regions, not divisions).\n",
    "\n",
    "\n"
   ]
  },
  {
   "cell_type": "code",
   "execution_count": 10,
   "id": "26dcd898",
   "metadata": {},
   "outputs": [],
   "source": [
    "# create an empty list (region) and use a for-loop to assign a label to each row based on the value in the'state' column:\n",
    "region = []\n",
    "\n",
    "for value in df['state']:\n",
    "    if (value in ['Maine', 'New Hampshire', 'Vermont', 'Massachusetts', 'Rhode Island', 'Connecticut', 'New York', 'Pennsylvania', 'New Jersey']): \n",
    "        region.append('Northeast')\n",
    "    elif (value in ['Wisconsin', 'Michigan', 'Illinois', 'Indiana', 'Ohio', 'North Dakota', 'South Dakota', 'Nebraska', 'Kansas', 'Minnesota', 'Iowa', 'Missouri']):\n",
    "        region.append('Midwest')\n",
    "    elif (value in ['Delaware', 'Maryland', 'District of Columbia', 'Virginia', 'West Virginia', 'North Virginia', 'South Carolina', 'Georgia', 'Florida', 'Kentucky', 'Tennessee', 'Mississippi', 'Alabama', 'Oklahoma', 'Texas', 'Arkansas', 'Louisiana']):\n",
    "        region.append('South')\n",
    "    else:\n",
    "        region.append('West')"
   ]
  },
  {
   "cell_type": "code",
   "execution_count": 11,
   "id": "19bb0728",
   "metadata": {},
   "outputs": [],
   "source": [
    "# create a new column in df, named 'region' and assign the values in the region list to it:\n",
    "df['region'] = region"
   ]
  },
  {
   "cell_type": "code",
   "execution_count": 12,
   "id": "9f50105f",
   "metadata": {},
   "outputs": [
    {
     "data": {
      "text/plain": [
       "South        10139985\n",
       "West          8944813\n",
       "Midwest       7597325\n",
       "Northeast     5722736\n",
       "Name: region, dtype: int64"
      ]
     },
     "execution_count": 12,
     "metadata": {},
     "output_type": "execute_result"
    }
   ],
   "source": [
    "# print the value frequencies in the new column:\n",
    "df['region'].value_counts(dropna = False)"
   ]
  },
  {
   "cell_type": "markdown",
   "id": "f5824127",
   "metadata": {},
   "source": [
    "- Determine whether there’s a difference in spending habits between the different U.S. regions. (Hint: You can do this by crossing the variable you just created with the spending flag.)"
   ]
  },
  {
   "cell_type": "code",
   "execution_count": 13,
   "id": "19296dfc",
   "metadata": {},
   "outputs": [],
   "source": [
    "crosstab = pd.crosstab(df['region'], df['spending_flag'], dropna = False)"
   ]
  },
  {
   "cell_type": "code",
   "execution_count": 14,
   "id": "36749b5b",
   "metadata": {},
   "outputs": [],
   "source": [
    "# copy crosstab to clipboard:\n",
    "crosstab.to_clipboard()"
   ]
  },
  {
   "cell_type": "code",
   "execution_count": 15,
   "id": "a00d6c88",
   "metadata": {},
   "outputs": [
    {
     "data": {
      "text/html": [
       "<div>\n",
       "<style scoped>\n",
       "    .dataframe tbody tr th:only-of-type {\n",
       "        vertical-align: middle;\n",
       "    }\n",
       "\n",
       "    .dataframe tbody tr th {\n",
       "        vertical-align: top;\n",
       "    }\n",
       "\n",
       "    .dataframe thead th {\n",
       "        text-align: right;\n",
       "    }\n",
       "</style>\n",
       "<table border=\"1\" class=\"dataframe\">\n",
       "  <thead>\n",
       "    <tr style=\"text-align: right;\">\n",
       "      <th>spending_flag</th>\n",
       "      <th>High Spender</th>\n",
       "      <th>Low Spender</th>\n",
       "    </tr>\n",
       "    <tr>\n",
       "      <th>region</th>\n",
       "      <th></th>\n",
       "      <th></th>\n",
       "    </tr>\n",
       "  </thead>\n",
       "  <tbody>\n",
       "    <tr>\n",
       "      <th>Midwest</th>\n",
       "      <td>155975</td>\n",
       "      <td>7441350</td>\n",
       "    </tr>\n",
       "    <tr>\n",
       "      <th>Northeast</th>\n",
       "      <td>108200</td>\n",
       "      <td>5614536</td>\n",
       "    </tr>\n",
       "    <tr>\n",
       "      <th>South</th>\n",
       "      <td>196609</td>\n",
       "      <td>9943376</td>\n",
       "    </tr>\n",
       "    <tr>\n",
       "      <th>West</th>\n",
       "      <td>173329</td>\n",
       "      <td>8771484</td>\n",
       "    </tr>\n",
       "  </tbody>\n",
       "</table>\n",
       "</div>"
      ],
      "text/plain": [
       "spending_flag  High Spender  Low Spender\n",
       "region                                  \n",
       "Midwest              155975      7441350\n",
       "Northeast            108200      5614536\n",
       "South                196609      9943376\n",
       "West                 173329      8771484"
      ]
     },
     "execution_count": 15,
     "metadata": {},
     "output_type": "execute_result"
    }
   ],
   "source": [
    "crosstab"
   ]
  },
  {
   "cell_type": "code",
   "execution_count": 16,
   "id": "79e76488",
   "metadata": {},
   "outputs": [],
   "source": [
    "# I created a new column 'sum' which shows the total number of customers, Low and High Spenders, in each column in the crosstab table:\n",
    "crosstab['sum'] = crosstab['High Spender'] + crosstab['Low Spender']"
   ]
  },
  {
   "cell_type": "code",
   "execution_count": 17,
   "id": "3619d406",
   "metadata": {
    "scrolled": true
   },
   "outputs": [
    {
     "data": {
      "text/html": [
       "<div>\n",
       "<style scoped>\n",
       "    .dataframe tbody tr th:only-of-type {\n",
       "        vertical-align: middle;\n",
       "    }\n",
       "\n",
       "    .dataframe tbody tr th {\n",
       "        vertical-align: top;\n",
       "    }\n",
       "\n",
       "    .dataframe thead th {\n",
       "        text-align: right;\n",
       "    }\n",
       "</style>\n",
       "<table border=\"1\" class=\"dataframe\">\n",
       "  <thead>\n",
       "    <tr style=\"text-align: right;\">\n",
       "      <th>spending_flag</th>\n",
       "      <th>High Spender</th>\n",
       "      <th>Low Spender</th>\n",
       "      <th>sum</th>\n",
       "    </tr>\n",
       "    <tr>\n",
       "      <th>region</th>\n",
       "      <th></th>\n",
       "      <th></th>\n",
       "      <th></th>\n",
       "    </tr>\n",
       "  </thead>\n",
       "  <tbody>\n",
       "    <tr>\n",
       "      <th>Midwest</th>\n",
       "      <td>155975</td>\n",
       "      <td>7441350</td>\n",
       "      <td>7597325</td>\n",
       "    </tr>\n",
       "    <tr>\n",
       "      <th>Northeast</th>\n",
       "      <td>108200</td>\n",
       "      <td>5614536</td>\n",
       "      <td>5722736</td>\n",
       "    </tr>\n",
       "    <tr>\n",
       "      <th>South</th>\n",
       "      <td>196609</td>\n",
       "      <td>9943376</td>\n",
       "      <td>10139985</td>\n",
       "    </tr>\n",
       "    <tr>\n",
       "      <th>West</th>\n",
       "      <td>173329</td>\n",
       "      <td>8771484</td>\n",
       "      <td>8944813</td>\n",
       "    </tr>\n",
       "  </tbody>\n",
       "</table>\n",
       "</div>"
      ],
      "text/plain": [
       "spending_flag  High Spender  Low Spender       sum\n",
       "region                                            \n",
       "Midwest              155975      7441350   7597325\n",
       "Northeast            108200      5614536   5722736\n",
       "South                196609      9943376  10139985\n",
       "West                 173329      8771484   8944813"
      ]
     },
     "execution_count": 17,
     "metadata": {},
     "output_type": "execute_result"
    }
   ],
   "source": [
    "crosstab"
   ]
  },
  {
   "cell_type": "markdown",
   "id": "2e2b9f42",
   "metadata": {},
   "source": [
    "Based on the crosstab results of region and spending_flad columns: the South and West regions have the highest total number of customers, with the south having more than 10 million records (transactions) in this dataframe followed by the West with almost 9 million. \n",
    "The South and West regions have the highest number of High Spenders AND Low Spenders. The Northeast has the lowest number of High and Low Spenders. \n",
    "This can be considered a trend in the spending habits of Instacart customers, but also partially due to the number of states in each of these regions. \n",
    "For example the Northeast region includes 9 states where as the South region includes 17 and the West includes 13 states. "
   ]
  },
  {
   "cell_type": "markdown",
   "id": "f217f950",
   "metadata": {},
   "source": [
    "## Question 4:\n",
    "\n",
    "- The Instacart CFO isn’t interested in customers who don’t generate much revenue for the app. Create an exclusion flag for low-activity customers (customers with less than 5 orders) and exclude them from the data. Make sure you export this sample."
   ]
  },
  {
   "cell_type": "code",
   "execution_count": 18,
   "id": "4bd4ac62",
   "metadata": {},
   "outputs": [],
   "source": [
    "# creating a new column, 'activity_flag', that taks the values 'High Activity' and 'Low Activity' for above and under 5 orders:\n",
    "df.loc[df['order_number'] >= 5, 'activity_flag'] = 'High Activity'"
   ]
  },
  {
   "cell_type": "code",
   "execution_count": 19,
   "id": "3e30b3f6",
   "metadata": {},
   "outputs": [],
   "source": [
    "df.loc[df['order_number'] < 5, 'activity_flag'] = 'Low Activity'"
   ]
  },
  {
   "cell_type": "code",
   "execution_count": 20,
   "id": "b7aa0af7",
   "metadata": {},
   "outputs": [
    {
     "data": {
      "text/plain": [
       "High Activity    24414877\n",
       "Low Activity      7989982\n",
       "Name: activity_flag, dtype: int64"
      ]
     },
     "execution_count": 20,
     "metadata": {},
     "output_type": "execute_result"
    }
   ],
   "source": [
    "# counting the frequencies in the new flag column:\n",
    "df['activity_flag'].value_counts(dropna = False)"
   ]
  },
  {
   "cell_type": "code",
   "execution_count": 21,
   "id": "cce2875a",
   "metadata": {},
   "outputs": [],
   "source": [
    "# exporting the dataframe with customers labeled as 'Low Activity':\n",
    "df_low_activity = df[df['activity_flag'] == 'Low Activity']"
   ]
  },
  {
   "cell_type": "code",
   "execution_count": 22,
   "id": "a63edf9d",
   "metadata": {
    "scrolled": true
   },
   "outputs": [
    {
     "data": {
      "text/html": [
       "<div>\n",
       "<style scoped>\n",
       "    .dataframe tbody tr th:only-of-type {\n",
       "        vertical-align: middle;\n",
       "    }\n",
       "\n",
       "    .dataframe tbody tr th {\n",
       "        vertical-align: top;\n",
       "    }\n",
       "\n",
       "    .dataframe thead th {\n",
       "        text-align: right;\n",
       "    }\n",
       "</style>\n",
       "<table border=\"1\" class=\"dataframe\">\n",
       "  <thead>\n",
       "    <tr style=\"text-align: right;\">\n",
       "      <th></th>\n",
       "      <th>product_id</th>\n",
       "      <th>product_name</th>\n",
       "      <th>aisle_id</th>\n",
       "      <th>department_id</th>\n",
       "      <th>prices</th>\n",
       "      <th>order_id</th>\n",
       "      <th>user_id</th>\n",
       "      <th>order_number</th>\n",
       "      <th>order_day_of_week</th>\n",
       "      <th>order_hour_of_day</th>\n",
       "      <th>days_since_prior_order</th>\n",
       "      <th>add_to_cart_order</th>\n",
       "      <th>reordered</th>\n",
       "      <th>_merge</th>\n",
       "      <th>price_range_loc</th>\n",
       "      <th>busiest_day</th>\n",
       "      <th>slowest/busiest days</th>\n",
       "      <th>busiest_period_of_day</th>\n",
       "      <th>max_order</th>\n",
       "      <th>loyalty_flag</th>\n",
       "      <th>avg_price</th>\n",
       "      <th>spending_flag</th>\n",
       "      <th>order_freq</th>\n",
       "      <th>frequency_flag</th>\n",
       "      <th>gender</th>\n",
       "      <th>state</th>\n",
       "      <th>age</th>\n",
       "      <th>date_joined</th>\n",
       "      <th>n_dependants</th>\n",
       "      <th>fam_status</th>\n",
       "      <th>income</th>\n",
       "      <th>region</th>\n",
       "      <th>activity_flag</th>\n",
       "    </tr>\n",
       "  </thead>\n",
       "  <tbody>\n",
       "    <tr>\n",
       "      <th>2</th>\n",
       "      <td>907</td>\n",
       "      <td>Premium Sliced Bacon</td>\n",
       "      <td>106</td>\n",
       "      <td>12</td>\n",
       "      <td>20.0</td>\n",
       "      <td>3160996</td>\n",
       "      <td>138</td>\n",
       "      <td>1</td>\n",
       "      <td>5</td>\n",
       "      <td>13</td>\n",
       "      <td>-1.0</td>\n",
       "      <td>4</td>\n",
       "      <td>0</td>\n",
       "      <td>both</td>\n",
       "      <td>High-range Product</td>\n",
       "      <td>Regularly busy</td>\n",
       "      <td>Regular Busy</td>\n",
       "      <td>Most Orders</td>\n",
       "      <td>32</td>\n",
       "      <td>Regular customer</td>\n",
       "      <td>6.935811</td>\n",
       "      <td>Low Spender</td>\n",
       "      <td>8.0</td>\n",
       "      <td>Frequent Customer</td>\n",
       "      <td>Male</td>\n",
       "      <td>Minnesota</td>\n",
       "      <td>81</td>\n",
       "      <td>8/1/2019</td>\n",
       "      <td>1</td>\n",
       "      <td>married</td>\n",
       "      <td>49620</td>\n",
       "      <td>Midwest</td>\n",
       "      <td>Low Activity</td>\n",
       "    </tr>\n",
       "    <tr>\n",
       "      <th>9</th>\n",
       "      <td>7147</td>\n",
       "      <td>Classic Baby Creamers Potatoes</td>\n",
       "      <td>83</td>\n",
       "      <td>4</td>\n",
       "      <td>9.0</td>\n",
       "      <td>930730</td>\n",
       "      <td>138</td>\n",
       "      <td>2</td>\n",
       "      <td>0</td>\n",
       "      <td>12</td>\n",
       "      <td>9.0</td>\n",
       "      <td>3</td>\n",
       "      <td>0</td>\n",
       "      <td>both</td>\n",
       "      <td>Mid-range Product</td>\n",
       "      <td>Busiest day</td>\n",
       "      <td>Buesiest Day</td>\n",
       "      <td>Most Orders</td>\n",
       "      <td>32</td>\n",
       "      <td>Regular customer</td>\n",
       "      <td>6.935811</td>\n",
       "      <td>Low Spender</td>\n",
       "      <td>8.0</td>\n",
       "      <td>Frequent Customer</td>\n",
       "      <td>Male</td>\n",
       "      <td>Minnesota</td>\n",
       "      <td>81</td>\n",
       "      <td>8/1/2019</td>\n",
       "      <td>1</td>\n",
       "      <td>married</td>\n",
       "      <td>49620</td>\n",
       "      <td>Midwest</td>\n",
       "      <td>Low Activity</td>\n",
       "    </tr>\n",
       "    <tr>\n",
       "      <th>11</th>\n",
       "      <td>8048</td>\n",
       "      <td>Packaged Grape Tomatoes</td>\n",
       "      <td>32</td>\n",
       "      <td>4</td>\n",
       "      <td>11.4</td>\n",
       "      <td>930730</td>\n",
       "      <td>138</td>\n",
       "      <td>2</td>\n",
       "      <td>0</td>\n",
       "      <td>12</td>\n",
       "      <td>9.0</td>\n",
       "      <td>7</td>\n",
       "      <td>0</td>\n",
       "      <td>both</td>\n",
       "      <td>Mid-range Product</td>\n",
       "      <td>Busiest day</td>\n",
       "      <td>Buesiest Day</td>\n",
       "      <td>Most Orders</td>\n",
       "      <td>32</td>\n",
       "      <td>Regular customer</td>\n",
       "      <td>6.935811</td>\n",
       "      <td>Low Spender</td>\n",
       "      <td>8.0</td>\n",
       "      <td>Frequent Customer</td>\n",
       "      <td>Male</td>\n",
       "      <td>Minnesota</td>\n",
       "      <td>81</td>\n",
       "      <td>8/1/2019</td>\n",
       "      <td>1</td>\n",
       "      <td>married</td>\n",
       "      <td>49620</td>\n",
       "      <td>Midwest</td>\n",
       "      <td>Low Activity</td>\n",
       "    </tr>\n",
       "    <tr>\n",
       "      <th>12</th>\n",
       "      <td>8048</td>\n",
       "      <td>Packaged Grape Tomatoes</td>\n",
       "      <td>32</td>\n",
       "      <td>4</td>\n",
       "      <td>11.4</td>\n",
       "      <td>1421595</td>\n",
       "      <td>138</td>\n",
       "      <td>3</td>\n",
       "      <td>2</td>\n",
       "      <td>9</td>\n",
       "      <td>9.0</td>\n",
       "      <td>3</td>\n",
       "      <td>1</td>\n",
       "      <td>both</td>\n",
       "      <td>Mid-range Product</td>\n",
       "      <td>Regularly busy</td>\n",
       "      <td>Regular Busy</td>\n",
       "      <td>Average Orders</td>\n",
       "      <td>32</td>\n",
       "      <td>Regular customer</td>\n",
       "      <td>6.935811</td>\n",
       "      <td>Low Spender</td>\n",
       "      <td>8.0</td>\n",
       "      <td>Frequent Customer</td>\n",
       "      <td>Male</td>\n",
       "      <td>Minnesota</td>\n",
       "      <td>81</td>\n",
       "      <td>8/1/2019</td>\n",
       "      <td>1</td>\n",
       "      <td>married</td>\n",
       "      <td>49620</td>\n",
       "      <td>Midwest</td>\n",
       "      <td>Low Activity</td>\n",
       "    </tr>\n",
       "    <tr>\n",
       "      <th>13</th>\n",
       "      <td>10473</td>\n",
       "      <td>Half And Half Cream</td>\n",
       "      <td>53</td>\n",
       "      <td>16</td>\n",
       "      <td>7.0</td>\n",
       "      <td>3160996</td>\n",
       "      <td>138</td>\n",
       "      <td>1</td>\n",
       "      <td>5</td>\n",
       "      <td>13</td>\n",
       "      <td>-1.0</td>\n",
       "      <td>6</td>\n",
       "      <td>0</td>\n",
       "      <td>both</td>\n",
       "      <td>Mid-range Product</td>\n",
       "      <td>Regularly busy</td>\n",
       "      <td>Regular Busy</td>\n",
       "      <td>Most Orders</td>\n",
       "      <td>32</td>\n",
       "      <td>Regular customer</td>\n",
       "      <td>6.935811</td>\n",
       "      <td>Low Spender</td>\n",
       "      <td>8.0</td>\n",
       "      <td>Frequent Customer</td>\n",
       "      <td>Male</td>\n",
       "      <td>Minnesota</td>\n",
       "      <td>81</td>\n",
       "      <td>8/1/2019</td>\n",
       "      <td>1</td>\n",
       "      <td>married</td>\n",
       "      <td>49620</td>\n",
       "      <td>Midwest</td>\n",
       "      <td>Low Activity</td>\n",
       "    </tr>\n",
       "  </tbody>\n",
       "</table>\n",
       "</div>"
      ],
      "text/plain": [
       "    product_id                    product_name  aisle_id  department_id  \\\n",
       "2          907            Premium Sliced Bacon       106             12   \n",
       "9         7147  Classic Baby Creamers Potatoes        83              4   \n",
       "11        8048         Packaged Grape Tomatoes        32              4   \n",
       "12        8048         Packaged Grape Tomatoes        32              4   \n",
       "13       10473             Half And Half Cream        53             16   \n",
       "\n",
       "    prices  order_id user_id  order_number  order_day_of_week  \\\n",
       "2     20.0   3160996     138             1                  5   \n",
       "9      9.0    930730     138             2                  0   \n",
       "11    11.4    930730     138             2                  0   \n",
       "12    11.4   1421595     138             3                  2   \n",
       "13     7.0   3160996     138             1                  5   \n",
       "\n",
       "    order_hour_of_day  days_since_prior_order  add_to_cart_order  reordered  \\\n",
       "2                  13                    -1.0                  4          0   \n",
       "9                  12                     9.0                  3          0   \n",
       "11                 12                     9.0                  7          0   \n",
       "12                  9                     9.0                  3          1   \n",
       "13                 13                    -1.0                  6          0   \n",
       "\n",
       "   _merge     price_range_loc     busiest_day slowest/busiest days  \\\n",
       "2    both  High-range Product  Regularly busy         Regular Busy   \n",
       "9    both   Mid-range Product     Busiest day         Buesiest Day   \n",
       "11   both   Mid-range Product     Busiest day         Buesiest Day   \n",
       "12   both   Mid-range Product  Regularly busy         Regular Busy   \n",
       "13   both   Mid-range Product  Regularly busy         Regular Busy   \n",
       "\n",
       "   busiest_period_of_day  max_order      loyalty_flag  avg_price  \\\n",
       "2            Most Orders         32  Regular customer   6.935811   \n",
       "9            Most Orders         32  Regular customer   6.935811   \n",
       "11           Most Orders         32  Regular customer   6.935811   \n",
       "12        Average Orders         32  Regular customer   6.935811   \n",
       "13           Most Orders         32  Regular customer   6.935811   \n",
       "\n",
       "   spending_flag  order_freq     frequency_flag gender      state  age  \\\n",
       "2    Low Spender         8.0  Frequent Customer   Male  Minnesota   81   \n",
       "9    Low Spender         8.0  Frequent Customer   Male  Minnesota   81   \n",
       "11   Low Spender         8.0  Frequent Customer   Male  Minnesota   81   \n",
       "12   Low Spender         8.0  Frequent Customer   Male  Minnesota   81   \n",
       "13   Low Spender         8.0  Frequent Customer   Male  Minnesota   81   \n",
       "\n",
       "   date_joined  n_dependants fam_status  income   region activity_flag  \n",
       "2     8/1/2019             1    married   49620  Midwest  Low Activity  \n",
       "9     8/1/2019             1    married   49620  Midwest  Low Activity  \n",
       "11    8/1/2019             1    married   49620  Midwest  Low Activity  \n",
       "12    8/1/2019             1    married   49620  Midwest  Low Activity  \n",
       "13    8/1/2019             1    married   49620  Midwest  Low Activity  "
      ]
     },
     "execution_count": 22,
     "metadata": {},
     "output_type": "execute_result"
    }
   ],
   "source": [
    "df_low_activity.head()"
   ]
  },
  {
   "cell_type": "code",
   "execution_count": 23,
   "id": "ca460acb",
   "metadata": {},
   "outputs": [],
   "source": [
    "# export the data frame with low-activity customers:\n",
    "df_low_activity.to_pickle(os.path.join(path, '02 Data', 'Prepared Data', 'df_low_activity.pkl'))"
   ]
  },
  {
   "cell_type": "code",
   "execution_count": 24,
   "id": "f4b938a9",
   "metadata": {},
   "outputs": [],
   "source": [
    "# exporting the dataframe with customers labeled as 'High Activity':\n",
    "df_high_activity = df[df['activity_flag'] == 'High Activity']"
   ]
  },
  {
   "cell_type": "code",
   "execution_count": 25,
   "id": "d86278fd",
   "metadata": {},
   "outputs": [
    {
     "data": {
      "text/html": [
       "<div>\n",
       "<style scoped>\n",
       "    .dataframe tbody tr th:only-of-type {\n",
       "        vertical-align: middle;\n",
       "    }\n",
       "\n",
       "    .dataframe tbody tr th {\n",
       "        vertical-align: top;\n",
       "    }\n",
       "\n",
       "    .dataframe thead th {\n",
       "        text-align: right;\n",
       "    }\n",
       "</style>\n",
       "<table border=\"1\" class=\"dataframe\">\n",
       "  <thead>\n",
       "    <tr style=\"text-align: right;\">\n",
       "      <th></th>\n",
       "      <th>product_id</th>\n",
       "      <th>product_name</th>\n",
       "      <th>aisle_id</th>\n",
       "      <th>department_id</th>\n",
       "      <th>prices</th>\n",
       "      <th>order_id</th>\n",
       "      <th>user_id</th>\n",
       "      <th>order_number</th>\n",
       "      <th>order_day_of_week</th>\n",
       "      <th>order_hour_of_day</th>\n",
       "      <th>days_since_prior_order</th>\n",
       "      <th>add_to_cart_order</th>\n",
       "      <th>reordered</th>\n",
       "      <th>_merge</th>\n",
       "      <th>price_range_loc</th>\n",
       "      <th>busiest_day</th>\n",
       "      <th>slowest/busiest days</th>\n",
       "      <th>busiest_period_of_day</th>\n",
       "      <th>max_order</th>\n",
       "      <th>loyalty_flag</th>\n",
       "      <th>avg_price</th>\n",
       "      <th>spending_flag</th>\n",
       "      <th>order_freq</th>\n",
       "      <th>frequency_flag</th>\n",
       "      <th>gender</th>\n",
       "      <th>state</th>\n",
       "      <th>age</th>\n",
       "      <th>date_joined</th>\n",
       "      <th>n_dependants</th>\n",
       "      <th>fam_status</th>\n",
       "      <th>income</th>\n",
       "      <th>region</th>\n",
       "      <th>activity_flag</th>\n",
       "    </tr>\n",
       "  </thead>\n",
       "  <tbody>\n",
       "    <tr>\n",
       "      <th>0</th>\n",
       "      <td>1</td>\n",
       "      <td>Chocolate Sandwich Cookies</td>\n",
       "      <td>61</td>\n",
       "      <td>19</td>\n",
       "      <td>5.8</td>\n",
       "      <td>3139998</td>\n",
       "      <td>138</td>\n",
       "      <td>28</td>\n",
       "      <td>6</td>\n",
       "      <td>11</td>\n",
       "      <td>3.0</td>\n",
       "      <td>5</td>\n",
       "      <td>0</td>\n",
       "      <td>both</td>\n",
       "      <td>Mid-range Product</td>\n",
       "      <td>Regularly busy</td>\n",
       "      <td>Regular Busy</td>\n",
       "      <td>Most Orders</td>\n",
       "      <td>32</td>\n",
       "      <td>Regular customer</td>\n",
       "      <td>6.935811</td>\n",
       "      <td>Low Spender</td>\n",
       "      <td>8.0</td>\n",
       "      <td>Frequent Customer</td>\n",
       "      <td>Male</td>\n",
       "      <td>Minnesota</td>\n",
       "      <td>81</td>\n",
       "      <td>8/1/2019</td>\n",
       "      <td>1</td>\n",
       "      <td>married</td>\n",
       "      <td>49620</td>\n",
       "      <td>Midwest</td>\n",
       "      <td>High Activity</td>\n",
       "    </tr>\n",
       "    <tr>\n",
       "      <th>1</th>\n",
       "      <td>1</td>\n",
       "      <td>Chocolate Sandwich Cookies</td>\n",
       "      <td>61</td>\n",
       "      <td>19</td>\n",
       "      <td>5.8</td>\n",
       "      <td>1977647</td>\n",
       "      <td>138</td>\n",
       "      <td>30</td>\n",
       "      <td>6</td>\n",
       "      <td>17</td>\n",
       "      <td>20.0</td>\n",
       "      <td>1</td>\n",
       "      <td>1</td>\n",
       "      <td>both</td>\n",
       "      <td>Mid-range Product</td>\n",
       "      <td>Regularly busy</td>\n",
       "      <td>Regular Busy</td>\n",
       "      <td>Average Orders</td>\n",
       "      <td>32</td>\n",
       "      <td>Regular customer</td>\n",
       "      <td>6.935811</td>\n",
       "      <td>Low Spender</td>\n",
       "      <td>8.0</td>\n",
       "      <td>Frequent Customer</td>\n",
       "      <td>Male</td>\n",
       "      <td>Minnesota</td>\n",
       "      <td>81</td>\n",
       "      <td>8/1/2019</td>\n",
       "      <td>1</td>\n",
       "      <td>married</td>\n",
       "      <td>49620</td>\n",
       "      <td>Midwest</td>\n",
       "      <td>High Activity</td>\n",
       "    </tr>\n",
       "    <tr>\n",
       "      <th>3</th>\n",
       "      <td>907</td>\n",
       "      <td>Premium Sliced Bacon</td>\n",
       "      <td>106</td>\n",
       "      <td>12</td>\n",
       "      <td>20.0</td>\n",
       "      <td>2254091</td>\n",
       "      <td>138</td>\n",
       "      <td>10</td>\n",
       "      <td>5</td>\n",
       "      <td>14</td>\n",
       "      <td>6.0</td>\n",
       "      <td>1</td>\n",
       "      <td>1</td>\n",
       "      <td>both</td>\n",
       "      <td>High-range Product</td>\n",
       "      <td>Regularly busy</td>\n",
       "      <td>Regular Busy</td>\n",
       "      <td>Most Orders</td>\n",
       "      <td>32</td>\n",
       "      <td>Regular customer</td>\n",
       "      <td>6.935811</td>\n",
       "      <td>Low Spender</td>\n",
       "      <td>8.0</td>\n",
       "      <td>Frequent Customer</td>\n",
       "      <td>Male</td>\n",
       "      <td>Minnesota</td>\n",
       "      <td>81</td>\n",
       "      <td>8/1/2019</td>\n",
       "      <td>1</td>\n",
       "      <td>married</td>\n",
       "      <td>49620</td>\n",
       "      <td>Midwest</td>\n",
       "      <td>High Activity</td>\n",
       "    </tr>\n",
       "    <tr>\n",
       "      <th>4</th>\n",
       "      <td>1000</td>\n",
       "      <td>Apricots</td>\n",
       "      <td>18</td>\n",
       "      <td>10</td>\n",
       "      <td>12.9</td>\n",
       "      <td>505689</td>\n",
       "      <td>138</td>\n",
       "      <td>9</td>\n",
       "      <td>6</td>\n",
       "      <td>12</td>\n",
       "      <td>7.0</td>\n",
       "      <td>5</td>\n",
       "      <td>0</td>\n",
       "      <td>both</td>\n",
       "      <td>Mid-range Product</td>\n",
       "      <td>Regularly busy</td>\n",
       "      <td>Regular Busy</td>\n",
       "      <td>Most Orders</td>\n",
       "      <td>32</td>\n",
       "      <td>Regular customer</td>\n",
       "      <td>6.935811</td>\n",
       "      <td>Low Spender</td>\n",
       "      <td>8.0</td>\n",
       "      <td>Frequent Customer</td>\n",
       "      <td>Male</td>\n",
       "      <td>Minnesota</td>\n",
       "      <td>81</td>\n",
       "      <td>8/1/2019</td>\n",
       "      <td>1</td>\n",
       "      <td>married</td>\n",
       "      <td>49620</td>\n",
       "      <td>Midwest</td>\n",
       "      <td>High Activity</td>\n",
       "    </tr>\n",
       "    <tr>\n",
       "      <th>5</th>\n",
       "      <td>3265</td>\n",
       "      <td>Mini Seedless Watermelon Pack</td>\n",
       "      <td>32</td>\n",
       "      <td>4</td>\n",
       "      <td>1.7</td>\n",
       "      <td>960220</td>\n",
       "      <td>138</td>\n",
       "      <td>17</td>\n",
       "      <td>5</td>\n",
       "      <td>14</td>\n",
       "      <td>19.0</td>\n",
       "      <td>1</td>\n",
       "      <td>0</td>\n",
       "      <td>both</td>\n",
       "      <td>Low-range Product</td>\n",
       "      <td>Regularly busy</td>\n",
       "      <td>Regular Busy</td>\n",
       "      <td>Most Orders</td>\n",
       "      <td>32</td>\n",
       "      <td>Regular customer</td>\n",
       "      <td>6.935811</td>\n",
       "      <td>Low Spender</td>\n",
       "      <td>8.0</td>\n",
       "      <td>Frequent Customer</td>\n",
       "      <td>Male</td>\n",
       "      <td>Minnesota</td>\n",
       "      <td>81</td>\n",
       "      <td>8/1/2019</td>\n",
       "      <td>1</td>\n",
       "      <td>married</td>\n",
       "      <td>49620</td>\n",
       "      <td>Midwest</td>\n",
       "      <td>High Activity</td>\n",
       "    </tr>\n",
       "  </tbody>\n",
       "</table>\n",
       "</div>"
      ],
      "text/plain": [
       "   product_id                   product_name  aisle_id  department_id  prices  \\\n",
       "0           1     Chocolate Sandwich Cookies        61             19     5.8   \n",
       "1           1     Chocolate Sandwich Cookies        61             19     5.8   \n",
       "3         907           Premium Sliced Bacon       106             12    20.0   \n",
       "4        1000                       Apricots        18             10    12.9   \n",
       "5        3265  Mini Seedless Watermelon Pack        32              4     1.7   \n",
       "\n",
       "   order_id user_id  order_number  order_day_of_week  order_hour_of_day  \\\n",
       "0   3139998     138            28                  6                 11   \n",
       "1   1977647     138            30                  6                 17   \n",
       "3   2254091     138            10                  5                 14   \n",
       "4    505689     138             9                  6                 12   \n",
       "5    960220     138            17                  5                 14   \n",
       "\n",
       "   days_since_prior_order  add_to_cart_order  reordered _merge  \\\n",
       "0                     3.0                  5          0   both   \n",
       "1                    20.0                  1          1   both   \n",
       "3                     6.0                  1          1   both   \n",
       "4                     7.0                  5          0   both   \n",
       "5                    19.0                  1          0   both   \n",
       "\n",
       "      price_range_loc     busiest_day slowest/busiest days  \\\n",
       "0   Mid-range Product  Regularly busy         Regular Busy   \n",
       "1   Mid-range Product  Regularly busy         Regular Busy   \n",
       "3  High-range Product  Regularly busy         Regular Busy   \n",
       "4   Mid-range Product  Regularly busy         Regular Busy   \n",
       "5   Low-range Product  Regularly busy         Regular Busy   \n",
       "\n",
       "  busiest_period_of_day  max_order      loyalty_flag  avg_price spending_flag  \\\n",
       "0           Most Orders         32  Regular customer   6.935811   Low Spender   \n",
       "1        Average Orders         32  Regular customer   6.935811   Low Spender   \n",
       "3           Most Orders         32  Regular customer   6.935811   Low Spender   \n",
       "4           Most Orders         32  Regular customer   6.935811   Low Spender   \n",
       "5           Most Orders         32  Regular customer   6.935811   Low Spender   \n",
       "\n",
       "   order_freq     frequency_flag gender      state  age date_joined  \\\n",
       "0         8.0  Frequent Customer   Male  Minnesota   81    8/1/2019   \n",
       "1         8.0  Frequent Customer   Male  Minnesota   81    8/1/2019   \n",
       "3         8.0  Frequent Customer   Male  Minnesota   81    8/1/2019   \n",
       "4         8.0  Frequent Customer   Male  Minnesota   81    8/1/2019   \n",
       "5         8.0  Frequent Customer   Male  Minnesota   81    8/1/2019   \n",
       "\n",
       "   n_dependants fam_status  income   region  activity_flag  \n",
       "0             1    married   49620  Midwest  High Activity  \n",
       "1             1    married   49620  Midwest  High Activity  \n",
       "3             1    married   49620  Midwest  High Activity  \n",
       "4             1    married   49620  Midwest  High Activity  \n",
       "5             1    married   49620  Midwest  High Activity  "
      ]
     },
     "execution_count": 25,
     "metadata": {},
     "output_type": "execute_result"
    }
   ],
   "source": [
    "df_high_activity.head()"
   ]
  },
  {
   "cell_type": "code",
   "execution_count": 26,
   "id": "5939d54f",
   "metadata": {},
   "outputs": [],
   "source": [
    "# export the data frame with high-activity customers:\n",
    "df_high_activity.to_pickle(os.path.join(path, '02 Data', 'Prepared Data', 'df_high_activity.pkl'))"
   ]
  },
  {
   "cell_type": "markdown",
   "id": "c7ad06f4",
   "metadata": {},
   "source": [
    "- I am keeping my original dataframe that includes all (low and high activity customers) and have exported all the files; Moving forward I'd be conducting all my analysis on the df_high_activity dataframe."
   ]
  },
  {
   "cell_type": "markdown",
   "id": "8ae8c49c",
   "metadata": {},
   "source": [
    "## Question 5:\n",
    "\n",
    "- The marketing and business strategy units at Instacart want to create more-relevant marketing strategies for different products and are, thus, curious about customer profiling in their database. Create a profiling variable based on age, income, certain goods in the “department_id” column, and number of dependents. You might also use the “orders_day_of_the_week” and “order_hour_of_day” columns if you can think of a way they would impact customer profiles. (Hint: As an example, try thinking of what characteristics would lead you to the profile “Single adult” or “Young parent.”)\n",
    "\n",
    "For the purpose of customer profiling in this section, I took the following steps:\n",
    "\n",
    "- crosstab_2: fam_status & department_id\n",
    "- crosstab_3: fam_status & order_day_of_week\n",
    "- crosstab_4: gender & order_day_of_week\n",
    "- crosstab_5: income_flag & order_number\n",
    "- crosstab_6: prices & income_flag\n",
    "- crosstab_7: prices & department_id"
   ]
  },
  {
   "cell_type": "code",
   "execution_count": 27,
   "id": "b2a6e589",
   "metadata": {},
   "outputs": [],
   "source": [
    "# investigating family status and the department_id crosstab (in high activity customer set):\n",
    "crosstab_2 = pd.crosstab(df_high_activity['fam_status'], df_high_activity['department_id'], dropna = False)"
   ]
  },
  {
   "cell_type": "code",
   "execution_count": 28,
   "id": "7c69df70",
   "metadata": {},
   "outputs": [],
   "source": [
    "crosstab_2.to_clipboard()"
   ]
  },
  {
   "cell_type": "code",
   "execution_count": 29,
   "id": "16cda1f2",
   "metadata": {},
   "outputs": [
    {
     "data": {
      "text/html": [
       "<div>\n",
       "<style scoped>\n",
       "    .dataframe tbody tr th:only-of-type {\n",
       "        vertical-align: middle;\n",
       "    }\n",
       "\n",
       "    .dataframe tbody tr th {\n",
       "        vertical-align: top;\n",
       "    }\n",
       "\n",
       "    .dataframe thead th {\n",
       "        text-align: right;\n",
       "    }\n",
       "</style>\n",
       "<table border=\"1\" class=\"dataframe\">\n",
       "  <thead>\n",
       "    <tr style=\"text-align: right;\">\n",
       "      <th>department_id</th>\n",
       "      <th>1</th>\n",
       "      <th>2</th>\n",
       "      <th>3</th>\n",
       "      <th>4</th>\n",
       "      <th>5</th>\n",
       "      <th>6</th>\n",
       "      <th>7</th>\n",
       "      <th>8</th>\n",
       "      <th>9</th>\n",
       "      <th>10</th>\n",
       "      <th>11</th>\n",
       "      <th>12</th>\n",
       "      <th>13</th>\n",
       "      <th>14</th>\n",
       "      <th>15</th>\n",
       "      <th>16</th>\n",
       "      <th>17</th>\n",
       "      <th>18</th>\n",
       "      <th>19</th>\n",
       "      <th>20</th>\n",
       "      <th>21</th>\n",
       "    </tr>\n",
       "    <tr>\n",
       "      <th>fam_status</th>\n",
       "      <th></th>\n",
       "      <th></th>\n",
       "      <th></th>\n",
       "      <th></th>\n",
       "      <th></th>\n",
       "      <th></th>\n",
       "      <th></th>\n",
       "      <th></th>\n",
       "      <th></th>\n",
       "      <th></th>\n",
       "      <th></th>\n",
       "      <th></th>\n",
       "      <th></th>\n",
       "      <th></th>\n",
       "      <th></th>\n",
       "      <th></th>\n",
       "      <th></th>\n",
       "      <th></th>\n",
       "      <th></th>\n",
       "      <th></th>\n",
       "      <th></th>\n",
       "    </tr>\n",
       "  </thead>\n",
       "  <tbody>\n",
       "    <tr>\n",
       "      <th>divorced/widowed</th>\n",
       "      <td>141623</td>\n",
       "      <td>2267</td>\n",
       "      <td>75587</td>\n",
       "      <td>619577</td>\n",
       "      <td>8936</td>\n",
       "      <td>16965</td>\n",
       "      <td>175452</td>\n",
       "      <td>6262</td>\n",
       "      <td>54174</td>\n",
       "      <td>2213</td>\n",
       "      <td>28189</td>\n",
       "      <td>44554</td>\n",
       "      <td>118637</td>\n",
       "      <td>44414</td>\n",
       "      <td>65423</td>\n",
       "      <td>352593</td>\n",
       "      <td>45168</td>\n",
       "      <td>27775</td>\n",
       "      <td>186821</td>\n",
       "      <td>68073</td>\n",
       "      <td>4509</td>\n",
       "    </tr>\n",
       "    <tr>\n",
       "      <th>living with parents and siblings</th>\n",
       "      <td>79512</td>\n",
       "      <td>1460</td>\n",
       "      <td>42543</td>\n",
       "      <td>343702</td>\n",
       "      <td>6284</td>\n",
       "      <td>9659</td>\n",
       "      <td>94324</td>\n",
       "      <td>4190</td>\n",
       "      <td>30606</td>\n",
       "      <td>1347</td>\n",
       "      <td>15627</td>\n",
       "      <td>25251</td>\n",
       "      <td>67169</td>\n",
       "      <td>26224</td>\n",
       "      <td>37784</td>\n",
       "      <td>199894</td>\n",
       "      <td>25796</td>\n",
       "      <td>15595</td>\n",
       "      <td>103918</td>\n",
       "      <td>37543</td>\n",
       "      <td>2971</td>\n",
       "    </tr>\n",
       "    <tr>\n",
       "      <th>married</th>\n",
       "      <td>1142589</td>\n",
       "      <td>18771</td>\n",
       "      <td>619188</td>\n",
       "      <td>5070504</td>\n",
       "      <td>73729</td>\n",
       "      <td>138203</td>\n",
       "      <td>1430068</td>\n",
       "      <td>49671</td>\n",
       "      <td>445705</td>\n",
       "      <td>19626</td>\n",
       "      <td>230492</td>\n",
       "      <td>370433</td>\n",
       "      <td>972888</td>\n",
       "      <td>368561</td>\n",
       "      <td>554557</td>\n",
       "      <td>2890356</td>\n",
       "      <td>381394</td>\n",
       "      <td>236039</td>\n",
       "      <td>1537764</td>\n",
       "      <td>547474</td>\n",
       "      <td>40464</td>\n",
       "    </tr>\n",
       "    <tr>\n",
       "      <th>single</th>\n",
       "      <td>263890</td>\n",
       "      <td>4668</td>\n",
       "      <td>146012</td>\n",
       "      <td>1193308</td>\n",
       "      <td>19023</td>\n",
       "      <td>33073</td>\n",
       "      <td>336603</td>\n",
       "      <td>11988</td>\n",
       "      <td>103240</td>\n",
       "      <td>4372</td>\n",
       "      <td>54172</td>\n",
       "      <td>83652</td>\n",
       "      <td>226681</td>\n",
       "      <td>85746</td>\n",
       "      <td>130026</td>\n",
       "      <td>677645</td>\n",
       "      <td>86991</td>\n",
       "      <td>56538</td>\n",
       "      <td>358618</td>\n",
       "      <td>129921</td>\n",
       "      <td>9623</td>\n",
       "    </tr>\n",
       "  </tbody>\n",
       "</table>\n",
       "</div>"
      ],
      "text/plain": [
       "department_id                          1      2       3        4      5   \\\n",
       "fam_status                                                                 \n",
       "divorced/widowed                   141623   2267   75587   619577   8936   \n",
       "living with parents and siblings    79512   1460   42543   343702   6284   \n",
       "married                           1142589  18771  619188  5070504  73729   \n",
       "single                             263890   4668  146012  1193308  19023   \n",
       "\n",
       "department_id                         6        7      8       9      10  \\\n",
       "fam_status                                                                \n",
       "divorced/widowed                   16965   175452   6262   54174   2213   \n",
       "living with parents and siblings    9659    94324   4190   30606   1347   \n",
       "married                           138203  1430068  49671  445705  19626   \n",
       "single                             33073   336603  11988  103240   4372   \n",
       "\n",
       "department_id                         11      12      13      14      15  \\\n",
       "fam_status                                                                 \n",
       "divorced/widowed                   28189   44554  118637   44414   65423   \n",
       "living with parents and siblings   15627   25251   67169   26224   37784   \n",
       "married                           230492  370433  972888  368561  554557   \n",
       "single                             54172   83652  226681   85746  130026   \n",
       "\n",
       "department_id                          16      17      18       19      20  \\\n",
       "fam_status                                                                   \n",
       "divorced/widowed                   352593   45168   27775   186821   68073   \n",
       "living with parents and siblings   199894   25796   15595   103918   37543   \n",
       "married                           2890356  381394  236039  1537764  547474   \n",
       "single                             677645   86991   56538   358618  129921   \n",
       "\n",
       "department_id                        21  \n",
       "fam_status                               \n",
       "divorced/widowed                   4509  \n",
       "living with parents and siblings   2971  \n",
       "married                           40464  \n",
       "single                             9623  "
      ]
     },
     "execution_count": 29,
     "metadata": {},
     "output_type": "execute_result"
    }
   ],
   "source": [
    "crosstab_2"
   ]
  },
  {
   "cell_type": "markdown",
   "id": "f8704076",
   "metadata": {},
   "source": [
    "Based on the results of the crosstab table above we can see that the most frequent departments based on family status column are:\n",
    "\n",
    "- divorced/widowed: produce - dairy eggs - snacks\n",
    "- living with parents and siblings: dairy eggs - snakcs - beverages\n",
    "- married: produce - dairy eggs - snacks\n",
    "- single: produce - dairy eggs - snacks\n",
    "\n",
    "The least frequented department by all groups is 'bulk'. We can use this information to target our digital coupons to the most frequented departments by all family groups. \n"
   ]
  },
  {
   "cell_type": "markdown",
   "id": "5fbfbaf3",
   "metadata": {},
   "source": [
    "  "
   ]
  },
  {
   "cell_type": "markdown",
   "id": "21f3caab",
   "metadata": {},
   "source": [
    "   "
   ]
  },
  {
   "cell_type": "markdown",
   "id": "80ab5343",
   "metadata": {},
   "source": [
    "   "
   ]
  },
  {
   "cell_type": "markdown",
   "id": "012b0137",
   "metadata": {},
   "source": [
    "   "
   ]
  },
  {
   "cell_type": "code",
   "execution_count": 30,
   "id": "15824b6b",
   "metadata": {},
   "outputs": [],
   "source": [
    "# investigating age and the department_id crosstab (in high activity customer set):\n",
    "crosstab_3 = pd.crosstab(df_high_activity['fam_status'], df_high_activity['order_day_of_week'], dropna = False)"
   ]
  },
  {
   "cell_type": "code",
   "execution_count": 31,
   "id": "f508593a",
   "metadata": {},
   "outputs": [],
   "source": [
    "crosstab_3.to_clipboard()"
   ]
  },
  {
   "cell_type": "code",
   "execution_count": 32,
   "id": "3c35a163",
   "metadata": {
    "scrolled": true
   },
   "outputs": [
    {
     "data": {
      "text/html": [
       "<div>\n",
       "<style scoped>\n",
       "    .dataframe tbody tr th:only-of-type {\n",
       "        vertical-align: middle;\n",
       "    }\n",
       "\n",
       "    .dataframe tbody tr th {\n",
       "        vertical-align: top;\n",
       "    }\n",
       "\n",
       "    .dataframe thead th {\n",
       "        text-align: right;\n",
       "    }\n",
       "</style>\n",
       "<table border=\"1\" class=\"dataframe\">\n",
       "  <thead>\n",
       "    <tr style=\"text-align: right;\">\n",
       "      <th>order_day_of_week</th>\n",
       "      <th>0</th>\n",
       "      <th>1</th>\n",
       "      <th>2</th>\n",
       "      <th>3</th>\n",
       "      <th>4</th>\n",
       "      <th>5</th>\n",
       "      <th>6</th>\n",
       "    </tr>\n",
       "    <tr>\n",
       "      <th>fam_status</th>\n",
       "      <th></th>\n",
       "      <th></th>\n",
       "      <th></th>\n",
       "      <th></th>\n",
       "      <th></th>\n",
       "      <th></th>\n",
       "      <th></th>\n",
       "    </tr>\n",
       "  </thead>\n",
       "  <tbody>\n",
       "    <tr>\n",
       "      <th>divorced/widowed</th>\n",
       "      <td>391092</td>\n",
       "      <td>363655</td>\n",
       "      <td>270869</td>\n",
       "      <td>251315</td>\n",
       "      <td>244202</td>\n",
       "      <td>278043</td>\n",
       "      <td>290036</td>\n",
       "    </tr>\n",
       "    <tr>\n",
       "      <th>living with parents and siblings</th>\n",
       "      <td>218563</td>\n",
       "      <td>205356</td>\n",
       "      <td>151998</td>\n",
       "      <td>139091</td>\n",
       "      <td>138704</td>\n",
       "      <td>156904</td>\n",
       "      <td>160783</td>\n",
       "    </tr>\n",
       "    <tr>\n",
       "      <th>married</th>\n",
       "      <td>3232442</td>\n",
       "      <td>2989548</td>\n",
       "      <td>2232016</td>\n",
       "      <td>2040564</td>\n",
       "      <td>2032071</td>\n",
       "      <td>2252061</td>\n",
       "      <td>2359774</td>\n",
       "    </tr>\n",
       "    <tr>\n",
       "      <th>single</th>\n",
       "      <td>760126</td>\n",
       "      <td>715582</td>\n",
       "      <td>519491</td>\n",
       "      <td>475704</td>\n",
       "      <td>474848</td>\n",
       "      <td>530189</td>\n",
       "      <td>539850</td>\n",
       "    </tr>\n",
       "  </tbody>\n",
       "</table>\n",
       "</div>"
      ],
      "text/plain": [
       "order_day_of_week                       0        1        2        3        4  \\\n",
       "fam_status                                                                      \n",
       "divorced/widowed                   391092   363655   270869   251315   244202   \n",
       "living with parents and siblings   218563   205356   151998   139091   138704   \n",
       "married                           3232442  2989548  2232016  2040564  2032071   \n",
       "single                             760126   715582   519491   475704   474848   \n",
       "\n",
       "order_day_of_week                       5        6  \n",
       "fam_status                                          \n",
       "divorced/widowed                   278043   290036  \n",
       "living with parents and siblings   156904   160783  \n",
       "married                           2252061  2359774  \n",
       "single                             530189   539850  "
      ]
     },
     "execution_count": 32,
     "metadata": {},
     "output_type": "execute_result"
    }
   ],
   "source": [
    "crosstab_3"
   ]
  },
  {
   "cell_type": "markdown",
   "id": "3eb20ce2",
   "metadata": {},
   "source": [
    "Based on the crosstab table above, ALL family groups shop more on day 0 (Saturdays) and shop the least on day 4 (Wednesdays)."
   ]
  },
  {
   "cell_type": "markdown",
   "id": "c901f206",
   "metadata": {},
   "source": [
    "  "
   ]
  },
  {
   "cell_type": "markdown",
   "id": "e5b1b46a",
   "metadata": {},
   "source": [
    "  "
   ]
  },
  {
   "cell_type": "markdown",
   "id": "ab2ed3c6",
   "metadata": {},
   "source": [
    "  "
   ]
  },
  {
   "cell_type": "markdown",
   "id": "85050da8",
   "metadata": {},
   "source": [
    "  "
   ]
  },
  {
   "cell_type": "markdown",
   "id": "6dcb249a",
   "metadata": {},
   "source": [
    "    \n",
    "    "
   ]
  },
  {
   "cell_type": "code",
   "execution_count": 33,
   "id": "937d96d8",
   "metadata": {},
   "outputs": [],
   "source": [
    "# investigating gender and the order_day_of_week crosstab (in high activity customer set):\n",
    "crosstab_4 = pd.crosstab(df_high_activity['gender'], df_high_activity['order_day_of_week'], dropna = False)"
   ]
  },
  {
   "cell_type": "code",
   "execution_count": 34,
   "id": "49454552",
   "metadata": {},
   "outputs": [],
   "source": [
    "crosstab_4.to_clipboard()"
   ]
  },
  {
   "cell_type": "code",
   "execution_count": 33,
   "id": "b798e115",
   "metadata": {},
   "outputs": [
    {
     "data": {
      "text/html": [
       "<div>\n",
       "<style scoped>\n",
       "    .dataframe tbody tr th:only-of-type {\n",
       "        vertical-align: middle;\n",
       "    }\n",
       "\n",
       "    .dataframe tbody tr th {\n",
       "        vertical-align: top;\n",
       "    }\n",
       "\n",
       "    .dataframe thead th {\n",
       "        text-align: right;\n",
       "    }\n",
       "</style>\n",
       "<table border=\"1\" class=\"dataframe\">\n",
       "  <thead>\n",
       "    <tr style=\"text-align: right;\">\n",
       "      <th>order_day_of_week</th>\n",
       "      <th>0</th>\n",
       "      <th>1</th>\n",
       "      <th>2</th>\n",
       "      <th>3</th>\n",
       "      <th>4</th>\n",
       "      <th>5</th>\n",
       "      <th>6</th>\n",
       "    </tr>\n",
       "    <tr>\n",
       "      <th>gender</th>\n",
       "      <th></th>\n",
       "      <th></th>\n",
       "      <th></th>\n",
       "      <th></th>\n",
       "      <th></th>\n",
       "      <th></th>\n",
       "      <th></th>\n",
       "    </tr>\n",
       "  </thead>\n",
       "  <tbody>\n",
       "    <tr>\n",
       "      <th>Female</th>\n",
       "      <td>2274069</td>\n",
       "      <td>2131471</td>\n",
       "      <td>1583306</td>\n",
       "      <td>1441073</td>\n",
       "      <td>1437260</td>\n",
       "      <td>1600977</td>\n",
       "      <td>1659401</td>\n",
       "    </tr>\n",
       "    <tr>\n",
       "      <th>Male</th>\n",
       "      <td>2328154</td>\n",
       "      <td>2142670</td>\n",
       "      <td>1591068</td>\n",
       "      <td>1465601</td>\n",
       "      <td>1452565</td>\n",
       "      <td>1616220</td>\n",
       "      <td>1691042</td>\n",
       "    </tr>\n",
       "  </tbody>\n",
       "</table>\n",
       "</div>"
      ],
      "text/plain": [
       "order_day_of_week        0        1        2        3        4        5  \\\n",
       "gender                                                                    \n",
       "Female             2274069  2131471  1583306  1441073  1437260  1600977   \n",
       "Male               2328154  2142670  1591068  1465601  1452565  1616220   \n",
       "\n",
       "order_day_of_week        6  \n",
       "gender                      \n",
       "Female             1659401  \n",
       "Male               1691042  "
      ]
     },
     "execution_count": 33,
     "metadata": {},
     "output_type": "execute_result"
    }
   ],
   "source": [
    "crosstab_4"
   ]
  },
  {
   "cell_type": "markdown",
   "id": "315f5e65",
   "metadata": {},
   "source": [
    "Based on the crosstab table above, both male and female customers shop more on days 0 and 1 (Saturdays and Sundays), with males shopping more than females, and both groups shop the least on day 4 (Wednesdays). \n",
    "This information can be used to dedicate more shoppers to instacart on days with higher traffic. "
   ]
  },
  {
   "cell_type": "markdown",
   "id": "470c6652",
   "metadata": {},
   "source": [
    "   "
   ]
  },
  {
   "cell_type": "markdown",
   "id": "188ceb50",
   "metadata": {},
   "source": [
    "   "
   ]
  },
  {
   "cell_type": "markdown",
   "id": "135f8276",
   "metadata": {},
   "source": [
    "- create an 'income_flag' column\n",
    "income under 40,000 is labeled as 'Low Income', between 40,000 and 100,000 is labeled as 'Mid-level Income' and above 100,000 is 'High Income'."
   ]
  },
  {
   "cell_type": "code",
   "execution_count": 35,
   "id": "edab6efe",
   "metadata": {
    "scrolled": false
   },
   "outputs": [
    {
     "name": "stderr",
     "output_type": "stream",
     "text": [
      "/Users/azadehrezaei/opt/anaconda3/lib/python3.8/site-packages/pandas/core/indexing.py:1599: SettingWithCopyWarning: \n",
      "A value is trying to be set on a copy of a slice from a DataFrame.\n",
      "Try using .loc[row_indexer,col_indexer] = value instead\n",
      "\n",
      "See the caveats in the documentation: https://pandas.pydata.org/pandas-docs/stable/user_guide/indexing.html#returning-a-view-versus-a-copy\n",
      "  self.obj[key] = infer_fill_value(value)\n",
      "/Users/azadehrezaei/opt/anaconda3/lib/python3.8/site-packages/pandas/core/indexing.py:1720: SettingWithCopyWarning: \n",
      "A value is trying to be set on a copy of a slice from a DataFrame.\n",
      "Try using .loc[row_indexer,col_indexer] = value instead\n",
      "\n",
      "See the caveats in the documentation: https://pandas.pydata.org/pandas-docs/stable/user_guide/indexing.html#returning-a-view-versus-a-copy\n",
      "  self._setitem_single_column(loc, value, pi)\n"
     ]
    }
   ],
   "source": [
    "df_high_activity.loc[df_high_activity['income'] < 40000, 'income_flag'] = 'Low Income'"
   ]
  },
  {
   "cell_type": "code",
   "execution_count": 36,
   "id": "e427a830",
   "metadata": {},
   "outputs": [
    {
     "name": "stderr",
     "output_type": "stream",
     "text": [
      "/Users/azadehrezaei/opt/anaconda3/lib/python3.8/site-packages/pandas/core/indexing.py:1720: SettingWithCopyWarning: \n",
      "A value is trying to be set on a copy of a slice from a DataFrame.\n",
      "Try using .loc[row_indexer,col_indexer] = value instead\n",
      "\n",
      "See the caveats in the documentation: https://pandas.pydata.org/pandas-docs/stable/user_guide/indexing.html#returning-a-view-versus-a-copy\n",
      "  self._setitem_single_column(loc, value, pi)\n"
     ]
    }
   ],
   "source": [
    "df_high_activity.loc[(df_high_activity['income'] >= 40000) & (df_high_activity['income'] < 100000), 'income_flag'] = 'Mid-level Income'"
   ]
  },
  {
   "cell_type": "code",
   "execution_count": 37,
   "id": "98a83811",
   "metadata": {},
   "outputs": [
    {
     "name": "stderr",
     "output_type": "stream",
     "text": [
      "/Users/azadehrezaei/opt/anaconda3/lib/python3.8/site-packages/pandas/core/indexing.py:1720: SettingWithCopyWarning: \n",
      "A value is trying to be set on a copy of a slice from a DataFrame.\n",
      "Try using .loc[row_indexer,col_indexer] = value instead\n",
      "\n",
      "See the caveats in the documentation: https://pandas.pydata.org/pandas-docs/stable/user_guide/indexing.html#returning-a-view-versus-a-copy\n",
      "  self._setitem_single_column(loc, value, pi)\n"
     ]
    }
   ],
   "source": [
    "df_high_activity.loc[df_high_activity['income'] >= 100000, 'income_flag'] = 'High Income'"
   ]
  },
  {
   "cell_type": "code",
   "execution_count": 38,
   "id": "907448fe",
   "metadata": {
    "scrolled": true
   },
   "outputs": [
    {
     "data": {
      "text/plain": [
       "Mid-level Income    11949027\n",
       "High Income         11225998\n",
       "Low Income           1239852\n",
       "Name: income_flag, dtype: int64"
      ]
     },
     "execution_count": 38,
     "metadata": {},
     "output_type": "execute_result"
    }
   ],
   "source": [
    "# Using value frequencies to find the number of transactions in each category:\n",
    "df_high_activity['income_flag'].value_counts(dropna = False)"
   ]
  },
  {
   "cell_type": "markdown",
   "id": "e5bb8c9c",
   "metadata": {},
   "source": [
    "The frequencies above cannot be considered as the number of customers in each category, but rather the number of transactions. To find the number of customers I need to apply groupby on customers' user_id:"
   ]
  },
  {
   "cell_type": "code",
   "execution_count": 39,
   "id": "bb4ff9a2",
   "metadata": {},
   "outputs": [],
   "source": [
    "df_income_category = df_high_activity.groupby('income_flag').agg({'user_id':['nunique']})"
   ]
  },
  {
   "cell_type": "code",
   "execution_count": 40,
   "id": "157885e5",
   "metadata": {},
   "outputs": [
    {
     "data": {
      "text/html": [
       "<div>\n",
       "<style scoped>\n",
       "    .dataframe tbody tr th:only-of-type {\n",
       "        vertical-align: middle;\n",
       "    }\n",
       "\n",
       "    .dataframe tbody tr th {\n",
       "        vertical-align: top;\n",
       "    }\n",
       "\n",
       "    .dataframe thead tr th {\n",
       "        text-align: left;\n",
       "    }\n",
       "\n",
       "    .dataframe thead tr:last-of-type th {\n",
       "        text-align: right;\n",
       "    }\n",
       "</style>\n",
       "<table border=\"1\" class=\"dataframe\">\n",
       "  <thead>\n",
       "    <tr>\n",
       "      <th></th>\n",
       "      <th>user_id</th>\n",
       "    </tr>\n",
       "    <tr>\n",
       "      <th></th>\n",
       "      <th>nunique</th>\n",
       "    </tr>\n",
       "    <tr>\n",
       "      <th>income_flag</th>\n",
       "      <th></th>\n",
       "    </tr>\n",
       "  </thead>\n",
       "  <tbody>\n",
       "    <tr>\n",
       "      <th>High Income</th>\n",
       "      <td>70081</td>\n",
       "    </tr>\n",
       "    <tr>\n",
       "      <th>Low Income</th>\n",
       "      <td>12625</td>\n",
       "    </tr>\n",
       "    <tr>\n",
       "      <th>Mid-level Income</th>\n",
       "      <td>79925</td>\n",
       "    </tr>\n",
       "  </tbody>\n",
       "</table>\n",
       "</div>"
      ],
      "text/plain": [
       "                 user_id\n",
       "                 nunique\n",
       "income_flag             \n",
       "High Income        70081\n",
       "Low Income         12625\n",
       "Mid-level Income   79925"
      ]
     },
     "execution_count": 40,
     "metadata": {},
     "output_type": "execute_result"
    }
   ],
   "source": [
    "df_income_category"
   ]
  },
  {
   "cell_type": "markdown",
   "id": "2aec9b0a",
   "metadata": {},
   "source": [
    "Interetingly, we have more mid-level income customers followed by high_income and then the low_income customers. "
   ]
  },
  {
   "cell_type": "markdown",
   "id": "744a312b",
   "metadata": {},
   "source": [
    "  "
   ]
  },
  {
   "cell_type": "markdown",
   "id": "89dcc07a",
   "metadata": {},
   "source": [
    "  "
   ]
  },
  {
   "cell_type": "code",
   "execution_count": 41,
   "id": "07c5a6fc",
   "metadata": {},
   "outputs": [],
   "source": [
    "crosstab_5 = pd.crosstab(df_high_activity['income_flag'], df_high_activity['order_number'], dropna = False)"
   ]
  },
  {
   "cell_type": "code",
   "execution_count": 42,
   "id": "44cc3420",
   "metadata": {
    "scrolled": false
   },
   "outputs": [
    {
     "data": {
      "text/html": [
       "<div>\n",
       "<style scoped>\n",
       "    .dataframe tbody tr th:only-of-type {\n",
       "        vertical-align: middle;\n",
       "    }\n",
       "\n",
       "    .dataframe tbody tr th {\n",
       "        vertical-align: top;\n",
       "    }\n",
       "\n",
       "    .dataframe thead th {\n",
       "        text-align: right;\n",
       "    }\n",
       "</style>\n",
       "<table border=\"1\" class=\"dataframe\">\n",
       "  <thead>\n",
       "    <tr style=\"text-align: right;\">\n",
       "      <th>order_number</th>\n",
       "      <th>5</th>\n",
       "      <th>6</th>\n",
       "      <th>7</th>\n",
       "      <th>8</th>\n",
       "      <th>9</th>\n",
       "      <th>10</th>\n",
       "      <th>11</th>\n",
       "      <th>12</th>\n",
       "      <th>13</th>\n",
       "      <th>14</th>\n",
       "      <th>15</th>\n",
       "      <th>16</th>\n",
       "      <th>17</th>\n",
       "      <th>18</th>\n",
       "      <th>19</th>\n",
       "      <th>20</th>\n",
       "      <th>21</th>\n",
       "      <th>22</th>\n",
       "      <th>23</th>\n",
       "      <th>24</th>\n",
       "      <th>25</th>\n",
       "      <th>26</th>\n",
       "      <th>27</th>\n",
       "      <th>28</th>\n",
       "      <th>29</th>\n",
       "      <th>30</th>\n",
       "      <th>31</th>\n",
       "      <th>32</th>\n",
       "      <th>33</th>\n",
       "      <th>34</th>\n",
       "      <th>35</th>\n",
       "      <th>36</th>\n",
       "      <th>37</th>\n",
       "      <th>38</th>\n",
       "      <th>39</th>\n",
       "      <th>40</th>\n",
       "      <th>41</th>\n",
       "      <th>42</th>\n",
       "      <th>43</th>\n",
       "      <th>44</th>\n",
       "      <th>45</th>\n",
       "      <th>46</th>\n",
       "      <th>47</th>\n",
       "      <th>48</th>\n",
       "      <th>49</th>\n",
       "      <th>50</th>\n",
       "      <th>51</th>\n",
       "      <th>52</th>\n",
       "      <th>53</th>\n",
       "      <th>54</th>\n",
       "      <th>55</th>\n",
       "      <th>56</th>\n",
       "      <th>57</th>\n",
       "      <th>58</th>\n",
       "      <th>59</th>\n",
       "      <th>60</th>\n",
       "      <th>61</th>\n",
       "      <th>62</th>\n",
       "      <th>63</th>\n",
       "      <th>64</th>\n",
       "      <th>65</th>\n",
       "      <th>66</th>\n",
       "      <th>67</th>\n",
       "      <th>68</th>\n",
       "      <th>69</th>\n",
       "      <th>70</th>\n",
       "      <th>71</th>\n",
       "      <th>72</th>\n",
       "      <th>73</th>\n",
       "      <th>74</th>\n",
       "      <th>75</th>\n",
       "      <th>76</th>\n",
       "      <th>77</th>\n",
       "      <th>78</th>\n",
       "      <th>79</th>\n",
       "      <th>80</th>\n",
       "      <th>81</th>\n",
       "      <th>82</th>\n",
       "      <th>83</th>\n",
       "      <th>84</th>\n",
       "      <th>85</th>\n",
       "      <th>86</th>\n",
       "      <th>87</th>\n",
       "      <th>88</th>\n",
       "      <th>89</th>\n",
       "      <th>90</th>\n",
       "      <th>91</th>\n",
       "      <th>92</th>\n",
       "      <th>93</th>\n",
       "      <th>94</th>\n",
       "      <th>95</th>\n",
       "      <th>96</th>\n",
       "      <th>97</th>\n",
       "      <th>98</th>\n",
       "      <th>99</th>\n",
       "    </tr>\n",
       "    <tr>\n",
       "      <th>income_flag</th>\n",
       "      <th></th>\n",
       "      <th></th>\n",
       "      <th></th>\n",
       "      <th></th>\n",
       "      <th></th>\n",
       "      <th></th>\n",
       "      <th></th>\n",
       "      <th></th>\n",
       "      <th></th>\n",
       "      <th></th>\n",
       "      <th></th>\n",
       "      <th></th>\n",
       "      <th></th>\n",
       "      <th></th>\n",
       "      <th></th>\n",
       "      <th></th>\n",
       "      <th></th>\n",
       "      <th></th>\n",
       "      <th></th>\n",
       "      <th></th>\n",
       "      <th></th>\n",
       "      <th></th>\n",
       "      <th></th>\n",
       "      <th></th>\n",
       "      <th></th>\n",
       "      <th></th>\n",
       "      <th></th>\n",
       "      <th></th>\n",
       "      <th></th>\n",
       "      <th></th>\n",
       "      <th></th>\n",
       "      <th></th>\n",
       "      <th></th>\n",
       "      <th></th>\n",
       "      <th></th>\n",
       "      <th></th>\n",
       "      <th></th>\n",
       "      <th></th>\n",
       "      <th></th>\n",
       "      <th></th>\n",
       "      <th></th>\n",
       "      <th></th>\n",
       "      <th></th>\n",
       "      <th></th>\n",
       "      <th></th>\n",
       "      <th></th>\n",
       "      <th></th>\n",
       "      <th></th>\n",
       "      <th></th>\n",
       "      <th></th>\n",
       "      <th></th>\n",
       "      <th></th>\n",
       "      <th></th>\n",
       "      <th></th>\n",
       "      <th></th>\n",
       "      <th></th>\n",
       "      <th></th>\n",
       "      <th></th>\n",
       "      <th></th>\n",
       "      <th></th>\n",
       "      <th></th>\n",
       "      <th></th>\n",
       "      <th></th>\n",
       "      <th></th>\n",
       "      <th></th>\n",
       "      <th></th>\n",
       "      <th></th>\n",
       "      <th></th>\n",
       "      <th></th>\n",
       "      <th></th>\n",
       "      <th></th>\n",
       "      <th></th>\n",
       "      <th></th>\n",
       "      <th></th>\n",
       "      <th></th>\n",
       "      <th></th>\n",
       "      <th></th>\n",
       "      <th></th>\n",
       "      <th></th>\n",
       "      <th></th>\n",
       "      <th></th>\n",
       "      <th></th>\n",
       "      <th></th>\n",
       "      <th></th>\n",
       "      <th></th>\n",
       "      <th></th>\n",
       "      <th></th>\n",
       "      <th></th>\n",
       "      <th></th>\n",
       "      <th></th>\n",
       "      <th></th>\n",
       "      <th></th>\n",
       "      <th></th>\n",
       "      <th></th>\n",
       "      <th></th>\n",
       "    </tr>\n",
       "  </thead>\n",
       "  <tbody>\n",
       "    <tr>\n",
       "      <th>High Income</th>\n",
       "      <td>740229</td>\n",
       "      <td>673877</td>\n",
       "      <td>611031</td>\n",
       "      <td>559433</td>\n",
       "      <td>514861</td>\n",
       "      <td>474808</td>\n",
       "      <td>439573</td>\n",
       "      <td>404657</td>\n",
       "      <td>376532</td>\n",
       "      <td>350216</td>\n",
       "      <td>323940</td>\n",
       "      <td>303941</td>\n",
       "      <td>285669</td>\n",
       "      <td>268061</td>\n",
       "      <td>251640</td>\n",
       "      <td>236002</td>\n",
       "      <td>222177</td>\n",
       "      <td>210457</td>\n",
       "      <td>198014</td>\n",
       "      <td>187027</td>\n",
       "      <td>177681</td>\n",
       "      <td>169297</td>\n",
       "      <td>161019</td>\n",
       "      <td>152981</td>\n",
       "      <td>144191</td>\n",
       "      <td>137443</td>\n",
       "      <td>132194</td>\n",
       "      <td>126663</td>\n",
       "      <td>119577</td>\n",
       "      <td>113721</td>\n",
       "      <td>107597</td>\n",
       "      <td>102517</td>\n",
       "      <td>98464</td>\n",
       "      <td>93292</td>\n",
       "      <td>89712</td>\n",
       "      <td>85431</td>\n",
       "      <td>81014</td>\n",
       "      <td>78340</td>\n",
       "      <td>74341</td>\n",
       "      <td>70952</td>\n",
       "      <td>67115</td>\n",
       "      <td>64000</td>\n",
       "      <td>60618</td>\n",
       "      <td>57436</td>\n",
       "      <td>54441</td>\n",
       "      <td>51465</td>\n",
       "      <td>48293</td>\n",
       "      <td>45968</td>\n",
       "      <td>43303</td>\n",
       "      <td>40580</td>\n",
       "      <td>38622</td>\n",
       "      <td>36685</td>\n",
       "      <td>34069</td>\n",
       "      <td>33356</td>\n",
       "      <td>31420</td>\n",
       "      <td>30526</td>\n",
       "      <td>28517</td>\n",
       "      <td>27299</td>\n",
       "      <td>25571</td>\n",
       "      <td>24792</td>\n",
       "      <td>23065</td>\n",
       "      <td>22354</td>\n",
       "      <td>21479</td>\n",
       "      <td>20691</td>\n",
       "      <td>19622</td>\n",
       "      <td>18644</td>\n",
       "      <td>17880</td>\n",
       "      <td>17406</td>\n",
       "      <td>16754</td>\n",
       "      <td>15314</td>\n",
       "      <td>15015</td>\n",
       "      <td>14353</td>\n",
       "      <td>13574</td>\n",
       "      <td>13100</td>\n",
       "      <td>12717</td>\n",
       "      <td>11875</td>\n",
       "      <td>11438</td>\n",
       "      <td>11067</td>\n",
       "      <td>10680</td>\n",
       "      <td>10393</td>\n",
       "      <td>9952</td>\n",
       "      <td>9367</td>\n",
       "      <td>9137</td>\n",
       "      <td>8552</td>\n",
       "      <td>8434</td>\n",
       "      <td>8068</td>\n",
       "      <td>7988</td>\n",
       "      <td>7670</td>\n",
       "      <td>7305</td>\n",
       "      <td>7218</td>\n",
       "      <td>6899</td>\n",
       "      <td>6564</td>\n",
       "      <td>6562</td>\n",
       "      <td>6241</td>\n",
       "      <td>5972</td>\n",
       "    </tr>\n",
       "    <tr>\n",
       "      <th>Low Income</th>\n",
       "      <td>92292</td>\n",
       "      <td>81862</td>\n",
       "      <td>73096</td>\n",
       "      <td>65750</td>\n",
       "      <td>59359</td>\n",
       "      <td>53483</td>\n",
       "      <td>49071</td>\n",
       "      <td>45783</td>\n",
       "      <td>41980</td>\n",
       "      <td>37903</td>\n",
       "      <td>35827</td>\n",
       "      <td>32991</td>\n",
       "      <td>30406</td>\n",
       "      <td>29211</td>\n",
       "      <td>27051</td>\n",
       "      <td>25088</td>\n",
       "      <td>23968</td>\n",
       "      <td>22106</td>\n",
       "      <td>21264</td>\n",
       "      <td>19837</td>\n",
       "      <td>19122</td>\n",
       "      <td>18077</td>\n",
       "      <td>16650</td>\n",
       "      <td>16343</td>\n",
       "      <td>15453</td>\n",
       "      <td>14903</td>\n",
       "      <td>13960</td>\n",
       "      <td>13628</td>\n",
       "      <td>12711</td>\n",
       "      <td>12406</td>\n",
       "      <td>11874</td>\n",
       "      <td>11322</td>\n",
       "      <td>10637</td>\n",
       "      <td>10167</td>\n",
       "      <td>9715</td>\n",
       "      <td>9132</td>\n",
       "      <td>8366</td>\n",
       "      <td>7964</td>\n",
       "      <td>7676</td>\n",
       "      <td>7135</td>\n",
       "      <td>7047</td>\n",
       "      <td>6633</td>\n",
       "      <td>6238</td>\n",
       "      <td>6115</td>\n",
       "      <td>5923</td>\n",
       "      <td>5386</td>\n",
       "      <td>5221</td>\n",
       "      <td>4811</td>\n",
       "      <td>4542</td>\n",
       "      <td>4220</td>\n",
       "      <td>3963</td>\n",
       "      <td>3591</td>\n",
       "      <td>3329</td>\n",
       "      <td>3235</td>\n",
       "      <td>2976</td>\n",
       "      <td>2997</td>\n",
       "      <td>2674</td>\n",
       "      <td>2597</td>\n",
       "      <td>2394</td>\n",
       "      <td>2060</td>\n",
       "      <td>2163</td>\n",
       "      <td>1874</td>\n",
       "      <td>1845</td>\n",
       "      <td>1829</td>\n",
       "      <td>1634</td>\n",
       "      <td>1550</td>\n",
       "      <td>1498</td>\n",
       "      <td>1356</td>\n",
       "      <td>1298</td>\n",
       "      <td>1337</td>\n",
       "      <td>1339</td>\n",
       "      <td>1299</td>\n",
       "      <td>1351</td>\n",
       "      <td>1114</td>\n",
       "      <td>1231</td>\n",
       "      <td>1072</td>\n",
       "      <td>1147</td>\n",
       "      <td>1052</td>\n",
       "      <td>1038</td>\n",
       "      <td>980</td>\n",
       "      <td>910</td>\n",
       "      <td>927</td>\n",
       "      <td>777</td>\n",
       "      <td>802</td>\n",
       "      <td>826</td>\n",
       "      <td>662</td>\n",
       "      <td>722</td>\n",
       "      <td>632</td>\n",
       "      <td>598</td>\n",
       "      <td>588</td>\n",
       "      <td>605</td>\n",
       "      <td>582</td>\n",
       "      <td>554</td>\n",
       "      <td>547</td>\n",
       "      <td>592</td>\n",
       "    </tr>\n",
       "    <tr>\n",
       "      <th>Mid-level Income</th>\n",
       "      <td>794380</td>\n",
       "      <td>715155</td>\n",
       "      <td>648508</td>\n",
       "      <td>592864</td>\n",
       "      <td>545271</td>\n",
       "      <td>499487</td>\n",
       "      <td>461138</td>\n",
       "      <td>426374</td>\n",
       "      <td>400448</td>\n",
       "      <td>373055</td>\n",
       "      <td>346810</td>\n",
       "      <td>324993</td>\n",
       "      <td>305457</td>\n",
       "      <td>286579</td>\n",
       "      <td>270516</td>\n",
       "      <td>253470</td>\n",
       "      <td>240190</td>\n",
       "      <td>226173</td>\n",
       "      <td>214662</td>\n",
       "      <td>202617</td>\n",
       "      <td>192781</td>\n",
       "      <td>182106</td>\n",
       "      <td>172840</td>\n",
       "      <td>163224</td>\n",
       "      <td>155760</td>\n",
       "      <td>147861</td>\n",
       "      <td>141482</td>\n",
       "      <td>133180</td>\n",
       "      <td>126641</td>\n",
       "      <td>120208</td>\n",
       "      <td>115011</td>\n",
       "      <td>110678</td>\n",
       "      <td>104861</td>\n",
       "      <td>99403</td>\n",
       "      <td>94913</td>\n",
       "      <td>90987</td>\n",
       "      <td>85842</td>\n",
       "      <td>81842</td>\n",
       "      <td>78300</td>\n",
       "      <td>74270</td>\n",
       "      <td>70622</td>\n",
       "      <td>67001</td>\n",
       "      <td>63073</td>\n",
       "      <td>60412</td>\n",
       "      <td>56788</td>\n",
       "      <td>53973</td>\n",
       "      <td>51208</td>\n",
       "      <td>48333</td>\n",
       "      <td>45150</td>\n",
       "      <td>42619</td>\n",
       "      <td>41618</td>\n",
       "      <td>38383</td>\n",
       "      <td>37168</td>\n",
       "      <td>34603</td>\n",
       "      <td>33232</td>\n",
       "      <td>31438</td>\n",
       "      <td>29942</td>\n",
       "      <td>28178</td>\n",
       "      <td>27205</td>\n",
       "      <td>25924</td>\n",
       "      <td>24596</td>\n",
       "      <td>23546</td>\n",
       "      <td>22627</td>\n",
       "      <td>21862</td>\n",
       "      <td>21157</td>\n",
       "      <td>20545</td>\n",
       "      <td>18933</td>\n",
       "      <td>18685</td>\n",
       "      <td>17915</td>\n",
       "      <td>17303</td>\n",
       "      <td>16570</td>\n",
       "      <td>15408</td>\n",
       "      <td>14640</td>\n",
       "      <td>14432</td>\n",
       "      <td>13803</td>\n",
       "      <td>13220</td>\n",
       "      <td>12655</td>\n",
       "      <td>11488</td>\n",
       "      <td>11944</td>\n",
       "      <td>11108</td>\n",
       "      <td>10642</td>\n",
       "      <td>9863</td>\n",
       "      <td>9629</td>\n",
       "      <td>9261</td>\n",
       "      <td>8816</td>\n",
       "      <td>8467</td>\n",
       "      <td>8135</td>\n",
       "      <td>7921</td>\n",
       "      <td>7492</td>\n",
       "      <td>7394</td>\n",
       "      <td>7012</td>\n",
       "      <td>6591</td>\n",
       "      <td>6240</td>\n",
       "      <td>6063</td>\n",
       "      <td>5857</td>\n",
       "    </tr>\n",
       "  </tbody>\n",
       "</table>\n",
       "</div>"
      ],
      "text/plain": [
       "order_number          5       6       7       8       9       10      11  \\\n",
       "income_flag                                                                \n",
       "High Income       740229  673877  611031  559433  514861  474808  439573   \n",
       "Low Income         92292   81862   73096   65750   59359   53483   49071   \n",
       "Mid-level Income  794380  715155  648508  592864  545271  499487  461138   \n",
       "\n",
       "order_number          12      13      14      15      16      17      18  \\\n",
       "income_flag                                                                \n",
       "High Income       404657  376532  350216  323940  303941  285669  268061   \n",
       "Low Income         45783   41980   37903   35827   32991   30406   29211   \n",
       "Mid-level Income  426374  400448  373055  346810  324993  305457  286579   \n",
       "\n",
       "order_number          19      20      21      22      23      24      25  \\\n",
       "income_flag                                                                \n",
       "High Income       251640  236002  222177  210457  198014  187027  177681   \n",
       "Low Income         27051   25088   23968   22106   21264   19837   19122   \n",
       "Mid-level Income  270516  253470  240190  226173  214662  202617  192781   \n",
       "\n",
       "order_number          26      27      28      29      30      31      32  \\\n",
       "income_flag                                                                \n",
       "High Income       169297  161019  152981  144191  137443  132194  126663   \n",
       "Low Income         18077   16650   16343   15453   14903   13960   13628   \n",
       "Mid-level Income  182106  172840  163224  155760  147861  141482  133180   \n",
       "\n",
       "order_number          33      34      35      36      37     38     39     40  \\\n",
       "income_flag                                                                     \n",
       "High Income       119577  113721  107597  102517   98464  93292  89712  85431   \n",
       "Low Income         12711   12406   11874   11322   10637  10167   9715   9132   \n",
       "Mid-level Income  126641  120208  115011  110678  104861  99403  94913  90987   \n",
       "\n",
       "order_number         41     42     43     44     45     46     47     48  \\\n",
       "income_flag                                                                \n",
       "High Income       81014  78340  74341  70952  67115  64000  60618  57436   \n",
       "Low Income         8366   7964   7676   7135   7047   6633   6238   6115   \n",
       "Mid-level Income  85842  81842  78300  74270  70622  67001  63073  60412   \n",
       "\n",
       "order_number         49     50     51     52     53     54     55     56  \\\n",
       "income_flag                                                                \n",
       "High Income       54441  51465  48293  45968  43303  40580  38622  36685   \n",
       "Low Income         5923   5386   5221   4811   4542   4220   3963   3591   \n",
       "Mid-level Income  56788  53973  51208  48333  45150  42619  41618  38383   \n",
       "\n",
       "order_number         57     58     59     60     61     62     63     64  \\\n",
       "income_flag                                                                \n",
       "High Income       34069  33356  31420  30526  28517  27299  25571  24792   \n",
       "Low Income         3329   3235   2976   2997   2674   2597   2394   2060   \n",
       "Mid-level Income  37168  34603  33232  31438  29942  28178  27205  25924   \n",
       "\n",
       "order_number         65     66     67     68     69     70     71     72  \\\n",
       "income_flag                                                                \n",
       "High Income       23065  22354  21479  20691  19622  18644  17880  17406   \n",
       "Low Income         2163   1874   1845   1829   1634   1550   1498   1356   \n",
       "Mid-level Income  24596  23546  22627  21862  21157  20545  18933  18685   \n",
       "\n",
       "order_number         73     74     75     76     77     78     79     80  \\\n",
       "income_flag                                                                \n",
       "High Income       16754  15314  15015  14353  13574  13100  12717  11875   \n",
       "Low Income         1298   1337   1339   1299   1351   1114   1231   1072   \n",
       "Mid-level Income  17915  17303  16570  15408  14640  14432  13803  13220   \n",
       "\n",
       "order_number         81     82     83     84     85    86    87    88    89  \\\n",
       "income_flag                                                                   \n",
       "High Income       11438  11067  10680  10393   9952  9367  9137  8552  8434   \n",
       "Low Income         1147   1052   1038    980    910   927   777   802   826   \n",
       "Mid-level Income  12655  11488  11944  11108  10642  9863  9629  9261  8816   \n",
       "\n",
       "order_number        90    91    92    93    94    95    96    97    98    99  \n",
       "income_flag                                                                   \n",
       "High Income       8068  7988  7670  7305  7218  6899  6564  6562  6241  5972  \n",
       "Low Income         662   722   632   598   588   605   582   554   547   592  \n",
       "Mid-level Income  8467  8135  7921  7492  7394  7012  6591  6240  6063  5857  "
      ]
     },
     "execution_count": 42,
     "metadata": {},
     "output_type": "execute_result"
    }
   ],
   "source": [
    "crosstab_5"
   ]
  },
  {
   "cell_type": "code",
   "execution_count": 42,
   "id": "960e7536",
   "metadata": {},
   "outputs": [],
   "source": [
    "crosstab_5.to_clipboard()"
   ]
  },
  {
   "cell_type": "markdown",
   "id": "02d2d11b",
   "metadata": {},
   "source": [
    "Looks from the crosstab above we can see that the minimum order in all income categories is 5. Just by a quick look we can see that almost all income categories spend more on smaller number of orders with the high and med-level income categories placing orders at about 8 times more than the low income category. "
   ]
  },
  {
   "cell_type": "markdown",
   "id": "84c73daf",
   "metadata": {},
   "source": [
    "  "
   ]
  },
  {
   "cell_type": "markdown",
   "id": "b0c79910",
   "metadata": {},
   "source": [
    "  "
   ]
  },
  {
   "cell_type": "markdown",
   "id": "bad99bc4",
   "metadata": {},
   "source": [
    "  "
   ]
  },
  {
   "cell_type": "code",
   "execution_count": 43,
   "id": "735da7b1",
   "metadata": {},
   "outputs": [],
   "source": [
    "# investigating the average price and income relationship:\n",
    "crosstab_6 = pd.crosstab(df_high_activity['prices'].mean(), df_high_activity['income_flag'], dropna = False)"
   ]
  },
  {
   "cell_type": "code",
   "execution_count": 44,
   "id": "f1324d6d",
   "metadata": {},
   "outputs": [],
   "source": [
    "crosstab_6.to_clipboard()"
   ]
  },
  {
   "cell_type": "code",
   "execution_count": 45,
   "id": "689399a9",
   "metadata": {
    "scrolled": true
   },
   "outputs": [
    {
     "data": {
      "text/html": [
       "<div>\n",
       "<style scoped>\n",
       "    .dataframe tbody tr th:only-of-type {\n",
       "        vertical-align: middle;\n",
       "    }\n",
       "\n",
       "    .dataframe tbody tr th {\n",
       "        vertical-align: top;\n",
       "    }\n",
       "\n",
       "    .dataframe thead th {\n",
       "        text-align: right;\n",
       "    }\n",
       "</style>\n",
       "<table border=\"1\" class=\"dataframe\">\n",
       "  <thead>\n",
       "    <tr style=\"text-align: right;\">\n",
       "      <th>income_flag</th>\n",
       "      <th>High Income</th>\n",
       "      <th>Low Income</th>\n",
       "      <th>Mid-level Income</th>\n",
       "    </tr>\n",
       "    <tr>\n",
       "      <th>row_0</th>\n",
       "      <th></th>\n",
       "      <th></th>\n",
       "      <th></th>\n",
       "    </tr>\n",
       "  </thead>\n",
       "  <tbody>\n",
       "    <tr>\n",
       "      <th>7.790672</th>\n",
       "      <td>11225998</td>\n",
       "      <td>1239852</td>\n",
       "      <td>11949027</td>\n",
       "    </tr>\n",
       "  </tbody>\n",
       "</table>\n",
       "</div>"
      ],
      "text/plain": [
       "income_flag  High Income  Low Income  Mid-level Income\n",
       "row_0                                                 \n",
       "7.790672        11225998     1239852          11949027"
      ]
     },
     "execution_count": 45,
     "metadata": {},
     "output_type": "execute_result"
    }
   ],
   "source": [
    "crosstab_6"
   ]
  },
  {
   "cell_type": "markdown",
   "id": "73fd85a2",
   "metadata": {},
   "source": [
    "Interestingly based on the crosstab table above, people with mid-level income spend the most in Instacart, followed closely by the high-income category. "
   ]
  },
  {
   "cell_type": "markdown",
   "id": "13d18a2b",
   "metadata": {},
   "source": [
    "   "
   ]
  },
  {
   "cell_type": "markdown",
   "id": "d4244479",
   "metadata": {},
   "source": [
    "  \n",
    "  "
   ]
  },
  {
   "cell_type": "markdown",
   "id": "6eb3db70",
   "metadata": {},
   "source": [
    "  "
   ]
  },
  {
   "cell_type": "markdown",
   "id": "b4d146ad",
   "metadata": {},
   "source": [
    "   "
   ]
  },
  {
   "cell_type": "markdown",
   "id": "c1075ec3",
   "metadata": {},
   "source": [
    "    "
   ]
  },
  {
   "cell_type": "code",
   "execution_count": 44,
   "id": "32857646",
   "metadata": {},
   "outputs": [],
   "source": [
    "# investigating the total price and department_id to see which department sells the most through the platform:\n",
    "crosstab_7 = pd.crosstab(df_high_activity['prices'].sum(), df_high_activity['department_id'], dropna = False)"
   ]
  },
  {
   "cell_type": "code",
   "execution_count": 45,
   "id": "c472dde5",
   "metadata": {},
   "outputs": [],
   "source": [
    "crosstab_7.to_clipboard()"
   ]
  },
  {
   "cell_type": "code",
   "execution_count": 46,
   "id": "7abc4526",
   "metadata": {
    "scrolled": true
   },
   "outputs": [
    {
     "data": {
      "text/html": [
       "<div>\n",
       "<style scoped>\n",
       "    .dataframe tbody tr th:only-of-type {\n",
       "        vertical-align: middle;\n",
       "    }\n",
       "\n",
       "    .dataframe tbody tr th {\n",
       "        vertical-align: top;\n",
       "    }\n",
       "\n",
       "    .dataframe thead th {\n",
       "        text-align: right;\n",
       "    }\n",
       "</style>\n",
       "<table border=\"1\" class=\"dataframe\">\n",
       "  <thead>\n",
       "    <tr style=\"text-align: right;\">\n",
       "      <th>department_id</th>\n",
       "      <th>1</th>\n",
       "      <th>2</th>\n",
       "      <th>3</th>\n",
       "      <th>4</th>\n",
       "      <th>5</th>\n",
       "      <th>6</th>\n",
       "      <th>7</th>\n",
       "      <th>8</th>\n",
       "      <th>9</th>\n",
       "      <th>10</th>\n",
       "      <th>11</th>\n",
       "      <th>12</th>\n",
       "      <th>13</th>\n",
       "      <th>14</th>\n",
       "      <th>15</th>\n",
       "      <th>16</th>\n",
       "      <th>17</th>\n",
       "      <th>18</th>\n",
       "      <th>19</th>\n",
       "      <th>20</th>\n",
       "      <th>21</th>\n",
       "    </tr>\n",
       "    <tr>\n",
       "      <th>row_0</th>\n",
       "      <th></th>\n",
       "      <th></th>\n",
       "      <th></th>\n",
       "      <th></th>\n",
       "      <th></th>\n",
       "      <th></th>\n",
       "      <th></th>\n",
       "      <th></th>\n",
       "      <th></th>\n",
       "      <th></th>\n",
       "      <th></th>\n",
       "      <th></th>\n",
       "      <th></th>\n",
       "      <th></th>\n",
       "      <th></th>\n",
       "      <th></th>\n",
       "      <th></th>\n",
       "      <th></th>\n",
       "      <th></th>\n",
       "      <th></th>\n",
       "      <th></th>\n",
       "    </tr>\n",
       "  </thead>\n",
       "  <tbody>\n",
       "    <tr>\n",
       "      <th>190179397.3</th>\n",
       "      <td>1627614</td>\n",
       "      <td>27166</td>\n",
       "      <td>883330</td>\n",
       "      <td>7227091</td>\n",
       "      <td>107972</td>\n",
       "      <td>197900</td>\n",
       "      <td>2036447</td>\n",
       "      <td>72111</td>\n",
       "      <td>633725</td>\n",
       "      <td>27558</td>\n",
       "      <td>328480</td>\n",
       "      <td>523890</td>\n",
       "      <td>1385375</td>\n",
       "      <td>524945</td>\n",
       "      <td>787790</td>\n",
       "      <td>4120488</td>\n",
       "      <td>539349</td>\n",
       "      <td>335947</td>\n",
       "      <td>2187121</td>\n",
       "      <td>783011</td>\n",
       "      <td>57567</td>\n",
       "    </tr>\n",
       "  </tbody>\n",
       "</table>\n",
       "</div>"
      ],
      "text/plain": [
       "department_id       1      2       3        4       5       6        7   \\\n",
       "row_0                                                                     \n",
       "190179397.3    1627614  27166  883330  7227091  107972  197900  2036447   \n",
       "\n",
       "department_id     8       9      10      11      12       13      14      15  \\\n",
       "row_0                                                                          \n",
       "190179397.3    72111  633725  27558  328480  523890  1385375  524945  787790   \n",
       "\n",
       "department_id       16      17      18       19      20     21  \n",
       "row_0                                                           \n",
       "190179397.3    4120488  539349  335947  2187121  783011  57567  "
      ]
     },
     "execution_count": 46,
     "metadata": {},
     "output_type": "execute_result"
    }
   ],
   "source": [
    "crosstab_7"
   ]
  },
  {
   "cell_type": "markdown",
   "id": "8603e909",
   "metadata": {},
   "source": [
    "Not very surprisingly, the departments with the highest sell are the same ones that are frequented the most: produce (4), dairy eggs (16), snacks (19). \n",
    "At the same time, the department labeled as 'other' (2) sells the least. "
   ]
  },
  {
   "cell_type": "markdown",
   "id": "bc99ba5c",
   "metadata": {},
   "source": [
    "    \n",
    "    "
   ]
  },
  {
   "cell_type": "markdown",
   "id": "c80057b3",
   "metadata": {},
   "source": [
    "   "
   ]
  },
  {
   "cell_type": "markdown",
   "id": "4c2c8dc3",
   "metadata": {},
   "source": [
    "- Creating a pet_flag column for customers w/o pets:\n",
    "If the order includes and item from department_id 8 (pets), it is flagged 1 under the 'pet_flag' column; and if it does not include an item from department_id 8, then it takes the value 0."
   ]
  },
  {
   "cell_type": "code",
   "execution_count": 47,
   "id": "a3c6c5ff",
   "metadata": {
    "scrolled": true
   },
   "outputs": [
    {
     "name": "stderr",
     "output_type": "stream",
     "text": [
      "/Users/azadehrezaei/opt/anaconda3/lib/python3.8/site-packages/pandas/core/indexing.py:1599: SettingWithCopyWarning: \n",
      "A value is trying to be set on a copy of a slice from a DataFrame.\n",
      "Try using .loc[row_indexer,col_indexer] = value instead\n",
      "\n",
      "See the caveats in the documentation: https://pandas.pydata.org/pandas-docs/stable/user_guide/indexing.html#returning-a-view-versus-a-copy\n",
      "  self.obj[key] = infer_fill_value(value)\n",
      "/Users/azadehrezaei/opt/anaconda3/lib/python3.8/site-packages/pandas/core/indexing.py:1720: SettingWithCopyWarning: \n",
      "A value is trying to be set on a copy of a slice from a DataFrame.\n",
      "Try using .loc[row_indexer,col_indexer] = value instead\n",
      "\n",
      "See the caveats in the documentation: https://pandas.pydata.org/pandas-docs/stable/user_guide/indexing.html#returning-a-view-versus-a-copy\n",
      "  self._setitem_single_column(loc, value, pi)\n"
     ]
    }
   ],
   "source": [
    "# create a pet_flag column and assigning yes/no to orders that include an item from department_id = 8 (pets\n",
    "df_high_activity.loc[(df_high_activity['department_id'] == 8), 'pet_flag'] = 1"
   ]
  },
  {
   "cell_type": "code",
   "execution_count": 48,
   "id": "296d5dcd",
   "metadata": {
    "scrolled": true
   },
   "outputs": [
    {
     "name": "stderr",
     "output_type": "stream",
     "text": [
      "/Users/azadehrezaei/opt/anaconda3/lib/python3.8/site-packages/pandas/core/indexing.py:1720: SettingWithCopyWarning: \n",
      "A value is trying to be set on a copy of a slice from a DataFrame.\n",
      "Try using .loc[row_indexer,col_indexer] = value instead\n",
      "\n",
      "See the caveats in the documentation: https://pandas.pydata.org/pandas-docs/stable/user_guide/indexing.html#returning-a-view-versus-a-copy\n",
      "  self._setitem_single_column(loc, value, pi)\n"
     ]
    }
   ],
   "source": [
    "df_high_activity.loc[df_high_activity['department_id'] !=8, 'pet_flag'] = 0"
   ]
  },
  {
   "cell_type": "code",
   "execution_count": 49,
   "id": "bcc77e6f",
   "metadata": {
    "scrolled": true
   },
   "outputs": [
    {
     "data": {
      "text/plain": [
       "0.0    24342766\n",
       "1.0       72111\n",
       "Name: pet_flag, dtype: int64"
      ]
     },
     "execution_count": 49,
     "metadata": {},
     "output_type": "execute_result"
    }
   ],
   "source": [
    "df_high_activity['pet_flag'].value_counts(dropna = False)"
   ]
  },
  {
   "cell_type": "markdown",
   "id": "9393847b",
   "metadata": {},
   "source": [
    "The count above on the pet_flag column shows that 72111 transactions where made from department_id 8 (pets)"
   ]
  },
  {
   "cell_type": "code",
   "execution_count": 50,
   "id": "77e86b5d",
   "metadata": {},
   "outputs": [
    {
     "data": {
      "text/plain": [
       "0.002953568023299892"
      ]
     },
     "execution_count": 50,
     "metadata": {},
     "output_type": "execute_result"
    }
   ],
   "source": [
    "72111/(24342766+72111)"
   ]
  },
  {
   "cell_type": "markdown",
   "id": "093bc841",
   "metadata": {},
   "source": [
    "Only 0.29% of the total number of records belong to pet department. A great number of transactions (99.7%) do not include any purchase of pet products. "
   ]
  },
  {
   "cell_type": "markdown",
   "id": "04a96ea6",
   "metadata": {},
   "source": [
    "Creating another column labeled 'pet_owner' doesn't rea;;y help in this dataframe since each line shows one item in the transaction, which can be labeled as an item from the pet department or not. \n",
    "To find the users that can be considered pet owners, I decided to group the transactions by their user_id and aggregate by the sum value on the pet_flag column (which is the reason I assigned integer values of 0 and 1 to the pet_flag column). "
   ]
  },
  {
   "cell_type": "code",
   "execution_count": 51,
   "id": "0d32b714",
   "metadata": {
    "scrolled": false
   },
   "outputs": [],
   "source": [
    "df_pet = df_high_activity.groupby('user_id').agg({'pet_flag':'sum'})"
   ]
  },
  {
   "cell_type": "markdown",
   "id": "89403464",
   "metadata": {},
   "source": [
    "Next, I am going to run the value_count function in the df_pet sub dataframe. \n",
    "Based on the results of this command below, there are 151,786 customers with 0 purchases from the pet department, 3, 680 with only 1 purchase, and so on. \n",
    "Below I am using .nunique() to find the total number of unique user_ids. "
   ]
  },
  {
   "cell_type": "code",
   "execution_count": 52,
   "id": "89dff361",
   "metadata": {
    "scrolled": true
   },
   "outputs": [
    {
     "data": {
      "text/plain": [
       "162631"
      ]
     },
     "execution_count": 52,
     "metadata": {},
     "output_type": "execute_result"
    }
   ],
   "source": [
    "# finding the total number of unique user_id values (customers):\n",
    "n = df_high_activity.user_id.nunique()\n",
    "n"
   ]
  },
  {
   "cell_type": "code",
   "execution_count": 53,
   "id": "886e5b73",
   "metadata": {
    "scrolled": false
   },
   "outputs": [
    {
     "data": {
      "text/plain": [
       "0.0      151786\n",
       "1.0        3680\n",
       "2.0        1787\n",
       "3.0        1081\n",
       "4.0         740\n",
       "          ...  \n",
       "81.0          1\n",
       "82.0          1\n",
       "114.0         1\n",
       "100.0         1\n",
       "120.0         1\n",
       "Name: pet_flag, Length: 136, dtype: int64"
      ]
     },
     "execution_count": 53,
     "metadata": {},
     "output_type": "execute_result"
    }
   ],
   "source": [
    "df_pet['pet_flag'].value_counts(dropna = False)"
   ]
  },
  {
   "cell_type": "code",
   "execution_count": 54,
   "id": "facf2b09",
   "metadata": {},
   "outputs": [
    {
     "data": {
      "text/plain": [
       "0.06668470340832929"
      ]
     },
     "execution_count": 54,
     "metadata": {},
     "output_type": "execute_result"
    }
   ],
   "source": [
    "(162631 - 151786) / 162631"
   ]
  },
  {
   "cell_type": "markdown",
   "id": "8465e9fc",
   "metadata": {},
   "source": [
    "Based on my calculations above, only about 6.67% of Instacart customers have made at least one purchase from the pet department. "
   ]
  },
  {
   "cell_type": "markdown",
   "id": "38183c4e",
   "metadata": {},
   "source": [
    "  "
   ]
  },
  {
   "cell_type": "markdown",
   "id": "f446850f",
   "metadata": {},
   "source": [
    "  "
   ]
  },
  {
   "cell_type": "markdown",
   "id": "b24d8adf",
   "metadata": {},
   "source": [
    "  "
   ]
  },
  {
   "cell_type": "markdown",
   "id": "b219b6f1",
   "metadata": {},
   "source": [
    "  "
   ]
  },
  {
   "cell_type": "markdown",
   "id": "6d0a9463",
   "metadata": {},
   "source": [
    "   "
   ]
  },
  {
   "cell_type": "markdown",
   "id": "9e26e46a",
   "metadata": {},
   "source": [
    "- I am repeating the same steps to create a baby_flag column here. Orders that were placed from department_id 18 are flagged as 1, for yes and 0, for no!\n",
    "I will then calculate the number of transactions that were made in this department. \n",
    "I am also going to find out the percentage of users who place orders in this department. We do have a column for n_dependants, but that does not necessarily mean that the dependants are babies. "
   ]
  },
  {
   "cell_type": "code",
   "execution_count": 55,
   "id": "1540ffed",
   "metadata": {
    "scrolled": false
   },
   "outputs": [
    {
     "name": "stderr",
     "output_type": "stream",
     "text": [
      "/Users/azadehrezaei/opt/anaconda3/lib/python3.8/site-packages/pandas/core/indexing.py:1599: SettingWithCopyWarning: \n",
      "A value is trying to be set on a copy of a slice from a DataFrame.\n",
      "Try using .loc[row_indexer,col_indexer] = value instead\n",
      "\n",
      "See the caveats in the documentation: https://pandas.pydata.org/pandas-docs/stable/user_guide/indexing.html#returning-a-view-versus-a-copy\n",
      "  self.obj[key] = infer_fill_value(value)\n",
      "/Users/azadehrezaei/opt/anaconda3/lib/python3.8/site-packages/pandas/core/indexing.py:1720: SettingWithCopyWarning: \n",
      "A value is trying to be set on a copy of a slice from a DataFrame.\n",
      "Try using .loc[row_indexer,col_indexer] = value instead\n",
      "\n",
      "See the caveats in the documentation: https://pandas.pydata.org/pandas-docs/stable/user_guide/indexing.html#returning-a-view-versus-a-copy\n",
      "  self._setitem_single_column(loc, value, pi)\n"
     ]
    }
   ],
   "source": [
    "# create a baby_flag column and assigning yes/no to orders that include an item from department_id = 18 (babies):\n",
    "\n",
    "df_high_activity.loc[(df_high_activity['department_id'] == 18), 'baby_flag'] = 1"
   ]
  },
  {
   "cell_type": "code",
   "execution_count": 56,
   "id": "44e6a061",
   "metadata": {},
   "outputs": [
    {
     "name": "stderr",
     "output_type": "stream",
     "text": [
      "/Users/azadehrezaei/opt/anaconda3/lib/python3.8/site-packages/pandas/core/indexing.py:1720: SettingWithCopyWarning: \n",
      "A value is trying to be set on a copy of a slice from a DataFrame.\n",
      "Try using .loc[row_indexer,col_indexer] = value instead\n",
      "\n",
      "See the caveats in the documentation: https://pandas.pydata.org/pandas-docs/stable/user_guide/indexing.html#returning-a-view-versus-a-copy\n",
      "  self._setitem_single_column(loc, value, pi)\n"
     ]
    }
   ],
   "source": [
    "df_high_activity.loc[df_high_activity['department_id'] !=18, 'baby_flag'] = 0"
   ]
  },
  {
   "cell_type": "code",
   "execution_count": 57,
   "id": "b1026c6e",
   "metadata": {},
   "outputs": [
    {
     "data": {
      "text/plain": [
       "0.0    24078930\n",
       "1.0      335947\n",
       "Name: baby_flag, dtype: int64"
      ]
     },
     "execution_count": 57,
     "metadata": {},
     "output_type": "execute_result"
    }
   ],
   "source": [
    "df_high_activity['baby_flag'].value_counts(dropna = False)"
   ]
  },
  {
   "cell_type": "code",
   "execution_count": 58,
   "id": "9c2872e8",
   "metadata": {},
   "outputs": [
    {
     "data": {
      "text/plain": [
       "0.013759930062314055"
      ]
     },
     "execution_count": 58,
     "metadata": {},
     "output_type": "execute_result"
    }
   ],
   "source": [
    "335947/(335947 + 24078930)"
   ]
  },
  {
   "cell_type": "markdown",
   "id": "83633978",
   "metadata": {},
   "source": [
    "Based on the results of the flag and value_counts above, 13.76% of the transactions have an item from this (babies) department. \n",
    "\n",
    "I will next group the transactions by their user_id and aggregate the sum value of the baby_flag column:"
   ]
  },
  {
   "cell_type": "code",
   "execution_count": 59,
   "id": "9e548a0d",
   "metadata": {},
   "outputs": [],
   "source": [
    "df_babies = df_high_activity.groupby('user_id').agg({'baby_flag':'sum'})"
   ]
  },
  {
   "cell_type": "code",
   "execution_count": 60,
   "id": "4a01fcc2",
   "metadata": {
    "scrolled": true
   },
   "outputs": [
    {
     "data": {
      "text/plain": [
       "0.0      136860\n",
       "1.0        6831\n",
       "2.0        3329\n",
       "3.0        2006\n",
       "4.0        1559\n",
       "          ...  \n",
       "165.0         1\n",
       "152.0         1\n",
       "196.0         1\n",
       "267.0         1\n",
       "226.0         1\n",
       "Name: baby_flag, Length: 256, dtype: int64"
      ]
     },
     "execution_count": 60,
     "metadata": {},
     "output_type": "execute_result"
    }
   ],
   "source": [
    "df_babies['baby_flag'].value_counts(dropna = False)"
   ]
  },
  {
   "cell_type": "code",
   "execution_count": 61,
   "id": "1ae50d45",
   "metadata": {},
   "outputs": [
    {
     "data": {
      "text/plain": [
       "0.15846302365477677"
      ]
     },
     "execution_count": 61,
     "metadata": {},
     "output_type": "execute_result"
    }
   ],
   "source": [
    "(162631 - 136860) / 162631"
   ]
  },
  {
   "cell_type": "markdown",
   "id": "e84c6851",
   "metadata": {},
   "source": [
    " I already know from the previous part that there are a total of 162631 unique user_ids in this dataframe subset. \n",
    " Based on the above results, 15.85% of out Instacart customers are purchasing products from the babies department."
   ]
  },
  {
   "cell_type": "markdown",
   "id": "68525aa9",
   "metadata": {},
   "source": [
    "     "
   ]
  },
  {
   "cell_type": "markdown",
   "id": "b5efe848",
   "metadata": {},
   "source": [
    "  "
   ]
  },
  {
   "cell_type": "markdown",
   "id": "5ab98b5a",
   "metadata": {},
   "source": [
    "  "
   ]
  },
  {
   "cell_type": "markdown",
   "id": "67610691",
   "metadata": {},
   "source": [
    "   "
   ]
  },
  {
   "cell_type": "markdown",
   "id": "fa6fca5f",
   "metadata": {},
   "source": [
    "  "
   ]
  },
  {
   "cell_type": "markdown",
   "id": "cdfd085b",
   "metadata": {},
   "source": [
    "   "
   ]
  },
  {
   "cell_type": "code",
   "execution_count": 62,
   "id": "a12372b3",
   "metadata": {},
   "outputs": [],
   "source": [
    "# crosstab of age and time of the day\n",
    "\n",
    "crosstab_8 = pd.crosstab(df_high_activity['age'], df_high_activity['order_hour_of_day'], dropna = False)"
   ]
  },
  {
   "cell_type": "code",
   "execution_count": 63,
   "id": "23010e4c",
   "metadata": {},
   "outputs": [],
   "source": [
    "crosstab_8.to_clipboard()"
   ]
  },
  {
   "cell_type": "markdown",
   "id": "a4989d7e",
   "metadata": {},
   "source": [
    "Looks like most age groups place the most orders between 11 am to 4 pm. \n",
    "\n",
    "\n",
    "\n"
   ]
  },
  {
   "cell_type": "markdown",
   "id": "f6c6db27",
   "metadata": {},
   "source": [
    "\n",
    "\n"
   ]
  },
  {
   "cell_type": "markdown",
   "id": "d740704d",
   "metadata": {},
   "source": [
    "   "
   ]
  },
  {
   "cell_type": "markdown",
   "id": "44b4b202",
   "metadata": {},
   "source": [
    " "
   ]
  },
  {
   "cell_type": "markdown",
   "id": "16199270",
   "metadata": {},
   "source": [
    "  "
   ]
  },
  {
   "cell_type": "markdown",
   "id": "8d7664a1",
   "metadata": {},
   "source": [
    "      "
   ]
  },
  {
   "cell_type": "code",
   "execution_count": 64,
   "id": "5b9d90e8",
   "metadata": {},
   "outputs": [],
   "source": [
    "# crosstab of n_dependants and money spent\n",
    "\n",
    "crosstab_9 = pd.crosstab(df_high_activity['prices'].sum(), df_high_activity['n_dependants'], dropna = False)\n",
    "crosstab_9.to_clipboard()"
   ]
  },
  {
   "cell_type": "markdown",
   "id": "73ef578f",
   "metadata": {},
   "source": [
    "Interestingly, people with 0, 1, 2, and 3 n_dependants have the same number of transactions in the crosstab table above with those with 3 dependants spending sligthly the most followed by 0, 2 and then 1 dependant. "
   ]
  },
  {
   "cell_type": "markdown",
   "id": "3ad1168b",
   "metadata": {},
   "source": [
    "  "
   ]
  },
  {
   "cell_type": "markdown",
   "id": "7dcf6950",
   "metadata": {},
   "source": [
    "  "
   ]
  },
  {
   "cell_type": "markdown",
   "id": "244bf0e0",
   "metadata": {},
   "source": [
    "  "
   ]
  },
  {
   "cell_type": "markdown",
   "id": "d22f2c90",
   "metadata": {},
   "source": [
    "  "
   ]
  },
  {
   "cell_type": "code",
   "execution_count": 65,
   "id": "13ed5e8e",
   "metadata": {},
   "outputs": [],
   "source": [
    "# Finding the number of customers in each region:\n",
    "\n",
    "df_region = df_high_activity.groupby('region').agg({'user_id':['nunique']})"
   ]
  },
  {
   "cell_type": "code",
   "execution_count": 66,
   "id": "639a2766",
   "metadata": {
    "scrolled": false
   },
   "outputs": [
    {
     "data": {
      "text/html": [
       "<div>\n",
       "<style scoped>\n",
       "    .dataframe tbody tr th:only-of-type {\n",
       "        vertical-align: middle;\n",
       "    }\n",
       "\n",
       "    .dataframe tbody tr th {\n",
       "        vertical-align: top;\n",
       "    }\n",
       "\n",
       "    .dataframe thead tr th {\n",
       "        text-align: left;\n",
       "    }\n",
       "\n",
       "    .dataframe thead tr:last-of-type th {\n",
       "        text-align: right;\n",
       "    }\n",
       "</style>\n",
       "<table border=\"1\" class=\"dataframe\">\n",
       "  <thead>\n",
       "    <tr>\n",
       "      <th></th>\n",
       "      <th>user_id</th>\n",
       "    </tr>\n",
       "    <tr>\n",
       "      <th></th>\n",
       "      <th>nunique</th>\n",
       "    </tr>\n",
       "    <tr>\n",
       "      <th>region</th>\n",
       "      <th></th>\n",
       "    </tr>\n",
       "  </thead>\n",
       "  <tbody>\n",
       "    <tr>\n",
       "      <th>Midwest</th>\n",
       "      <td>38376</td>\n",
       "    </tr>\n",
       "    <tr>\n",
       "      <th>Northeast</th>\n",
       "      <td>28581</td>\n",
       "    </tr>\n",
       "    <tr>\n",
       "      <th>South</th>\n",
       "      <td>50984</td>\n",
       "    </tr>\n",
       "    <tr>\n",
       "      <th>West</th>\n",
       "      <td>44690</td>\n",
       "    </tr>\n",
       "  </tbody>\n",
       "</table>\n",
       "</div>"
      ],
      "text/plain": [
       "          user_id\n",
       "          nunique\n",
       "region           \n",
       "Midwest     38376\n",
       "Northeast   28581\n",
       "South       50984\n",
       "West        44690"
      ]
     },
     "execution_count": 66,
     "metadata": {},
     "output_type": "execute_result"
    }
   ],
   "source": [
    "df_region"
   ]
  },
  {
   "cell_type": "markdown",
   "id": "5fc94aae",
   "metadata": {},
   "source": [
    "Based on the table above, the most number of customers belong to the South region, follwoed by the West, and the least number of customers live in the Northeast. \n",
    "  "
   ]
  },
  {
   "cell_type": "markdown",
   "id": "1922b525",
   "metadata": {},
   "source": [
    "   "
   ]
  },
  {
   "cell_type": "markdown",
   "id": "a3b83b85",
   "metadata": {},
   "source": [
    "  "
   ]
  },
  {
   "cell_type": "markdown",
   "id": "7a68fbf7",
   "metadata": {},
   "source": [
    " "
   ]
  },
  {
   "cell_type": "markdown",
   "id": "0316b7f8",
   "metadata": {},
   "source": [
    "   "
   ]
  },
  {
   "cell_type": "markdown",
   "id": "cba281b4",
   "metadata": {},
   "source": [
    "  "
   ]
  },
  {
   "cell_type": "code",
   "execution_count": 67,
   "id": "1ff19810",
   "metadata": {},
   "outputs": [],
   "source": [
    "# Finding the number of customers in each gender category:\n",
    "\n",
    "df_gender= df_high_activity.groupby('gender').agg({'user_id':['nunique']})"
   ]
  },
  {
   "cell_type": "code",
   "execution_count": 68,
   "id": "ac09e544",
   "metadata": {
    "scrolled": true
   },
   "outputs": [
    {
     "data": {
      "text/html": [
       "<div>\n",
       "<style scoped>\n",
       "    .dataframe tbody tr th:only-of-type {\n",
       "        vertical-align: middle;\n",
       "    }\n",
       "\n",
       "    .dataframe tbody tr th {\n",
       "        vertical-align: top;\n",
       "    }\n",
       "\n",
       "    .dataframe thead tr th {\n",
       "        text-align: left;\n",
       "    }\n",
       "\n",
       "    .dataframe thead tr:last-of-type th {\n",
       "        text-align: right;\n",
       "    }\n",
       "</style>\n",
       "<table border=\"1\" class=\"dataframe\">\n",
       "  <thead>\n",
       "    <tr>\n",
       "      <th></th>\n",
       "      <th>user_id</th>\n",
       "    </tr>\n",
       "    <tr>\n",
       "      <th></th>\n",
       "      <th>nunique</th>\n",
       "    </tr>\n",
       "    <tr>\n",
       "      <th>gender</th>\n",
       "      <th></th>\n",
       "    </tr>\n",
       "  </thead>\n",
       "  <tbody>\n",
       "    <tr>\n",
       "      <th>Female</th>\n",
       "      <td>80633</td>\n",
       "    </tr>\n",
       "    <tr>\n",
       "      <th>Male</th>\n",
       "      <td>81998</td>\n",
       "    </tr>\n",
       "  </tbody>\n",
       "</table>\n",
       "</div>"
      ],
      "text/plain": [
       "       user_id\n",
       "       nunique\n",
       "gender        \n",
       "Female   80633\n",
       "Male     81998"
      ]
     },
     "execution_count": 68,
     "metadata": {},
     "output_type": "execute_result"
    }
   ],
   "source": [
    "df_gender"
   ]
  },
  {
   "cell_type": "markdown",
   "id": "15e9061f",
   "metadata": {},
   "source": [
    "   \n",
    "   \n",
    "   "
   ]
  },
  {
   "cell_type": "markdown",
   "id": "85de92d4",
   "metadata": {},
   "source": [
    "  "
   ]
  },
  {
   "cell_type": "markdown",
   "id": "230d7060",
   "metadata": {},
   "source": [
    "  "
   ]
  },
  {
   "cell_type": "markdown",
   "id": "d8868199",
   "metadata": {},
   "source": [
    "  "
   ]
  },
  {
   "cell_type": "code",
   "execution_count": 69,
   "id": "714753df",
   "metadata": {},
   "outputs": [],
   "source": [
    "# Finding the number of customers in each spending category:\n",
    "\n",
    "df_spending= df_high_activity.groupby('spending_flag').agg({'user_id':['nunique']})"
   ]
  },
  {
   "cell_type": "code",
   "execution_count": 70,
   "id": "3c7e58e0",
   "metadata": {},
   "outputs": [
    {
     "data": {
      "text/html": [
       "<div>\n",
       "<style scoped>\n",
       "    .dataframe tbody tr th:only-of-type {\n",
       "        vertical-align: middle;\n",
       "    }\n",
       "\n",
       "    .dataframe tbody tr th {\n",
       "        vertical-align: top;\n",
       "    }\n",
       "\n",
       "    .dataframe thead tr th {\n",
       "        text-align: left;\n",
       "    }\n",
       "\n",
       "    .dataframe thead tr:last-of-type th {\n",
       "        text-align: right;\n",
       "    }\n",
       "</style>\n",
       "<table border=\"1\" class=\"dataframe\">\n",
       "  <thead>\n",
       "    <tr>\n",
       "      <th></th>\n",
       "      <th>user_id</th>\n",
       "    </tr>\n",
       "    <tr>\n",
       "      <th></th>\n",
       "      <th>nunique</th>\n",
       "    </tr>\n",
       "    <tr>\n",
       "      <th>spending_flag</th>\n",
       "      <th></th>\n",
       "    </tr>\n",
       "  </thead>\n",
       "  <tbody>\n",
       "    <tr>\n",
       "      <th>High Spender</th>\n",
       "      <td>3700</td>\n",
       "    </tr>\n",
       "    <tr>\n",
       "      <th>Low Spender</th>\n",
       "      <td>158931</td>\n",
       "    </tr>\n",
       "  </tbody>\n",
       "</table>\n",
       "</div>"
      ],
      "text/plain": [
       "              user_id\n",
       "              nunique\n",
       "spending_flag        \n",
       "High Spender     3700\n",
       "Low Spender    158931"
      ]
     },
     "execution_count": 70,
     "metadata": {},
     "output_type": "execute_result"
    }
   ],
   "source": [
    "df_spending"
   ]
  },
  {
   "cell_type": "markdown",
   "id": "008d9e30",
   "metadata": {},
   "source": [
    "  "
   ]
  },
  {
   "cell_type": "markdown",
   "id": "e304f1f3",
   "metadata": {},
   "source": [
    "  "
   ]
  },
  {
   "cell_type": "markdown",
   "id": "b1cf9560",
   "metadata": {},
   "source": [
    "  "
   ]
  },
  {
   "cell_type": "markdown",
   "id": "151baea3",
   "metadata": {},
   "source": [
    "  "
   ]
  },
  {
   "cell_type": "code",
   "execution_count": 71,
   "id": "f9ca13de",
   "metadata": {},
   "outputs": [],
   "source": [
    "# Finding the number of customers in each loyalty category:\n",
    "\n",
    "df_loyalty= df_high_activity.groupby('loyalty_flag').agg({'user_id':['nunique']})"
   ]
  },
  {
   "cell_type": "code",
   "execution_count": 72,
   "id": "c246770f",
   "metadata": {},
   "outputs": [
    {
     "data": {
      "text/html": [
       "<div>\n",
       "<style scoped>\n",
       "    .dataframe tbody tr th:only-of-type {\n",
       "        vertical-align: middle;\n",
       "    }\n",
       "\n",
       "    .dataframe tbody tr th {\n",
       "        vertical-align: top;\n",
       "    }\n",
       "\n",
       "    .dataframe thead tr th {\n",
       "        text-align: left;\n",
       "    }\n",
       "\n",
       "    .dataframe thead tr:last-of-type th {\n",
       "        text-align: right;\n",
       "    }\n",
       "</style>\n",
       "<table border=\"1\" class=\"dataframe\">\n",
       "  <thead>\n",
       "    <tr>\n",
       "      <th></th>\n",
       "      <th>user_id</th>\n",
       "    </tr>\n",
       "    <tr>\n",
       "      <th></th>\n",
       "      <th>nunique</th>\n",
       "    </tr>\n",
       "    <tr>\n",
       "      <th>loyalty_flag</th>\n",
       "      <th></th>\n",
       "    </tr>\n",
       "  </thead>\n",
       "  <tbody>\n",
       "    <tr>\n",
       "      <th>Loyal customer</th>\n",
       "      <td>17017</td>\n",
       "    </tr>\n",
       "    <tr>\n",
       "      <th>New customer</th>\n",
       "      <td>68750</td>\n",
       "    </tr>\n",
       "    <tr>\n",
       "      <th>Regular customer</th>\n",
       "      <td>76864</td>\n",
       "    </tr>\n",
       "  </tbody>\n",
       "</table>\n",
       "</div>"
      ],
      "text/plain": [
       "                 user_id\n",
       "                 nunique\n",
       "loyalty_flag            \n",
       "Loyal customer     17017\n",
       "New customer       68750\n",
       "Regular customer   76864"
      ]
     },
     "execution_count": 72,
     "metadata": {},
     "output_type": "execute_result"
    }
   ],
   "source": [
    "df_loyalty"
   ]
  },
  {
   "cell_type": "markdown",
   "id": "b5015d04",
   "metadata": {},
   "source": [
    "  "
   ]
  },
  {
   "cell_type": "markdown",
   "id": "e0d53a4d",
   "metadata": {},
   "source": [
    "  "
   ]
  },
  {
   "cell_type": "markdown",
   "id": "af8c1a97",
   "metadata": {},
   "source": [
    "  "
   ]
  },
  {
   "cell_type": "markdown",
   "id": "e97c55a1",
   "metadata": {},
   "source": [
    "  "
   ]
  },
  {
   "cell_type": "code",
   "execution_count": 73,
   "id": "b5592f7a",
   "metadata": {},
   "outputs": [],
   "source": [
    "# Finding the number of pet_owners in each region:\n",
    "\n",
    "df_pet_region= df_high_activity.groupby(['pet_flag', 'region']).agg({'user_id':['nunique']})"
   ]
  },
  {
   "cell_type": "code",
   "execution_count": 74,
   "id": "43d7b867",
   "metadata": {
    "scrolled": true
   },
   "outputs": [
    {
     "data": {
      "text/html": [
       "<div>\n",
       "<style scoped>\n",
       "    .dataframe tbody tr th:only-of-type {\n",
       "        vertical-align: middle;\n",
       "    }\n",
       "\n",
       "    .dataframe tbody tr th {\n",
       "        vertical-align: top;\n",
       "    }\n",
       "\n",
       "    .dataframe thead tr th {\n",
       "        text-align: left;\n",
       "    }\n",
       "\n",
       "    .dataframe thead tr:last-of-type th {\n",
       "        text-align: right;\n",
       "    }\n",
       "</style>\n",
       "<table border=\"1\" class=\"dataframe\">\n",
       "  <thead>\n",
       "    <tr>\n",
       "      <th></th>\n",
       "      <th></th>\n",
       "      <th>user_id</th>\n",
       "    </tr>\n",
       "    <tr>\n",
       "      <th></th>\n",
       "      <th></th>\n",
       "      <th>nunique</th>\n",
       "    </tr>\n",
       "    <tr>\n",
       "      <th>pet_flag</th>\n",
       "      <th>region</th>\n",
       "      <th></th>\n",
       "    </tr>\n",
       "  </thead>\n",
       "  <tbody>\n",
       "    <tr>\n",
       "      <th rowspan=\"4\" valign=\"top\">0.0</th>\n",
       "      <th>Midwest</th>\n",
       "      <td>38373</td>\n",
       "    </tr>\n",
       "    <tr>\n",
       "      <th>Northeast</th>\n",
       "      <td>28581</td>\n",
       "    </tr>\n",
       "    <tr>\n",
       "      <th>South</th>\n",
       "      <td>50978</td>\n",
       "    </tr>\n",
       "    <tr>\n",
       "      <th>West</th>\n",
       "      <td>44684</td>\n",
       "    </tr>\n",
       "    <tr>\n",
       "      <th rowspan=\"4\" valign=\"top\">1.0</th>\n",
       "      <th>Midwest</th>\n",
       "      <td>2570</td>\n",
       "    </tr>\n",
       "    <tr>\n",
       "      <th>Northeast</th>\n",
       "      <td>1879</td>\n",
       "    </tr>\n",
       "    <tr>\n",
       "      <th>South</th>\n",
       "      <td>3354</td>\n",
       "    </tr>\n",
       "    <tr>\n",
       "      <th>West</th>\n",
       "      <td>3042</td>\n",
       "    </tr>\n",
       "  </tbody>\n",
       "</table>\n",
       "</div>"
      ],
      "text/plain": [
       "                   user_id\n",
       "                   nunique\n",
       "pet_flag region           \n",
       "0.0      Midwest     38373\n",
       "         Northeast   28581\n",
       "         South       50978\n",
       "         West        44684\n",
       "1.0      Midwest      2570\n",
       "         Northeast    1879\n",
       "         South        3354\n",
       "         West         3042"
      ]
     },
     "execution_count": 74,
     "metadata": {},
     "output_type": "execute_result"
    }
   ],
   "source": [
    "df_pet_region"
   ]
  },
  {
   "cell_type": "markdown",
   "id": "567c1b0c",
   "metadata": {},
   "source": [
    "Based on the table the highest number of petowners live in the South and next in the West! "
   ]
  },
  {
   "cell_type": "markdown",
   "id": "383a97ea",
   "metadata": {},
   "source": [
    "  "
   ]
  },
  {
   "cell_type": "markdown",
   "id": "4dc23fff",
   "metadata": {},
   "source": [
    "  "
   ]
  },
  {
   "cell_type": "markdown",
   "id": "12490d9b",
   "metadata": {},
   "source": [
    "  "
   ]
  },
  {
   "cell_type": "markdown",
   "id": "c3d3d97b",
   "metadata": {},
   "source": [
    "  "
   ]
  },
  {
   "cell_type": "code",
   "execution_count": 75,
   "id": "8749f2a1",
   "metadata": {},
   "outputs": [],
   "source": [
    "# Finding the number of baby_flags in each region:\n",
    "\n",
    "df_baby_region= df_high_activity.groupby(['baby_flag', 'region']).agg({'user_id':['nunique']})"
   ]
  },
  {
   "cell_type": "code",
   "execution_count": 76,
   "id": "58737e40",
   "metadata": {
    "scrolled": false
   },
   "outputs": [
    {
     "data": {
      "text/html": [
       "<div>\n",
       "<style scoped>\n",
       "    .dataframe tbody tr th:only-of-type {\n",
       "        vertical-align: middle;\n",
       "    }\n",
       "\n",
       "    .dataframe tbody tr th {\n",
       "        vertical-align: top;\n",
       "    }\n",
       "\n",
       "    .dataframe thead tr th {\n",
       "        text-align: left;\n",
       "    }\n",
       "\n",
       "    .dataframe thead tr:last-of-type th {\n",
       "        text-align: right;\n",
       "    }\n",
       "</style>\n",
       "<table border=\"1\" class=\"dataframe\">\n",
       "  <thead>\n",
       "    <tr>\n",
       "      <th></th>\n",
       "      <th></th>\n",
       "      <th>user_id</th>\n",
       "    </tr>\n",
       "    <tr>\n",
       "      <th></th>\n",
       "      <th></th>\n",
       "      <th>nunique</th>\n",
       "    </tr>\n",
       "    <tr>\n",
       "      <th>baby_flag</th>\n",
       "      <th>region</th>\n",
       "      <th></th>\n",
       "    </tr>\n",
       "  </thead>\n",
       "  <tbody>\n",
       "    <tr>\n",
       "      <th rowspan=\"4\" valign=\"top\">0.0</th>\n",
       "      <th>Midwest</th>\n",
       "      <td>38374</td>\n",
       "    </tr>\n",
       "    <tr>\n",
       "      <th>Northeast</th>\n",
       "      <td>28577</td>\n",
       "    </tr>\n",
       "    <tr>\n",
       "      <th>South</th>\n",
       "      <td>50976</td>\n",
       "    </tr>\n",
       "    <tr>\n",
       "      <th>West</th>\n",
       "      <td>44682</td>\n",
       "    </tr>\n",
       "    <tr>\n",
       "      <th rowspan=\"4\" valign=\"top\">1.0</th>\n",
       "      <th>Midwest</th>\n",
       "      <td>6161</td>\n",
       "    </tr>\n",
       "    <tr>\n",
       "      <th>Northeast</th>\n",
       "      <td>4492</td>\n",
       "    </tr>\n",
       "    <tr>\n",
       "      <th>South</th>\n",
       "      <td>8111</td>\n",
       "    </tr>\n",
       "    <tr>\n",
       "      <th>West</th>\n",
       "      <td>7007</td>\n",
       "    </tr>\n",
       "  </tbody>\n",
       "</table>\n",
       "</div>"
      ],
      "text/plain": [
       "                    user_id\n",
       "                    nunique\n",
       "baby_flag region           \n",
       "0.0       Midwest     38374\n",
       "          Northeast   28577\n",
       "          South       50976\n",
       "          West        44682\n",
       "1.0       Midwest      6161\n",
       "          Northeast    4492\n",
       "          South        8111\n",
       "          West         7007"
      ]
     },
     "execution_count": 76,
     "metadata": {},
     "output_type": "execute_result"
    }
   ],
   "source": [
    "df_baby_region"
   ]
  },
  {
   "cell_type": "markdown",
   "id": "abc627e7",
   "metadata": {},
   "source": [
    " "
   ]
  },
  {
   "cell_type": "markdown",
   "id": "8eb8e869",
   "metadata": {},
   "source": [
    "  "
   ]
  },
  {
   "cell_type": "markdown",
   "id": "e7cfd363",
   "metadata": {},
   "source": [
    "  "
   ]
  },
  {
   "cell_type": "markdown",
   "id": "b3bff813",
   "metadata": {},
   "source": [
    "  "
   ]
  },
  {
   "cell_type": "code",
   "execution_count": 77,
   "id": "a09d8d36",
   "metadata": {},
   "outputs": [],
   "source": [
    "# Finding the number of customers per day in each region:\n",
    "\n",
    "df_day_region= df_high_activity.groupby(['order_day_of_week', 'region']).agg({'user_id':['nunique']})"
   ]
  },
  {
   "cell_type": "code",
   "execution_count": 78,
   "id": "96a959e9",
   "metadata": {},
   "outputs": [
    {
     "data": {
      "text/html": [
       "<div>\n",
       "<style scoped>\n",
       "    .dataframe tbody tr th:only-of-type {\n",
       "        vertical-align: middle;\n",
       "    }\n",
       "\n",
       "    .dataframe tbody tr th {\n",
       "        vertical-align: top;\n",
       "    }\n",
       "\n",
       "    .dataframe thead tr th {\n",
       "        text-align: left;\n",
       "    }\n",
       "\n",
       "    .dataframe thead tr:last-of-type th {\n",
       "        text-align: right;\n",
       "    }\n",
       "</style>\n",
       "<table border=\"1\" class=\"dataframe\">\n",
       "  <thead>\n",
       "    <tr>\n",
       "      <th></th>\n",
       "      <th></th>\n",
       "      <th>user_id</th>\n",
       "    </tr>\n",
       "    <tr>\n",
       "      <th></th>\n",
       "      <th></th>\n",
       "      <th>nunique</th>\n",
       "    </tr>\n",
       "    <tr>\n",
       "      <th>order_day_of_week</th>\n",
       "      <th>region</th>\n",
       "      <th></th>\n",
       "    </tr>\n",
       "  </thead>\n",
       "  <tbody>\n",
       "    <tr>\n",
       "      <th rowspan=\"4\" valign=\"top\">0</th>\n",
       "      <th>Midwest</th>\n",
       "      <td>24411</td>\n",
       "    </tr>\n",
       "    <tr>\n",
       "      <th>Northeast</th>\n",
       "      <td>18268</td>\n",
       "    </tr>\n",
       "    <tr>\n",
       "      <th>South</th>\n",
       "      <td>32553</td>\n",
       "    </tr>\n",
       "    <tr>\n",
       "      <th>West</th>\n",
       "      <td>28695</td>\n",
       "    </tr>\n",
       "    <tr>\n",
       "      <th rowspan=\"4\" valign=\"top\">1</th>\n",
       "      <th>Midwest</th>\n",
       "      <td>25562</td>\n",
       "    </tr>\n",
       "    <tr>\n",
       "      <th>Northeast</th>\n",
       "      <td>19116</td>\n",
       "    </tr>\n",
       "    <tr>\n",
       "      <th>South</th>\n",
       "      <td>33849</td>\n",
       "    </tr>\n",
       "    <tr>\n",
       "      <th>West</th>\n",
       "      <td>29860</td>\n",
       "    </tr>\n",
       "    <tr>\n",
       "      <th rowspan=\"4\" valign=\"top\">2</th>\n",
       "      <th>Midwest</th>\n",
       "      <td>23663</td>\n",
       "    </tr>\n",
       "    <tr>\n",
       "      <th>Northeast</th>\n",
       "      <td>17613</td>\n",
       "    </tr>\n",
       "    <tr>\n",
       "      <th>South</th>\n",
       "      <td>31506</td>\n",
       "    </tr>\n",
       "    <tr>\n",
       "      <th>West</th>\n",
       "      <td>27429</td>\n",
       "    </tr>\n",
       "    <tr>\n",
       "      <th rowspan=\"4\" valign=\"top\">3</th>\n",
       "      <th>Midwest</th>\n",
       "      <td>22918</td>\n",
       "    </tr>\n",
       "    <tr>\n",
       "      <th>Northeast</th>\n",
       "      <td>17123</td>\n",
       "    </tr>\n",
       "    <tr>\n",
       "      <th>South</th>\n",
       "      <td>30432</td>\n",
       "    </tr>\n",
       "    <tr>\n",
       "      <th>West</th>\n",
       "      <td>26488</td>\n",
       "    </tr>\n",
       "    <tr>\n",
       "      <th rowspan=\"4\" valign=\"top\">4</th>\n",
       "      <th>Midwest</th>\n",
       "      <td>22378</td>\n",
       "    </tr>\n",
       "    <tr>\n",
       "      <th>Northeast</th>\n",
       "      <td>16777</td>\n",
       "    </tr>\n",
       "    <tr>\n",
       "      <th>South</th>\n",
       "      <td>29925</td>\n",
       "    </tr>\n",
       "    <tr>\n",
       "      <th>West</th>\n",
       "      <td>26121</td>\n",
       "    </tr>\n",
       "    <tr>\n",
       "      <th rowspan=\"4\" valign=\"top\">5</th>\n",
       "      <th>Midwest</th>\n",
       "      <td>22868</td>\n",
       "    </tr>\n",
       "    <tr>\n",
       "      <th>Northeast</th>\n",
       "      <td>16891</td>\n",
       "    </tr>\n",
       "    <tr>\n",
       "      <th>South</th>\n",
       "      <td>30168</td>\n",
       "    </tr>\n",
       "    <tr>\n",
       "      <th>West</th>\n",
       "      <td>26537</td>\n",
       "    </tr>\n",
       "    <tr>\n",
       "      <th rowspan=\"4\" valign=\"top\">6</th>\n",
       "      <th>Midwest</th>\n",
       "      <td>21561</td>\n",
       "    </tr>\n",
       "    <tr>\n",
       "      <th>Northeast</th>\n",
       "      <td>16166</td>\n",
       "    </tr>\n",
       "    <tr>\n",
       "      <th>South</th>\n",
       "      <td>28698</td>\n",
       "    </tr>\n",
       "    <tr>\n",
       "      <th>West</th>\n",
       "      <td>25300</td>\n",
       "    </tr>\n",
       "  </tbody>\n",
       "</table>\n",
       "</div>"
      ],
      "text/plain": [
       "                            user_id\n",
       "                            nunique\n",
       "order_day_of_week region           \n",
       "0                 Midwest     24411\n",
       "                  Northeast   18268\n",
       "                  South       32553\n",
       "                  West        28695\n",
       "1                 Midwest     25562\n",
       "                  Northeast   19116\n",
       "                  South       33849\n",
       "                  West        29860\n",
       "2                 Midwest     23663\n",
       "                  Northeast   17613\n",
       "                  South       31506\n",
       "                  West        27429\n",
       "3                 Midwest     22918\n",
       "                  Northeast   17123\n",
       "                  South       30432\n",
       "                  West        26488\n",
       "4                 Midwest     22378\n",
       "                  Northeast   16777\n",
       "                  South       29925\n",
       "                  West        26121\n",
       "5                 Midwest     22868\n",
       "                  Northeast   16891\n",
       "                  South       30168\n",
       "                  West        26537\n",
       "6                 Midwest     21561\n",
       "                  Northeast   16166\n",
       "                  South       28698\n",
       "                  West        25300"
      ]
     },
     "execution_count": 78,
     "metadata": {},
     "output_type": "execute_result"
    }
   ],
   "source": [
    "df_day_region"
   ]
  },
  {
   "cell_type": "markdown",
   "id": "de819037",
   "metadata": {},
   "source": [
    "  "
   ]
  },
  {
   "cell_type": "markdown",
   "id": "78189989",
   "metadata": {},
   "source": [
    "  "
   ]
  },
  {
   "cell_type": "markdown",
   "id": "6eeacbea",
   "metadata": {},
   "source": [
    "  "
   ]
  },
  {
   "cell_type": "markdown",
   "id": "a5758b6f",
   "metadata": {},
   "source": [
    " "
   ]
  },
  {
   "cell_type": "code",
   "execution_count": 87,
   "id": "d1aa66a7",
   "metadata": {},
   "outputs": [],
   "source": [
    "# Export data:\n",
    "df_high_activity.to_pickle(os.path.join(path,'02 Data','Prepared Data','high_activity_customers.pkl'))"
   ]
  },
  {
   "cell_type": "markdown",
   "id": "fb7d3a21",
   "metadata": {},
   "source": [
    "  "
   ]
  },
  {
   "cell_type": "markdown",
   "id": "7caa99b7",
   "metadata": {},
   "source": [
    "  "
   ]
  },
  {
   "cell_type": "markdown",
   "id": "b90de218",
   "metadata": {},
   "source": [
    "  "
   ]
  },
  {
   "cell_type": "markdown",
   "id": "0f0d1bdb",
   "metadata": {},
   "source": [
    "## Question 6:\n",
    "Create an appropriate visualization to show the distribution of profiles."
   ]
  },
  {
   "cell_type": "markdown",
   "id": "13871aef",
   "metadata": {},
   "source": [
    "  "
   ]
  },
  {
   "cell_type": "code",
   "execution_count": 79,
   "id": "2874031c",
   "metadata": {},
   "outputs": [],
   "source": [
    "# Creating two sets small/big for the line plots in this section:\n",
    "\n",
    "np.random.seed(4)\n",
    "dev = np.random.rand(len(df_high_activity)) <= 0.7"
   ]
  },
  {
   "cell_type": "code",
   "execution_count": 80,
   "id": "d48590a2",
   "metadata": {},
   "outputs": [],
   "source": [
    "# Creating two subsets for the dataframe with 70 and 30 percent of the data:\n",
    "big = df_high_activity[dev]\n",
    "small = df_high_activity[~dev]"
   ]
  },
  {
   "cell_type": "markdown",
   "id": "bab80a02",
   "metadata": {},
   "source": [
    "- Creating a lineplot for the changes in prices column based on order_day_of_week:"
   ]
  },
  {
   "cell_type": "code",
   "execution_count": 81,
   "id": "386afaeb",
   "metadata": {},
   "outputs": [],
   "source": [
    "# Reducing the dataframe to the columns I need:\n",
    "\n",
    "df_1 = small[['order_day_of_week', 'prices']]"
   ]
  },
  {
   "cell_type": "code",
   "execution_count": 92,
   "id": "00a796af",
   "metadata": {
    "scrolled": false
   },
   "outputs": [
    {
     "data": {
      "image/png": "[encoded data removed]",
      "text/plain": [
       "<Figure size 432x288 with 1 Axes>"
      ]
     },
     "metadata": {
      "needs_background": "light"
     },
     "output_type": "display_data"
    }
   ],
   "source": [
    "# creating the line plot for the small dataframe:\n",
    "line_plot = sns.lineplot(data = df_1, x = 'order_day_of_week', y = 'prices')"
   ]
  },
  {
   "cell_type": "code",
   "execution_count": 93,
   "id": "561642fc",
   "metadata": {},
   "outputs": [],
   "source": [
    "line_plot.figure.savefig(os.path.join(path, '04 Analysis','Visualizations', 'prices_day_of_week.png'))"
   ]
  },
  {
   "cell_type": "markdown",
   "id": "be96127f",
   "metadata": {},
   "source": [
    "  "
   ]
  },
  {
   "cell_type": "markdown",
   "id": "cc4ece80",
   "metadata": {},
   "source": [
    "  "
   ]
  },
  {
   "cell_type": "markdown",
   "id": "1fb794ee",
   "metadata": {},
   "source": [
    "  "
   ]
  },
  {
   "cell_type": "markdown",
   "id": "773bee9f",
   "metadata": {},
   "source": [
    "- Creating a lineplot for the changes in prices column based on order_hour_of_day:"
   ]
  },
  {
   "cell_type": "code",
   "execution_count": 82,
   "id": "375bd0cf",
   "metadata": {},
   "outputs": [],
   "source": [
    "# Reducing the dataframe to the columns I need:\n",
    "df_2 = small[['order_hour_of_day', 'prices']]"
   ]
  },
  {
   "cell_type": "code",
   "execution_count": 95,
   "id": "26d1e5fa",
   "metadata": {
    "scrolled": true
   },
   "outputs": [
    {
     "data": {
      "image/png": "[encoded data removed]",
      "text/plain": [
       "<Figure size 432x288 with 1 Axes>"
      ]
     },
     "metadata": {
      "needs_background": "light"
     },
     "output_type": "display_data"
    }
   ],
   "source": [
    "line_plot2 = sns.lineplot(data = df_2, x = 'order_hour_of_day', y = 'prices')"
   ]
  },
  {
   "cell_type": "code",
   "execution_count": 96,
   "id": "5fc295fa",
   "metadata": {},
   "outputs": [],
   "source": [
    "line_plot2.figure.savefig(os.path.join(path, '04 Analysis','Visualizations', 'prices_hour_of_day.png'))"
   ]
  },
  {
   "cell_type": "markdown",
   "id": "42bd7a87",
   "metadata": {},
   "source": [
    "  "
   ]
  },
  {
   "cell_type": "markdown",
   "id": "00617f3a",
   "metadata": {},
   "source": [
    "  "
   ]
  },
  {
   "cell_type": "markdown",
   "id": "bb2f71db",
   "metadata": {},
   "source": [
    "  "
   ]
  },
  {
   "cell_type": "markdown",
   "id": "cff87691",
   "metadata": {},
   "source": [
    "  "
   ]
  },
  {
   "cell_type": "markdown",
   "id": "7107b03f",
   "metadata": {},
   "source": [
    "  "
   ]
  },
  {
   "cell_type": "markdown",
   "id": "06997f01",
   "metadata": {},
   "source": [
    "  "
   ]
  },
  {
   "cell_type": "code",
   "execution_count": 97,
   "id": "81b49dbb",
   "metadata": {
    "scrolled": true
   },
   "outputs": [
    {
     "data": {
      "image/png": "[encoded data removed]",
      "text/plain": [
       "<Figure size 432x288 with 1 Axes>"
      ]
     },
     "metadata": {
      "needs_background": "light"
     },
     "output_type": "display_data"
    }
   ],
   "source": [
    "# order day of the week frequency barplot:\n",
    "barplot = df_high_activity['order_day_of_week'].value_counts().sort_index().plot.bar()"
   ]
  },
  {
   "cell_type": "code",
   "execution_count": 98,
   "id": "b640c529",
   "metadata": {},
   "outputs": [],
   "source": [
    "barplot.figure.savefig(os.path.join(path, '04 Analysis','Visualizations', 'order_day_of_week_frequency.png'))"
   ]
  },
  {
   "cell_type": "markdown",
   "id": "0507b5b0",
   "metadata": {},
   "source": [
    "  "
   ]
  },
  {
   "cell_type": "markdown",
   "id": "33f468a8",
   "metadata": {},
   "source": [
    "  "
   ]
  },
  {
   "cell_type": "markdown",
   "id": "f06e28ed",
   "metadata": {},
   "source": [
    "  "
   ]
  },
  {
   "cell_type": "markdown",
   "id": "a316f16b",
   "metadata": {},
   "source": [
    "  "
   ]
  },
  {
   "cell_type": "code",
   "execution_count": 100,
   "id": "6e178efb",
   "metadata": {
    "scrolled": true
   },
   "outputs": [
    {
     "data": {
      "image/png": "[encoded data removed]",
      "text/plain": [
       "<Figure size 432x288 with 1 Axes>"
      ]
     },
     "metadata": {
      "needs_background": "light"
     },
     "output_type": "display_data"
    }
   ],
   "source": [
    "hist = df_high_activity['prices'].plot.hist(bins = 70, color = ['green'])"
   ]
  },
  {
   "cell_type": "code",
   "execution_count": 101,
   "id": "e3cbc1b2",
   "metadata": {},
   "outputs": [],
   "source": [
    "hist.figure.savefig(os.path.join(path, '04 Analysis','Visualizations', 'prices_distribution_hist.png'))"
   ]
  },
  {
   "cell_type": "markdown",
   "id": "417dffea",
   "metadata": {},
   "source": [
    "  "
   ]
  },
  {
   "cell_type": "markdown",
   "id": "77543e08",
   "metadata": {},
   "source": [
    "  "
   ]
  },
  {
   "cell_type": "markdown",
   "id": "4df46212",
   "metadata": {},
   "source": [
    "  "
   ]
  },
  {
   "cell_type": "markdown",
   "id": "0be814c0",
   "metadata": {},
   "source": [
    "  "
   ]
  },
  {
   "cell_type": "code",
   "execution_count": 102,
   "id": "bcd700fc",
   "metadata": {
    "scrolled": true
   },
   "outputs": [
    {
     "data": {
      "image/png": "[encoded data removed]",
      "text/plain": [
       "<Figure size 432x288 with 1 Axes>"
      ]
     },
     "metadata": {
      "needs_background": "light"
     },
     "output_type": "display_data"
    }
   ],
   "source": [
    "# You need to provide the Instacart senior stakeholders with descriptive findings about sales. Create a histogram of the “order_hour_of_day” column.In a markdown cell beneath your histogram, describe what the histogram demonstrates.\n",
    "hist_2 = df_high_activity['order_hour_of_day'].plot.hist(bins = 24, color = ['orange'])"
   ]
  },
  {
   "cell_type": "code",
   "execution_count": 103,
   "id": "8c4880c7",
   "metadata": {},
   "outputs": [],
   "source": [
    "hist_2.figure.savefig(os.path.join(path, '04 Analysis','Visualizations', 'order_hour_of_day_histogram.png'))"
   ]
  },
  {
   "cell_type": "markdown",
   "id": "925bc94f",
   "metadata": {},
   "source": [
    "  "
   ]
  },
  {
   "cell_type": "markdown",
   "id": "928da14b",
   "metadata": {},
   "source": [
    "  "
   ]
  },
  {
   "cell_type": "markdown",
   "id": "e617fdd7",
   "metadata": {},
   "source": [
    "  "
   ]
  },
  {
   "cell_type": "markdown",
   "id": "36a5bfea",
   "metadata": {},
   "source": [
    "  "
   ]
  },
  {
   "cell_type": "code",
   "execution_count": 110,
   "id": "b5f88605",
   "metadata": {},
   "outputs": [
    {
     "data": {
      "text/plain": [
       "<matplotlib.legend.Legend at 0x7f95eb5067c0>"
      ]
     },
     "execution_count": 110,
     "metadata": {},
     "output_type": "execute_result"
    },
    {
     "data": {
      "image/png": "[encoded data removed]",
      "text/plain": [
       "<Figure size 432x288 with 1 Axes>"
      ]
     },
     "metadata": {
      "needs_background": "light"
     },
     "output_type": "display_data"
    }
   ],
   "source": [
    "#The marketing team is curious about the distribution of orders among customers in terms of loyalty. Create a bar chart from the “loyalty_flag” column.\n",
    "barplot_2 = df_high_activity['loyalty_flag'].value_counts().plot.bar(color = ['red'])\n",
    "plt.legend(title='Customer Loyalty')"
   ]
  },
  {
   "cell_type": "code",
   "execution_count": 111,
   "id": "0352da81",
   "metadata": {},
   "outputs": [],
   "source": [
    "barplot_2.figure.savefig(os.path.join(path, '04 Analysis','Visualizations', 'loyalty_flag_bar.png'))"
   ]
  },
  {
   "cell_type": "markdown",
   "id": "84232b65",
   "metadata": {},
   "source": [
    "  "
   ]
  },
  {
   "cell_type": "markdown",
   "id": "c08258eb",
   "metadata": {},
   "source": [
    "  "
   ]
  },
  {
   "cell_type": "markdown",
   "id": "76045915",
   "metadata": {},
   "source": [
    "  "
   ]
  },
  {
   "cell_type": "markdown",
   "id": "588d54dd",
   "metadata": {},
   "source": [
    "  "
   ]
  },
  {
   "cell_type": "code",
   "execution_count": 116,
   "id": "28960905",
   "metadata": {},
   "outputs": [
    {
     "data": {
      "image/png": "[encoded data removed]",
      "text/plain": [
       "<Figure size 432x288 with 1 Axes>"
      ]
     },
     "metadata": {
      "needs_background": "light"
     },
     "output_type": "display_data"
    }
   ],
   "source": [
    "# department_id frequency:\n",
    "\n",
    "barplot_3 = df_high_activity['department_id'].value_counts().plot.bar(color = ['green'])"
   ]
  },
  {
   "cell_type": "code",
   "execution_count": 117,
   "id": "63e32153",
   "metadata": {},
   "outputs": [],
   "source": [
    "barplot_3.figure.savefig(os.path.join(path, '04 Analysis','Visualizations', 'department_id_freq.png'))"
   ]
  },
  {
   "cell_type": "markdown",
   "id": "f25a6fbe",
   "metadata": {},
   "source": [
    "  "
   ]
  },
  {
   "cell_type": "markdown",
   "id": "76e66a80",
   "metadata": {},
   "source": [
    "  "
   ]
  },
  {
   "cell_type": "markdown",
   "id": "220c04d2",
   "metadata": {},
   "source": [
    "  "
   ]
  },
  {
   "cell_type": "markdown",
   "id": "cba9cdab",
   "metadata": {},
   "source": [
    "  "
   ]
  },
  {
   "cell_type": "code",
   "execution_count": 108,
   "id": "7f7601b3",
   "metadata": {},
   "outputs": [
    {
     "data": {
      "text/plain": [
       "<matplotlib.legend.Legend at 0x7f95eb7269d0>"
      ]
     },
     "execution_count": 108,
     "metadata": {},
     "output_type": "execute_result"
    },
    {
     "data": {
      "image/png": "[encoded data removed]",
      "text/plain": [
       "<Figure size 432x288 with 1 Axes>"
      ]
     },
     "metadata": {
      "needs_background": "light"
     },
     "output_type": "display_data"
    }
   ],
   "source": [
    "# Income_level bar plot:\n",
    "barplot_4 = df_high_activity['income_flag'].value_counts().plot.bar(color = ['red'])\n",
    "plt.legend(title='Income Level')"
   ]
  },
  {
   "cell_type": "code",
   "execution_count": 109,
   "id": "7313d5f9",
   "metadata": {},
   "outputs": [],
   "source": [
    "barplot_4.figure.savefig(os.path.join(path, '04 Analysis','Visualizations', 'income_flag_barplot.png'))"
   ]
  },
  {
   "cell_type": "markdown",
   "id": "a1c4c658",
   "metadata": {},
   "source": [
    "  "
   ]
  },
  {
   "cell_type": "markdown",
   "id": "c4f3c06a",
   "metadata": {},
   "source": [
    "  "
   ]
  },
  {
   "cell_type": "markdown",
   "id": "00b93bbe",
   "metadata": {},
   "source": [
    "   "
   ]
  },
  {
   "cell_type": "markdown",
   "id": "14b87281",
   "metadata": {},
   "source": [
    "  "
   ]
  },
  {
   "cell_type": "code",
   "execution_count": 123,
   "id": "bb76c290",
   "metadata": {},
   "outputs": [
    {
     "data": {
      "text/plain": [
       "<matplotlib.legend.Legend at 0x7fae34d1cf40>"
      ]
     },
     "execution_count": 123,
     "metadata": {},
     "output_type": "execute_result"
    },
    {
     "data": {
      "image/png": "[encoded data removed]",
      "text/plain": [
       "<Figure size 432x288 with 1 Axes>"
      ]
     },
     "metadata": {
      "needs_background": "light"
     },
     "output_type": "display_data"
    }
   ],
   "source": [
    "# fam_status bar plot:\n",
    "\n",
    "barplot_5 = df_high_activity['fam_status'].value_counts().plot.bar(color=['purple'])\n",
    "plt.legend(title='Family Status')"
   ]
  },
  {
   "cell_type": "code",
   "execution_count": 124,
   "id": "b257c2f7",
   "metadata": {},
   "outputs": [],
   "source": [
    "barplot_5.figure.savefig(os.path.join(path, '04 Analysis','Visualizations', 'family_status_barplot.png'))"
   ]
  },
  {
   "cell_type": "markdown",
   "id": "40d50860",
   "metadata": {},
   "source": [
    "   "
   ]
  },
  {
   "cell_type": "markdown",
   "id": "50fc364a",
   "metadata": {},
   "source": [
    "  "
   ]
  },
  {
   "cell_type": "markdown",
   "id": "3ae72306",
   "metadata": {},
   "source": [
    "  "
   ]
  },
  {
   "cell_type": "markdown",
   "id": "56def02d",
   "metadata": {},
   "source": [
    "  "
   ]
  },
  {
   "cell_type": "markdown",
   "id": "0877379c",
   "metadata": {},
   "source": [
    "  "
   ]
  },
  {
   "cell_type": "markdown",
   "id": "7d204a35",
   "metadata": {},
   "source": [
    "  "
   ]
  },
  {
   "cell_type": "code",
   "execution_count": 83,
   "id": "f1184ec3",
   "metadata": {},
   "outputs": [],
   "source": [
    "# creating subgroup of user frequency type of items purchased\n",
    "\n",
    "df_3 = df_high_activity.groupby(['department_id', 'loyalty_flag'])['department_id'].count().unstack('loyalty_flag').fillna(0)"
   ]
  },
  {
   "cell_type": "code",
   "execution_count": 131,
   "id": "73aabca2",
   "metadata": {},
   "outputs": [
    {
     "data": {
      "image/png": "[encoded data removed]",
      "text/plain": [
       "<Figure size 432x288 with 1 Axes>"
      ]
     },
     "metadata": {
      "needs_background": "light"
     },
     "output_type": "display_data"
    }
   ],
   "source": [
    "# loyalty_flag and department_id stacked barplot: \n",
    "stackedbar_1 = df_3.plot(kind='bar', stacked=True)"
   ]
  },
  {
   "cell_type": "code",
   "execution_count": 133,
   "id": "72358d05",
   "metadata": {},
   "outputs": [],
   "source": [
    "stackedbar_1.figure.savefig(os.path.join(path, '04 Analysis','Visualizations', 'loyalty_flag_and_departmentid_stackedbar.png'))"
   ]
  },
  {
   "cell_type": "markdown",
   "id": "a0bb4d61",
   "metadata": {},
   "source": [
    "  "
   ]
  },
  {
   "cell_type": "markdown",
   "id": "f7d5b573",
   "metadata": {},
   "source": [
    "  "
   ]
  },
  {
   "cell_type": "markdown",
   "id": "c5b636c0",
   "metadata": {},
   "source": [
    "  "
   ]
  },
  {
   "cell_type": "markdown",
   "id": "6bea7610",
   "metadata": {},
   "source": [
    "  "
   ]
  },
  {
   "cell_type": "code",
   "execution_count": 84,
   "id": "d897adf0",
   "metadata": {},
   "outputs": [],
   "source": [
    "# creating subgroup of user region and loyalty_flag of items purchased\n",
    "\n",
    "df_4 = df_high_activity.groupby(['region', 'loyalty_flag'])['region'].count().unstack('loyalty_flag').fillna(0)"
   ]
  },
  {
   "cell_type": "code",
   "execution_count": 132,
   "id": "4bb3cbfa",
   "metadata": {
    "scrolled": true
   },
   "outputs": [
    {
     "data": {
      "image/png": "[encoded data removed]",
      "text/plain": [
       "<Figure size 432x288 with 1 Axes>"
      ]
     },
     "metadata": {
      "needs_background": "light"
     },
     "output_type": "display_data"
    }
   ],
   "source": [
    "# loyalty_flag and region stacked barplot: \n",
    "stackedbar_2 = df_4.plot(kind='bar', stacked=True)"
   ]
  },
  {
   "cell_type": "code",
   "execution_count": 134,
   "id": "b2512d6a",
   "metadata": {},
   "outputs": [],
   "source": [
    "stackedbar_2.figure.savefig(os.path.join(path, '04 Analysis','Visualizations', 'loyalty_flag_and_region_stackedbar.png'))"
   ]
  },
  {
   "cell_type": "markdown",
   "id": "ea070f00",
   "metadata": {},
   "source": [
    "  "
   ]
  },
  {
   "cell_type": "markdown",
   "id": "a96924c7",
   "metadata": {},
   "source": [
    "  "
   ]
  },
  {
   "cell_type": "markdown",
   "id": "c4131c02",
   "metadata": {},
   "source": [
    "  "
   ]
  },
  {
   "cell_type": "markdown",
   "id": "ddeb05ea",
   "metadata": {},
   "source": [
    "  "
   ]
  },
  {
   "cell_type": "code",
   "execution_count": 85,
   "id": "fbf24463",
   "metadata": {},
   "outputs": [],
   "source": [
    "# creating subgroup of user region and income_flag of items purchased\n",
    "\n",
    "df_5 = df_high_activity.groupby(['region', 'income_flag'])['region'].count().unstack('income_flag').fillna(0)"
   ]
  },
  {
   "cell_type": "code",
   "execution_count": 87,
   "id": "c002c791",
   "metadata": {
    "scrolled": true
   },
   "outputs": [
    {
     "data": {
      "image/png": "[encoded data removed]",
      "text/plain": [
       "<Figure size 432x288 with 1 Axes>"
      ]
     },
     "metadata": {
      "needs_background": "light"
     },
     "output_type": "display_data"
    }
   ],
   "source": [
    "# income_flag and region stacked barplot: \n",
    "stackedbar_3 = df_5.plot(kind='bar', stacked=True)"
   ]
  },
  {
   "cell_type": "code",
   "execution_count": 107,
   "id": "0f963b0d",
   "metadata": {},
   "outputs": [],
   "source": [
    "stackedbar_3.figure.savefig(os.path.join(path, '04 Analysis','Visualizations', 'income_flag_region_stackedbar.png'))"
   ]
  },
  {
   "cell_type": "markdown",
   "id": "e2cabb98",
   "metadata": {},
   "source": [
    "  "
   ]
  },
  {
   "cell_type": "markdown",
   "id": "95e755fa",
   "metadata": {},
   "source": [
    "  "
   ]
  },
  {
   "cell_type": "markdown",
   "id": "143da6cd",
   "metadata": {},
   "source": [
    "  "
   ]
  },
  {
   "cell_type": "markdown",
   "id": "cbeeb965",
   "metadata": {},
   "source": [
    "## Question 7:\n",
    "Aggregate the max, mean, and min variables on a customer-profile level for usage frequency and expenditure."
   ]
  },
  {
   "cell_type": "code",
   "execution_count": 89,
   "id": "cb45a093",
   "metadata": {},
   "outputs": [
    {
     "data": {
      "text/html": [
       "<div>\n",
       "<style scoped>\n",
       "    .dataframe tbody tr th:only-of-type {\n",
       "        vertical-align: middle;\n",
       "    }\n",
       "\n",
       "    .dataframe tbody tr th {\n",
       "        vertical-align: top;\n",
       "    }\n",
       "\n",
       "    .dataframe thead tr th {\n",
       "        text-align: left;\n",
       "    }\n",
       "\n",
       "    .dataframe thead tr:last-of-type th {\n",
       "        text-align: right;\n",
       "    }\n",
       "</style>\n",
       "<table border=\"1\" class=\"dataframe\">\n",
       "  <thead>\n",
       "    <tr>\n",
       "      <th></th>\n",
       "      <th colspan=\"3\" halign=\"left\">prices</th>\n",
       "    </tr>\n",
       "    <tr>\n",
       "      <th></th>\n",
       "      <th>mean</th>\n",
       "      <th>min</th>\n",
       "      <th>max</th>\n",
       "    </tr>\n",
       "    <tr>\n",
       "      <th>user_id</th>\n",
       "      <th></th>\n",
       "      <th></th>\n",
       "      <th></th>\n",
       "    </tr>\n",
       "  </thead>\n",
       "  <tbody>\n",
       "    <tr>\n",
       "      <th>1</th>\n",
       "      <td>6.697368</td>\n",
       "      <td>1.3</td>\n",
       "      <td>14.0</td>\n",
       "    </tr>\n",
       "    <tr>\n",
       "      <th>10</th>\n",
       "      <td>8.275862</td>\n",
       "      <td>1.0</td>\n",
       "      <td>21.1</td>\n",
       "    </tr>\n",
       "    <tr>\n",
       "      <th>100</th>\n",
       "      <td>9.250000</td>\n",
       "      <td>4.7</td>\n",
       "      <td>15.0</td>\n",
       "    </tr>\n",
       "    <tr>\n",
       "      <th>1000</th>\n",
       "      <td>8.537209</td>\n",
       "      <td>1.2</td>\n",
       "      <td>15.0</td>\n",
       "    </tr>\n",
       "    <tr>\n",
       "      <th>10000</th>\n",
       "      <td>8.048023</td>\n",
       "      <td>1.2</td>\n",
       "      <td>24.2</td>\n",
       "    </tr>\n",
       "    <tr>\n",
       "      <th>...</th>\n",
       "      <td>...</td>\n",
       "      <td>...</td>\n",
       "      <td>...</td>\n",
       "    </tr>\n",
       "    <tr>\n",
       "      <th>99994</th>\n",
       "      <td>8.278641</td>\n",
       "      <td>1.1</td>\n",
       "      <td>14.3</td>\n",
       "    </tr>\n",
       "    <tr>\n",
       "      <th>99995</th>\n",
       "      <td>6.570000</td>\n",
       "      <td>1.2</td>\n",
       "      <td>11.4</td>\n",
       "    </tr>\n",
       "    <tr>\n",
       "      <th>99996</th>\n",
       "      <td>6.892208</td>\n",
       "      <td>1.1</td>\n",
       "      <td>15.0</td>\n",
       "    </tr>\n",
       "    <tr>\n",
       "      <th>99998</th>\n",
       "      <td>9.600000</td>\n",
       "      <td>4.5</td>\n",
       "      <td>21.1</td>\n",
       "    </tr>\n",
       "    <tr>\n",
       "      <th>99999</th>\n",
       "      <td>7.257840</td>\n",
       "      <td>1.1</td>\n",
       "      <td>24.2</td>\n",
       "    </tr>\n",
       "  </tbody>\n",
       "</table>\n",
       "<p>162631 rows × 3 columns</p>\n",
       "</div>"
      ],
      "text/plain": [
       "           prices           \n",
       "             mean  min   max\n",
       "user_id                     \n",
       "1        6.697368  1.3  14.0\n",
       "10       8.275862  1.0  21.1\n",
       "100      9.250000  4.7  15.0\n",
       "1000     8.537209  1.2  15.0\n",
       "10000    8.048023  1.2  24.2\n",
       "...           ...  ...   ...\n",
       "99994    8.278641  1.1  14.3\n",
       "99995    6.570000  1.2  11.4\n",
       "99996    6.892208  1.1  15.0\n",
       "99998    9.600000  4.5  21.1\n",
       "99999    7.257840  1.1  24.2\n",
       "\n",
       "[162631 rows x 3 columns]"
      ]
     },
     "execution_count": 89,
     "metadata": {},
     "output_type": "execute_result"
    }
   ],
   "source": [
    "# aggregating by prices:\n",
    "\n",
    "df_high_activity.groupby('user_id').agg({'prices': ['mean', 'min', 'max']})"
   ]
  },
  {
   "cell_type": "markdown",
   "id": "44aa0c1a",
   "metadata": {},
   "source": [
    "  "
   ]
  },
  {
   "cell_type": "markdown",
   "id": "caf2bda3",
   "metadata": {},
   "source": [
    "  "
   ]
  },
  {
   "cell_type": "code",
   "execution_count": 90,
   "id": "d05563db",
   "metadata": {},
   "outputs": [
    {
     "data": {
      "text/html": [
       "<div>\n",
       "<style scoped>\n",
       "    .dataframe tbody tr th:only-of-type {\n",
       "        vertical-align: middle;\n",
       "    }\n",
       "\n",
       "    .dataframe tbody tr th {\n",
       "        vertical-align: top;\n",
       "    }\n",
       "\n",
       "    .dataframe thead tr th {\n",
       "        text-align: left;\n",
       "    }\n",
       "\n",
       "    .dataframe thead tr:last-of-type th {\n",
       "        text-align: right;\n",
       "    }\n",
       "</style>\n",
       "<table border=\"1\" class=\"dataframe\">\n",
       "  <thead>\n",
       "    <tr>\n",
       "      <th></th>\n",
       "      <th colspan=\"3\" halign=\"left\">days_since_prior_order</th>\n",
       "    </tr>\n",
       "    <tr>\n",
       "      <th></th>\n",
       "      <th>mean</th>\n",
       "      <th>min</th>\n",
       "      <th>max</th>\n",
       "    </tr>\n",
       "    <tr>\n",
       "      <th>user_id</th>\n",
       "      <th></th>\n",
       "      <th></th>\n",
       "      <th></th>\n",
       "    </tr>\n",
       "  </thead>\n",
       "  <tbody>\n",
       "    <tr>\n",
       "      <th>1</th>\n",
       "      <td>19.842105</td>\n",
       "      <td>0.0</td>\n",
       "      <td>30.0</td>\n",
       "    </tr>\n",
       "    <tr>\n",
       "      <th>10</th>\n",
       "      <td>23.000000</td>\n",
       "      <td>23.0</td>\n",
       "      <td>23.0</td>\n",
       "    </tr>\n",
       "    <tr>\n",
       "      <th>100</th>\n",
       "      <td>26.000000</td>\n",
       "      <td>26.0</td>\n",
       "      <td>26.0</td>\n",
       "    </tr>\n",
       "    <tr>\n",
       "      <th>1000</th>\n",
       "      <td>14.302326</td>\n",
       "      <td>7.0</td>\n",
       "      <td>30.0</td>\n",
       "    </tr>\n",
       "    <tr>\n",
       "      <th>10000</th>\n",
       "      <td>5.004822</td>\n",
       "      <td>0.0</td>\n",
       "      <td>17.0</td>\n",
       "    </tr>\n",
       "    <tr>\n",
       "      <th>...</th>\n",
       "      <td>...</td>\n",
       "      <td>...</td>\n",
       "      <td>...</td>\n",
       "    </tr>\n",
       "    <tr>\n",
       "      <th>99994</th>\n",
       "      <td>16.893204</td>\n",
       "      <td>5.0</td>\n",
       "      <td>30.0</td>\n",
       "    </tr>\n",
       "    <tr>\n",
       "      <th>99995</th>\n",
       "      <td>14.000000</td>\n",
       "      <td>14.0</td>\n",
       "      <td>14.0</td>\n",
       "    </tr>\n",
       "    <tr>\n",
       "      <th>99996</th>\n",
       "      <td>22.519481</td>\n",
       "      <td>15.0</td>\n",
       "      <td>30.0</td>\n",
       "    </tr>\n",
       "    <tr>\n",
       "      <th>99998</th>\n",
       "      <td>9.000000</td>\n",
       "      <td>9.0</td>\n",
       "      <td>9.0</td>\n",
       "    </tr>\n",
       "    <tr>\n",
       "      <th>99999</th>\n",
       "      <td>7.752613</td>\n",
       "      <td>1.0</td>\n",
       "      <td>24.0</td>\n",
       "    </tr>\n",
       "  </tbody>\n",
       "</table>\n",
       "<p>162631 rows × 3 columns</p>\n",
       "</div>"
      ],
      "text/plain": [
       "        days_since_prior_order            \n",
       "                          mean   min   max\n",
       "user_id                                   \n",
       "1                    19.842105   0.0  30.0\n",
       "10                   23.000000  23.0  23.0\n",
       "100                  26.000000  26.0  26.0\n",
       "1000                 14.302326   7.0  30.0\n",
       "10000                 5.004822   0.0  17.0\n",
       "...                        ...   ...   ...\n",
       "99994                16.893204   5.0  30.0\n",
       "99995                14.000000  14.0  14.0\n",
       "99996                22.519481  15.0  30.0\n",
       "99998                 9.000000   9.0   9.0\n",
       "99999                 7.752613   1.0  24.0\n",
       "\n",
       "[162631 rows x 3 columns]"
      ]
     },
     "execution_count": 90,
     "metadata": {},
     "output_type": "execute_result"
    }
   ],
   "source": [
    "# aggregating by days_prior_order:\n",
    "\n",
    "df_high_activity.groupby('user_id').agg({'days_since_prior_order': ['mean', 'min', 'max']})"
   ]
  },
  {
   "cell_type": "markdown",
   "id": "c3491692",
   "metadata": {},
   "source": [
    "  "
   ]
  },
  {
   "cell_type": "markdown",
   "id": "618d8a3e",
   "metadata": {},
   "source": [
    "  "
   ]
  },
  {
   "cell_type": "markdown",
   "id": "3cb84963",
   "metadata": {},
   "source": [
    "   "
   ]
  },
  {
   "cell_type": "code",
   "execution_count": 91,
   "id": "f0411a39",
   "metadata": {
    "scrolled": true
   },
   "outputs": [
    {
     "data": {
      "text/html": [
       "<div>\n",
       "<style scoped>\n",
       "    .dataframe tbody tr th:only-of-type {\n",
       "        vertical-align: middle;\n",
       "    }\n",
       "\n",
       "    .dataframe tbody tr th {\n",
       "        vertical-align: top;\n",
       "    }\n",
       "\n",
       "    .dataframe thead tr th {\n",
       "        text-align: left;\n",
       "    }\n",
       "\n",
       "    .dataframe thead tr:last-of-type th {\n",
       "        text-align: right;\n",
       "    }\n",
       "</style>\n",
       "<table border=\"1\" class=\"dataframe\">\n",
       "  <thead>\n",
       "    <tr>\n",
       "      <th></th>\n",
       "      <th colspan=\"4\" halign=\"left\">order_number</th>\n",
       "    </tr>\n",
       "    <tr>\n",
       "      <th></th>\n",
       "      <th>mean</th>\n",
       "      <th>median</th>\n",
       "      <th>min</th>\n",
       "      <th>max</th>\n",
       "    </tr>\n",
       "    <tr>\n",
       "      <th>fam_status</th>\n",
       "      <th></th>\n",
       "      <th></th>\n",
       "      <th></th>\n",
       "      <th></th>\n",
       "    </tr>\n",
       "  </thead>\n",
       "  <tbody>\n",
       "    <tr>\n",
       "      <th>divorced/widowed</th>\n",
       "      <td>22.119075</td>\n",
       "      <td>16</td>\n",
       "      <td>5</td>\n",
       "      <td>99</td>\n",
       "    </tr>\n",
       "    <tr>\n",
       "      <th>living with parents and siblings</th>\n",
       "      <td>22.102311</td>\n",
       "      <td>16</td>\n",
       "      <td>5</td>\n",
       "      <td>99</td>\n",
       "    </tr>\n",
       "    <tr>\n",
       "      <th>married</th>\n",
       "      <td>21.886303</td>\n",
       "      <td>16</td>\n",
       "      <td>5</td>\n",
       "      <td>99</td>\n",
       "    </tr>\n",
       "    <tr>\n",
       "      <th>single</th>\n",
       "      <td>22.088822</td>\n",
       "      <td>16</td>\n",
       "      <td>5</td>\n",
       "      <td>99</td>\n",
       "    </tr>\n",
       "  </tbody>\n",
       "</table>\n",
       "</div>"
      ],
      "text/plain": [
       "                                 order_number               \n",
       "                                         mean median min max\n",
       "fam_status                                                  \n",
       "divorced/widowed                    22.119075     16   5  99\n",
       "living with parents and siblings    22.102311     16   5  99\n",
       "married                             21.886303     16   5  99\n",
       "single                              22.088822     16   5  99"
      ]
     },
     "execution_count": 91,
     "metadata": {},
     "output_type": "execute_result"
    }
   ],
   "source": [
    "# aggregating by fam_status:\n",
    "\n",
    "df_high_activity.groupby('fam_status').agg({'order_number':['mean','median','min', 'max']})"
   ]
  },
  {
   "cell_type": "markdown",
   "id": "6a82eecf",
   "metadata": {},
   "source": [
    "  "
   ]
  },
  {
   "cell_type": "markdown",
   "id": "442d6c33",
   "metadata": {},
   "source": [
    "   "
   ]
  },
  {
   "cell_type": "markdown",
   "id": "eb1c020b",
   "metadata": {},
   "source": [
    "  "
   ]
  },
  {
   "cell_type": "code",
   "execution_count": 92,
   "id": "3faef36c",
   "metadata": {},
   "outputs": [
    {
     "data": {
      "text/html": [
       "<div>\n",
       "<style scoped>\n",
       "    .dataframe tbody tr th:only-of-type {\n",
       "        vertical-align: middle;\n",
       "    }\n",
       "\n",
       "    .dataframe tbody tr th {\n",
       "        vertical-align: top;\n",
       "    }\n",
       "\n",
       "    .dataframe thead tr th {\n",
       "        text-align: left;\n",
       "    }\n",
       "\n",
       "    .dataframe thead tr:last-of-type th {\n",
       "        text-align: right;\n",
       "    }\n",
       "</style>\n",
       "<table border=\"1\" class=\"dataframe\">\n",
       "  <thead>\n",
       "    <tr>\n",
       "      <th></th>\n",
       "      <th colspan=\"4\" halign=\"left\">age</th>\n",
       "    </tr>\n",
       "    <tr>\n",
       "      <th></th>\n",
       "      <th>mean</th>\n",
       "      <th>median</th>\n",
       "      <th>min</th>\n",
       "      <th>max</th>\n",
       "    </tr>\n",
       "    <tr>\n",
       "      <th>baby_flag</th>\n",
       "      <th></th>\n",
       "      <th></th>\n",
       "      <th></th>\n",
       "      <th></th>\n",
       "    </tr>\n",
       "  </thead>\n",
       "  <tbody>\n",
       "    <tr>\n",
       "      <th>0.0</th>\n",
       "      <td>49.459228</td>\n",
       "      <td>49</td>\n",
       "      <td>18</td>\n",
       "      <td>81</td>\n",
       "    </tr>\n",
       "    <tr>\n",
       "      <th>1.0</th>\n",
       "      <td>49.321881</td>\n",
       "      <td>49</td>\n",
       "      <td>18</td>\n",
       "      <td>81</td>\n",
       "    </tr>\n",
       "  </tbody>\n",
       "</table>\n",
       "</div>"
      ],
      "text/plain": [
       "                 age               \n",
       "                mean median min max\n",
       "baby_flag                          \n",
       "0.0        49.459228     49  18  81\n",
       "1.0        49.321881     49  18  81"
      ]
     },
     "execution_count": 92,
     "metadata": {},
     "output_type": "execute_result"
    }
   ],
   "source": [
    "# aggregating by baby_flag:\n",
    "\n",
    "df_high_activity.groupby('baby_flag').agg({'age':['mean','median','min', 'max']})"
   ]
  },
  {
   "cell_type": "markdown",
   "id": "c0e70785",
   "metadata": {},
   "source": [
    "  "
   ]
  },
  {
   "cell_type": "markdown",
   "id": "0b797ecf",
   "metadata": {},
   "source": [
    "  "
   ]
  },
  {
   "cell_type": "code",
   "execution_count": 93,
   "id": "5d5b5d3f",
   "metadata": {},
   "outputs": [
    {
     "data": {
      "text/html": [
       "<div>\n",
       "<style scoped>\n",
       "    .dataframe tbody tr th:only-of-type {\n",
       "        vertical-align: middle;\n",
       "    }\n",
       "\n",
       "    .dataframe tbody tr th {\n",
       "        vertical-align: top;\n",
       "    }\n",
       "\n",
       "    .dataframe thead tr th {\n",
       "        text-align: left;\n",
       "    }\n",
       "\n",
       "    .dataframe thead tr:last-of-type th {\n",
       "        text-align: right;\n",
       "    }\n",
       "</style>\n",
       "<table border=\"1\" class=\"dataframe\">\n",
       "  <thead>\n",
       "    <tr>\n",
       "      <th></th>\n",
       "      <th colspan=\"4\" halign=\"left\">age</th>\n",
       "    </tr>\n",
       "    <tr>\n",
       "      <th></th>\n",
       "      <th>mean</th>\n",
       "      <th>median</th>\n",
       "      <th>min</th>\n",
       "      <th>max</th>\n",
       "    </tr>\n",
       "    <tr>\n",
       "      <th>pet_flag</th>\n",
       "      <th></th>\n",
       "      <th></th>\n",
       "      <th></th>\n",
       "      <th></th>\n",
       "    </tr>\n",
       "  </thead>\n",
       "  <tbody>\n",
       "    <tr>\n",
       "      <th>0.0</th>\n",
       "      <td>49.457348</td>\n",
       "      <td>49</td>\n",
       "      <td>18</td>\n",
       "      <td>81</td>\n",
       "    </tr>\n",
       "    <tr>\n",
       "      <th>1.0</th>\n",
       "      <td>49.453884</td>\n",
       "      <td>50</td>\n",
       "      <td>18</td>\n",
       "      <td>81</td>\n",
       "    </tr>\n",
       "  </tbody>\n",
       "</table>\n",
       "</div>"
      ],
      "text/plain": [
       "                age               \n",
       "               mean median min max\n",
       "pet_flag                          \n",
       "0.0       49.457348     49  18  81\n",
       "1.0       49.453884     50  18  81"
      ]
     },
     "execution_count": 93,
     "metadata": {},
     "output_type": "execute_result"
    }
   ],
   "source": [
    "# aggregating by pet_flag:\n",
    "\n",
    "df_high_activity.groupby('pet_flag').agg({'age':['mean','median','min', 'max']})"
   ]
  },
  {
   "cell_type": "markdown",
   "id": "d8e2248e",
   "metadata": {},
   "source": [
    "  "
   ]
  },
  {
   "cell_type": "markdown",
   "id": "d0ba8d6d",
   "metadata": {},
   "source": [
    "  "
   ]
  },
  {
   "cell_type": "markdown",
   "id": "0c329a31",
   "metadata": {},
   "source": [
    "## Question 8:\n",
    "Compare your customer profiles with regions and departments. Can you identify a link between them? Customers may demonstrate different behaviors across regions, which could make this information important.\n",
    "\n",
    "- I included some of teh customer profile compparisons in the previous section, but here are a few more!"
   ]
  },
  {
   "cell_type": "code",
   "execution_count": 94,
   "id": "3f31ec95",
   "metadata": {},
   "outputs": [],
   "source": [
    "# customers frequency, department_id and regions profile:\n",
    "\n",
    "df_6 = df_high_activity.groupby(['department_id', 'region'])['department_id'].sum().unstack('region').fillna(0)"
   ]
  },
  {
   "cell_type": "code",
   "execution_count": 95,
   "id": "b778cfcb",
   "metadata": {
    "scrolled": false
   },
   "outputs": [
    {
     "data": {
      "image/png": "[encoded data removed]",
      "text/plain": [
       "<Figure size 432x288 with 1 Axes>"
      ]
     },
     "metadata": {
      "needs_background": "light"
     },
     "output_type": "display_data"
    }
   ],
   "source": [
    "stackbar_4 = df_6.plot(kind='bar', stacked = True)"
   ]
  },
  {
   "cell_type": "code",
   "execution_count": 96,
   "id": "82a9f4d5",
   "metadata": {},
   "outputs": [],
   "source": [
    "stackbar_4.figure.savefig(os.path.join(path, '04 Analysis','Visualizations', 'departmentid_region_stackbar.png'))"
   ]
  },
  {
   "cell_type": "markdown",
   "id": "64fa994c",
   "metadata": {},
   "source": [
    "  "
   ]
  },
  {
   "cell_type": "markdown",
   "id": "a45f11d3",
   "metadata": {},
   "source": [
    "  "
   ]
  },
  {
   "cell_type": "markdown",
   "id": "cea67c1d",
   "metadata": {},
   "source": [
    " "
   ]
  },
  {
   "cell_type": "markdown",
   "id": "6f68ccf7",
   "metadata": {},
   "source": [
    "- Investigating the hsopping habits of different loyalty groups in each region based on the frequency of their orders:"
   ]
  },
  {
   "cell_type": "code",
   "execution_count": 101,
   "id": "d21392d4",
   "metadata": {},
   "outputs": [],
   "source": [
    "# customers frequency, loyalty_flag and regions profile:\n",
    "\n",
    "df_7 = df_high_activity.groupby(['loyalty_flag', 'region'])['days_since_prior_order'].mean().unstack('loyalty_flag').fillna(0)"
   ]
  },
  {
   "cell_type": "code",
   "execution_count": 102,
   "id": "aca1c34f",
   "metadata": {
    "scrolled": true
   },
   "outputs": [
    {
     "data": {
      "image/png": "[encoded data removed]",
      "text/plain": [
       "<Figure size 432x288 with 1 Axes>"
      ]
     },
     "metadata": {
      "needs_background": "light"
     },
     "output_type": "display_data"
    }
   ],
   "source": [
    "stackbar_5 = df_7.plot(kind='bar', stacked=False)"
   ]
  },
  {
   "cell_type": "code",
   "execution_count": 103,
   "id": "70201466",
   "metadata": {},
   "outputs": [],
   "source": [
    "stackbar_5.figure.savefig(os.path.join(path, '04 Analysis','Visualizations', 'loyalty_flag_region_stackedbar.png'))"
   ]
  },
  {
   "cell_type": "code",
   "execution_count": 112,
   "id": "7420c5b1",
   "metadata": {},
   "outputs": [
    {
     "data": {
      "text/html": [
       "<div>\n",
       "<style scoped>\n",
       "    .dataframe tbody tr th:only-of-type {\n",
       "        vertical-align: middle;\n",
       "    }\n",
       "\n",
       "    .dataframe tbody tr th {\n",
       "        vertical-align: top;\n",
       "    }\n",
       "\n",
       "    .dataframe thead th {\n",
       "        text-align: right;\n",
       "    }\n",
       "</style>\n",
       "<table border=\"1\" class=\"dataframe\">\n",
       "  <thead>\n",
       "    <tr style=\"text-align: right;\">\n",
       "      <th></th>\n",
       "      <th>product_id</th>\n",
       "      <th>product_name</th>\n",
       "      <th>aisle_id</th>\n",
       "      <th>department_id</th>\n",
       "      <th>prices</th>\n",
       "      <th>order_id</th>\n",
       "      <th>user_id</th>\n",
       "      <th>order_number</th>\n",
       "      <th>order_day_of_week</th>\n",
       "      <th>order_hour_of_day</th>\n",
       "      <th>days_since_prior_order</th>\n",
       "      <th>add_to_cart_order</th>\n",
       "      <th>reordered</th>\n",
       "      <th>_merge</th>\n",
       "      <th>price_range_loc</th>\n",
       "      <th>busiest_day</th>\n",
       "      <th>slowest/busiest days</th>\n",
       "      <th>busiest_period_of_day</th>\n",
       "      <th>max_order</th>\n",
       "      <th>loyalty_flag</th>\n",
       "      <th>avg_price</th>\n",
       "      <th>spending_flag</th>\n",
       "      <th>order_freq</th>\n",
       "      <th>frequency_flag</th>\n",
       "      <th>gender</th>\n",
       "      <th>state</th>\n",
       "      <th>age</th>\n",
       "      <th>date_joined</th>\n",
       "      <th>n_dependants</th>\n",
       "      <th>fam_status</th>\n",
       "      <th>income</th>\n",
       "      <th>region</th>\n",
       "      <th>activity_flag</th>\n",
       "    </tr>\n",
       "  </thead>\n",
       "  <tbody>\n",
       "    <tr>\n",
       "      <th>0</th>\n",
       "      <td>1</td>\n",
       "      <td>Chocolate Sandwich Cookies</td>\n",
       "      <td>61</td>\n",
       "      <td>19</td>\n",
       "      <td>5.8</td>\n",
       "      <td>3139998</td>\n",
       "      <td>138</td>\n",
       "      <td>28</td>\n",
       "      <td>6</td>\n",
       "      <td>11</td>\n",
       "      <td>3.0</td>\n",
       "      <td>5</td>\n",
       "      <td>0</td>\n",
       "      <td>both</td>\n",
       "      <td>Mid-range Product</td>\n",
       "      <td>Regularly busy</td>\n",
       "      <td>Regular Busy</td>\n",
       "      <td>Most Orders</td>\n",
       "      <td>32</td>\n",
       "      <td>Regular customer</td>\n",
       "      <td>6.935811</td>\n",
       "      <td>Low Spender</td>\n",
       "      <td>8.0</td>\n",
       "      <td>Frequent Customer</td>\n",
       "      <td>Male</td>\n",
       "      <td>Minnesota</td>\n",
       "      <td>81</td>\n",
       "      <td>8/1/2019</td>\n",
       "      <td>1</td>\n",
       "      <td>married</td>\n",
       "      <td>49620</td>\n",
       "      <td>Midwest</td>\n",
       "      <td>High Activity</td>\n",
       "    </tr>\n",
       "    <tr>\n",
       "      <th>1</th>\n",
       "      <td>1</td>\n",
       "      <td>Chocolate Sandwich Cookies</td>\n",
       "      <td>61</td>\n",
       "      <td>19</td>\n",
       "      <td>5.8</td>\n",
       "      <td>1977647</td>\n",
       "      <td>138</td>\n",
       "      <td>30</td>\n",
       "      <td>6</td>\n",
       "      <td>17</td>\n",
       "      <td>20.0</td>\n",
       "      <td>1</td>\n",
       "      <td>1</td>\n",
       "      <td>both</td>\n",
       "      <td>Mid-range Product</td>\n",
       "      <td>Regularly busy</td>\n",
       "      <td>Regular Busy</td>\n",
       "      <td>Average Orders</td>\n",
       "      <td>32</td>\n",
       "      <td>Regular customer</td>\n",
       "      <td>6.935811</td>\n",
       "      <td>Low Spender</td>\n",
       "      <td>8.0</td>\n",
       "      <td>Frequent Customer</td>\n",
       "      <td>Male</td>\n",
       "      <td>Minnesota</td>\n",
       "      <td>81</td>\n",
       "      <td>8/1/2019</td>\n",
       "      <td>1</td>\n",
       "      <td>married</td>\n",
       "      <td>49620</td>\n",
       "      <td>Midwest</td>\n",
       "      <td>High Activity</td>\n",
       "    </tr>\n",
       "    <tr>\n",
       "      <th>2</th>\n",
       "      <td>907</td>\n",
       "      <td>Premium Sliced Bacon</td>\n",
       "      <td>106</td>\n",
       "      <td>12</td>\n",
       "      <td>20.0</td>\n",
       "      <td>3160996</td>\n",
       "      <td>138</td>\n",
       "      <td>1</td>\n",
       "      <td>5</td>\n",
       "      <td>13</td>\n",
       "      <td>-1.0</td>\n",
       "      <td>4</td>\n",
       "      <td>0</td>\n",
       "      <td>both</td>\n",
       "      <td>High-range Product</td>\n",
       "      <td>Regularly busy</td>\n",
       "      <td>Regular Busy</td>\n",
       "      <td>Most Orders</td>\n",
       "      <td>32</td>\n",
       "      <td>Regular customer</td>\n",
       "      <td>6.935811</td>\n",
       "      <td>Low Spender</td>\n",
       "      <td>8.0</td>\n",
       "      <td>Frequent Customer</td>\n",
       "      <td>Male</td>\n",
       "      <td>Minnesota</td>\n",
       "      <td>81</td>\n",
       "      <td>8/1/2019</td>\n",
       "      <td>1</td>\n",
       "      <td>married</td>\n",
       "      <td>49620</td>\n",
       "      <td>Midwest</td>\n",
       "      <td>Low Activity</td>\n",
       "    </tr>\n",
       "    <tr>\n",
       "      <th>3</th>\n",
       "      <td>907</td>\n",
       "      <td>Premium Sliced Bacon</td>\n",
       "      <td>106</td>\n",
       "      <td>12</td>\n",
       "      <td>20.0</td>\n",
       "      <td>2254091</td>\n",
       "      <td>138</td>\n",
       "      <td>10</td>\n",
       "      <td>5</td>\n",
       "      <td>14</td>\n",
       "      <td>6.0</td>\n",
       "      <td>1</td>\n",
       "      <td>1</td>\n",
       "      <td>both</td>\n",
       "      <td>High-range Product</td>\n",
       "      <td>Regularly busy</td>\n",
       "      <td>Regular Busy</td>\n",
       "      <td>Most Orders</td>\n",
       "      <td>32</td>\n",
       "      <td>Regular customer</td>\n",
       "      <td>6.935811</td>\n",
       "      <td>Low Spender</td>\n",
       "      <td>8.0</td>\n",
       "      <td>Frequent Customer</td>\n",
       "      <td>Male</td>\n",
       "      <td>Minnesota</td>\n",
       "      <td>81</td>\n",
       "      <td>8/1/2019</td>\n",
       "      <td>1</td>\n",
       "      <td>married</td>\n",
       "      <td>49620</td>\n",
       "      <td>Midwest</td>\n",
       "      <td>High Activity</td>\n",
       "    </tr>\n",
       "    <tr>\n",
       "      <th>4</th>\n",
       "      <td>1000</td>\n",
       "      <td>Apricots</td>\n",
       "      <td>18</td>\n",
       "      <td>10</td>\n",
       "      <td>12.9</td>\n",
       "      <td>505689</td>\n",
       "      <td>138</td>\n",
       "      <td>9</td>\n",
       "      <td>6</td>\n",
       "      <td>12</td>\n",
       "      <td>7.0</td>\n",
       "      <td>5</td>\n",
       "      <td>0</td>\n",
       "      <td>both</td>\n",
       "      <td>Mid-range Product</td>\n",
       "      <td>Regularly busy</td>\n",
       "      <td>Regular Busy</td>\n",
       "      <td>Most Orders</td>\n",
       "      <td>32</td>\n",
       "      <td>Regular customer</td>\n",
       "      <td>6.935811</td>\n",
       "      <td>Low Spender</td>\n",
       "      <td>8.0</td>\n",
       "      <td>Frequent Customer</td>\n",
       "      <td>Male</td>\n",
       "      <td>Minnesota</td>\n",
       "      <td>81</td>\n",
       "      <td>8/1/2019</td>\n",
       "      <td>1</td>\n",
       "      <td>married</td>\n",
       "      <td>49620</td>\n",
       "      <td>Midwest</td>\n",
       "      <td>High Activity</td>\n",
       "    </tr>\n",
       "  </tbody>\n",
       "</table>\n",
       "</div>"
      ],
      "text/plain": [
       "   product_id                product_name  aisle_id  department_id  prices  \\\n",
       "0           1  Chocolate Sandwich Cookies        61             19     5.8   \n",
       "1           1  Chocolate Sandwich Cookies        61             19     5.8   \n",
       "2         907        Premium Sliced Bacon       106             12    20.0   \n",
       "3         907        Premium Sliced Bacon       106             12    20.0   \n",
       "4        1000                    Apricots        18             10    12.9   \n",
       "\n",
       "   order_id user_id  order_number  order_day_of_week  order_hour_of_day  \\\n",
       "0   3139998     138            28                  6                 11   \n",
       "1   1977647     138            30                  6                 17   \n",
       "2   3160996     138             1                  5                 13   \n",
       "3   2254091     138            10                  5                 14   \n",
       "4    505689     138             9                  6                 12   \n",
       "\n",
       "   days_since_prior_order  add_to_cart_order  reordered _merge  \\\n",
       "0                     3.0                  5          0   both   \n",
       "1                    20.0                  1          1   both   \n",
       "2                    -1.0                  4          0   both   \n",
       "3                     6.0                  1          1   both   \n",
       "4                     7.0                  5          0   both   \n",
       "\n",
       "      price_range_loc     busiest_day slowest/busiest days  \\\n",
       "0   Mid-range Product  Regularly busy         Regular Busy   \n",
       "1   Mid-range Product  Regularly busy         Regular Busy   \n",
       "2  High-range Product  Regularly busy         Regular Busy   \n",
       "3  High-range Product  Regularly busy         Regular Busy   \n",
       "4   Mid-range Product  Regularly busy         Regular Busy   \n",
       "\n",
       "  busiest_period_of_day  max_order      loyalty_flag  avg_price spending_flag  \\\n",
       "0           Most Orders         32  Regular customer   6.935811   Low Spender   \n",
       "1        Average Orders         32  Regular customer   6.935811   Low Spender   \n",
       "2           Most Orders         32  Regular customer   6.935811   Low Spender   \n",
       "3           Most Orders         32  Regular customer   6.935811   Low Spender   \n",
       "4           Most Orders         32  Regular customer   6.935811   Low Spender   \n",
       "\n",
       "   order_freq     frequency_flag gender      state  age date_joined  \\\n",
       "0         8.0  Frequent Customer   Male  Minnesota   81    8/1/2019   \n",
       "1         8.0  Frequent Customer   Male  Minnesota   81    8/1/2019   \n",
       "2         8.0  Frequent Customer   Male  Minnesota   81    8/1/2019   \n",
       "3         8.0  Frequent Customer   Male  Minnesota   81    8/1/2019   \n",
       "4         8.0  Frequent Customer   Male  Minnesota   81    8/1/2019   \n",
       "\n",
       "   n_dependants fam_status  income   region  activity_flag  \n",
       "0             1    married   49620  Midwest  High Activity  \n",
       "1             1    married   49620  Midwest  High Activity  \n",
       "2             1    married   49620  Midwest   Low Activity  \n",
       "3             1    married   49620  Midwest  High Activity  \n",
       "4             1    married   49620  Midwest  High Activity  "
      ]
     },
     "execution_count": 112,
     "metadata": {},
     "output_type": "execute_result"
    }
   ],
   "source": [
    "df.head()"
   ]
  },
  {
   "cell_type": "markdown",
   "id": "961404d0",
   "metadata": {},
   "source": [
    "  "
   ]
  },
  {
   "cell_type": "markdown",
   "id": "bd5667cd",
   "metadata": {},
   "source": [
    "  "
   ]
  },
  {
   "cell_type": "markdown",
   "id": "a3e4c202",
   "metadata": {},
   "source": [
    "  "
   ]
  }
 ],
 "metadata": {
  "kernelspec": {
   "display_name": "Python 3",
   "language": "python",
   "name": "python3"
  },
  "language_info": {
   "codemirror_mode": {
    "name": "ipython",
    "version": 3
   },
   "file_extension": ".py",
   "mimetype": "text/x-python",
   "name": "python",
   "nbconvert_exporter": "python",
   "pygments_lexer": "ipython3",
   "version": "3.8.8"
  }
 },
 "nbformat": 4,
 "nbformat_minor": 5
}
