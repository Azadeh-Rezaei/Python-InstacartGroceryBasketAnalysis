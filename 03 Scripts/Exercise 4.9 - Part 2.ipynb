{
 "cells": [
  {
   "cell_type": "markdown",
   "id": "c96d352a",
   "metadata": {},
   "source": [
    "# Exercise 4.9 - Part 2\n"
   ]
  },
  {
   "cell_type": "code",
   "execution_count": 62,
   "id": "1004bdfc",
   "metadata": {},
   "outputs": [],
   "source": [
    "# import libraries\n",
    "import pandas as pd\n",
    "import numpy as np\n",
    "import os\n",
    "import matplotlib.pyplot as plt\n",
    "import seaborn as sns\n",
    "import scipy"
   ]
  },
  {
   "cell_type": "code",
   "execution_count": 63,
   "id": "add47afc",
   "metadata": {},
   "outputs": [],
   "source": [
    "# import data\n",
    "path = r'/Users/azadehrezaei/Desktop/Career Foundry/Achievement 4/08-2021 Instacart Basket Analysis'\n",
    "df = pd.read_pickle(os.path.join(path, '02 Data', 'Prepared Data', '4.9_ords_prods_customers.pkl'))"
   ]
  },
  {
   "cell_type": "code",
   "execution_count": 64,
   "id": "7ada56cd",
   "metadata": {},
   "outputs": [
    {
     "data": {
      "text/html": [
       "<div>\n",
       "<style scoped>\n",
       "    .dataframe tbody tr th:only-of-type {\n",
       "        vertical-align: middle;\n",
       "    }\n",
       "\n",
       "    .dataframe tbody tr th {\n",
       "        vertical-align: top;\n",
       "    }\n",
       "\n",
       "    .dataframe thead th {\n",
       "        text-align: right;\n",
       "    }\n",
       "</style>\n",
       "<table border=\"1\" class=\"dataframe\">\n",
       "  <thead>\n",
       "    <tr style=\"text-align: right;\">\n",
       "      <th></th>\n",
       "      <th>product_id</th>\n",
       "      <th>product_name</th>\n",
       "      <th>aisle_id</th>\n",
       "      <th>department_id</th>\n",
       "      <th>prices</th>\n",
       "      <th>order_id</th>\n",
       "      <th>user_id</th>\n",
       "      <th>order_number</th>\n",
       "      <th>order_day_of_week</th>\n",
       "      <th>order_hour_of_day</th>\n",
       "      <th>...</th>\n",
       "      <th>frequency_flag</th>\n",
       "      <th>first_name</th>\n",
       "      <th>last_name</th>\n",
       "      <th>gender</th>\n",
       "      <th>state</th>\n",
       "      <th>age</th>\n",
       "      <th>date_joined</th>\n",
       "      <th>n_dependants</th>\n",
       "      <th>fam_status</th>\n",
       "      <th>income</th>\n",
       "    </tr>\n",
       "  </thead>\n",
       "  <tbody>\n",
       "    <tr>\n",
       "      <th>0</th>\n",
       "      <td>1</td>\n",
       "      <td>Chocolate Sandwich Cookies</td>\n",
       "      <td>61</td>\n",
       "      <td>19</td>\n",
       "      <td>5.8</td>\n",
       "      <td>3139998</td>\n",
       "      <td>138</td>\n",
       "      <td>28</td>\n",
       "      <td>6</td>\n",
       "      <td>11</td>\n",
       "      <td>...</td>\n",
       "      <td>Frequent Customer</td>\n",
       "      <td>Charles</td>\n",
       "      <td>Cox</td>\n",
       "      <td>Male</td>\n",
       "      <td>Minnesota</td>\n",
       "      <td>81</td>\n",
       "      <td>8/1/2019</td>\n",
       "      <td>1</td>\n",
       "      <td>married</td>\n",
       "      <td>49620</td>\n",
       "    </tr>\n",
       "    <tr>\n",
       "      <th>1</th>\n",
       "      <td>1</td>\n",
       "      <td>Chocolate Sandwich Cookies</td>\n",
       "      <td>61</td>\n",
       "      <td>19</td>\n",
       "      <td>5.8</td>\n",
       "      <td>1977647</td>\n",
       "      <td>138</td>\n",
       "      <td>30</td>\n",
       "      <td>6</td>\n",
       "      <td>17</td>\n",
       "      <td>...</td>\n",
       "      <td>Frequent Customer</td>\n",
       "      <td>Charles</td>\n",
       "      <td>Cox</td>\n",
       "      <td>Male</td>\n",
       "      <td>Minnesota</td>\n",
       "      <td>81</td>\n",
       "      <td>8/1/2019</td>\n",
       "      <td>1</td>\n",
       "      <td>married</td>\n",
       "      <td>49620</td>\n",
       "    </tr>\n",
       "    <tr>\n",
       "      <th>2</th>\n",
       "      <td>907</td>\n",
       "      <td>Premium Sliced Bacon</td>\n",
       "      <td>106</td>\n",
       "      <td>12</td>\n",
       "      <td>20.0</td>\n",
       "      <td>3160996</td>\n",
       "      <td>138</td>\n",
       "      <td>1</td>\n",
       "      <td>5</td>\n",
       "      <td>13</td>\n",
       "      <td>...</td>\n",
       "      <td>Frequent Customer</td>\n",
       "      <td>Charles</td>\n",
       "      <td>Cox</td>\n",
       "      <td>Male</td>\n",
       "      <td>Minnesota</td>\n",
       "      <td>81</td>\n",
       "      <td>8/1/2019</td>\n",
       "      <td>1</td>\n",
       "      <td>married</td>\n",
       "      <td>49620</td>\n",
       "    </tr>\n",
       "    <tr>\n",
       "      <th>3</th>\n",
       "      <td>907</td>\n",
       "      <td>Premium Sliced Bacon</td>\n",
       "      <td>106</td>\n",
       "      <td>12</td>\n",
       "      <td>20.0</td>\n",
       "      <td>2254091</td>\n",
       "      <td>138</td>\n",
       "      <td>10</td>\n",
       "      <td>5</td>\n",
       "      <td>14</td>\n",
       "      <td>...</td>\n",
       "      <td>Frequent Customer</td>\n",
       "      <td>Charles</td>\n",
       "      <td>Cox</td>\n",
       "      <td>Male</td>\n",
       "      <td>Minnesota</td>\n",
       "      <td>81</td>\n",
       "      <td>8/1/2019</td>\n",
       "      <td>1</td>\n",
       "      <td>married</td>\n",
       "      <td>49620</td>\n",
       "    </tr>\n",
       "    <tr>\n",
       "      <th>4</th>\n",
       "      <td>1000</td>\n",
       "      <td>Apricots</td>\n",
       "      <td>18</td>\n",
       "      <td>10</td>\n",
       "      <td>12.9</td>\n",
       "      <td>505689</td>\n",
       "      <td>138</td>\n",
       "      <td>9</td>\n",
       "      <td>6</td>\n",
       "      <td>12</td>\n",
       "      <td>...</td>\n",
       "      <td>Frequent Customer</td>\n",
       "      <td>Charles</td>\n",
       "      <td>Cox</td>\n",
       "      <td>Male</td>\n",
       "      <td>Minnesota</td>\n",
       "      <td>81</td>\n",
       "      <td>8/1/2019</td>\n",
       "      <td>1</td>\n",
       "      <td>married</td>\n",
       "      <td>49620</td>\n",
       "    </tr>\n",
       "  </tbody>\n",
       "</table>\n",
       "<p>5 rows × 33 columns</p>\n",
       "</div>"
      ],
      "text/plain": [
       "   product_id                product_name  aisle_id  department_id  prices  \\\n",
       "0           1  Chocolate Sandwich Cookies        61             19     5.8   \n",
       "1           1  Chocolate Sandwich Cookies        61             19     5.8   \n",
       "2         907        Premium Sliced Bacon       106             12    20.0   \n",
       "3         907        Premium Sliced Bacon       106             12    20.0   \n",
       "4        1000                    Apricots        18             10    12.9   \n",
       "\n",
       "   order_id user_id  order_number  order_day_of_week  order_hour_of_day  ...  \\\n",
       "0   3139998     138            28                  6                 11  ...   \n",
       "1   1977647     138            30                  6                 17  ...   \n",
       "2   3160996     138             1                  5                 13  ...   \n",
       "3   2254091     138            10                  5                 14  ...   \n",
       "4    505689     138             9                  6                 12  ...   \n",
       "\n",
       "      frequency_flag  first_name  last_name gender      state age date_joined  \\\n",
       "0  Frequent Customer     Charles        Cox   Male  Minnesota  81    8/1/2019   \n",
       "1  Frequent Customer     Charles        Cox   Male  Minnesota  81    8/1/2019   \n",
       "2  Frequent Customer     Charles        Cox   Male  Minnesota  81    8/1/2019   \n",
       "3  Frequent Customer     Charles        Cox   Male  Minnesota  81    8/1/2019   \n",
       "4  Frequent Customer     Charles        Cox   Male  Minnesota  81    8/1/2019   \n",
       "\n",
       "  n_dependants  fam_status income  \n",
       "0            1     married  49620  \n",
       "1            1     married  49620  \n",
       "2            1     married  49620  \n",
       "3            1     married  49620  \n",
       "4            1     married  49620  \n",
       "\n",
       "[5 rows x 33 columns]"
      ]
     },
     "execution_count": 64,
     "metadata": {},
     "output_type": "execute_result"
    }
   ],
   "source": [
    "df.head()"
   ]
  },
  {
   "cell_type": "code",
   "execution_count": 65,
   "id": "883eb2ce",
   "metadata": {},
   "outputs": [
    {
     "data": {
      "text/plain": [
       "Index(['product_id', 'product_name', 'aisle_id', 'department_id', 'prices',\n",
       "       'order_id', 'user_id', 'order_number', 'order_day_of_week',\n",
       "       'order_hour_of_day', 'days_since_prior_order', 'add_to_cart_order',\n",
       "       'reordered', '_merge', 'price_range_loc', 'busiest_day',\n",
       "       'slowest/busiest days', 'busiest_period_of_day', 'max_order',\n",
       "       'loyalty_flag', 'avg_price', 'spending_flag', 'order_freq',\n",
       "       'frequency_flag', 'first_name', 'last_name', 'gender', 'state', 'age',\n",
       "       'date_joined', 'n_dependants', 'fam_status', 'income'],\n",
       "      dtype='object')"
      ]
     },
     "execution_count": 65,
     "metadata": {},
     "output_type": "execute_result"
    }
   ],
   "source": [
    "df.columns"
   ]
  },
  {
   "cell_type": "markdown",
   "id": "ba4ea407",
   "metadata": {},
   "source": [
    "## Question 2: \n",
    "- The following are the steps in the lesson performed on the new dataframe from Part 1 of this task:"
   ]
  },
  {
   "cell_type": "markdown",
   "id": "373b2bb0",
   "metadata": {},
   "source": [
    "## Bar Charts:"
   ]
  },
  {
   "cell_type": "code",
   "execution_count": 66,
   "id": "5ab0cd83",
   "metadata": {},
   "outputs": [
    {
     "data": {
      "text/plain": [
       "<AxesSubplot:>"
      ]
     },
     "execution_count": 66,
     "metadata": {},
     "output_type": "execute_result"
    },
    {
     "data": {
      "image/png": "[encoded data removed]",
      "text/plain": [
       "<Figure size 432x288 with 1 Axes>"
      ]
     },
     "metadata": {
      "needs_background": "light"
     },
     "output_type": "display_data"
    }
   ],
   "source": [
    "# count order:\n",
    "df['order_day_of_week'].value_counts().plot.bar()"
   ]
  },
  {
   "cell_type": "code",
   "execution_count": 67,
   "id": "2a639f3b",
   "metadata": {},
   "outputs": [
    {
     "data": {
      "image/png": "[encoded data removed]",
      "text/plain": [
       "<Figure size 432x288 with 1 Axes>"
      ]
     },
     "metadata": {
      "needs_background": "light"
     },
     "output_type": "display_data"
    }
   ],
   "source": [
    "# index order\n",
    "bar = df['order_day_of_week'].value_counts().sort_index().plot.bar() "
   ]
  },
  {
   "cell_type": "code",
   "execution_count": 68,
   "id": "1a7d6ab8",
   "metadata": {
    "scrolled": true
   },
   "outputs": [
    {
     "data": {
      "image/png": "[encoded data removed]",
      "text/plain": [
       "<Figure size 432x288 with 1 Axes>"
      ]
     },
     "metadata": {
      "needs_background": "light"
     },
     "output_type": "display_data"
    }
   ],
   "source": [
    "bar_1 = df['order_day_of_week'].value_counts().sort_index().plot.bar(color= ['purple', 'red', 'pink', 'orange', 'yellow', 'green', 'blue'])"
   ]
  },
  {
   "cell_type": "code",
   "execution_count": 70,
   "id": "8c1e475c",
   "metadata": {},
   "outputs": [],
   "source": [
    "# export the visualization\n",
    "bar.figure.savefig(os.path.join(path, '04 Analysis','Visualizations', 'bar_orders_dow.png'))\n",
    "bar_1.figure.savefig(os.path.join(path, '04 Analysis','Visualizations', 'bar_orders_dow_1.png'))"
   ]
  },
  {
   "cell_type": "markdown",
   "id": "87257cc8",
   "metadata": {},
   "source": [
    "## Histogram:"
   ]
  },
  {
   "cell_type": "code",
   "execution_count": 71,
   "id": "0fc596b7",
   "metadata": {},
   "outputs": [
    {
     "data": {
      "text/plain": [
       "<AxesSubplot:ylabel='Frequency'>"
      ]
     },
     "execution_count": 71,
     "metadata": {},
     "output_type": "execute_result"
    },
    {
     "data": {
      "image/png": "[encoded data removed]",
      "text/plain": [
       "<Figure size 432x288 with 1 Axes>"
      ]
     },
     "metadata": {
      "needs_background": "light"
     },
     "output_type": "display_data"
    }
   ],
   "source": [
    "# Histogram:\n",
    "df['prices'].plot.hist(bins = 25)"
   ]
  },
  {
   "cell_type": "code",
   "execution_count": 72,
   "id": "21180860",
   "metadata": {},
   "outputs": [
    {
     "data": {
      "text/plain": [
       "<AxesSubplot:xlabel='prices', ylabel='prices'>"
      ]
     },
     "execution_count": 72,
     "metadata": {},
     "output_type": "execute_result"
    },
    {
     "data": {
      "image/png": "[encoded data removed]",
      "text/plain": [
       "<Figure size 432x288 with 1 Axes>"
      ]
     },
     "metadata": {
      "needs_background": "light"
     },
     "output_type": "display_data"
    }
   ],
   "source": [
    "# Scatterplot:\n",
    "sns.scatterplot(x = 'prices', y = 'prices',data = df)"
   ]
  },
  {
   "cell_type": "code",
   "execution_count": 73,
   "id": "177e471c",
   "metadata": {},
   "outputs": [
    {
     "data": {
      "text/html": [
       "<div>\n",
       "<style scoped>\n",
       "    .dataframe tbody tr th:only-of-type {\n",
       "        vertical-align: middle;\n",
       "    }\n",
       "\n",
       "    .dataframe tbody tr th {\n",
       "        vertical-align: top;\n",
       "    }\n",
       "\n",
       "    .dataframe thead th {\n",
       "        text-align: right;\n",
       "    }\n",
       "</style>\n",
       "<table border=\"1\" class=\"dataframe\">\n",
       "  <thead>\n",
       "    <tr style=\"text-align: right;\">\n",
       "      <th></th>\n",
       "      <th>product_id</th>\n",
       "      <th>product_name</th>\n",
       "      <th>aisle_id</th>\n",
       "      <th>department_id</th>\n",
       "      <th>prices</th>\n",
       "      <th>order_id</th>\n",
       "      <th>user_id</th>\n",
       "      <th>order_number</th>\n",
       "      <th>order_day_of_week</th>\n",
       "      <th>order_hour_of_day</th>\n",
       "      <th>...</th>\n",
       "      <th>frequency_flag</th>\n",
       "      <th>first_name</th>\n",
       "      <th>last_name</th>\n",
       "      <th>gender</th>\n",
       "      <th>state</th>\n",
       "      <th>age</th>\n",
       "      <th>date_joined</th>\n",
       "      <th>n_dependants</th>\n",
       "      <th>fam_status</th>\n",
       "      <th>income</th>\n",
       "    </tr>\n",
       "  </thead>\n",
       "  <tbody>\n",
       "    <tr>\n",
       "      <th>23024</th>\n",
       "      <td>33664</td>\n",
       "      <td>2 % Reduced Fat  Milk</td>\n",
       "      <td>84</td>\n",
       "      <td>16</td>\n",
       "      <td>99999.0</td>\n",
       "      <td>1489110</td>\n",
       "      <td>43360</td>\n",
       "      <td>3</td>\n",
       "      <td>1</td>\n",
       "      <td>10</td>\n",
       "      <td>...</td>\n",
       "      <td>Frequent Customer</td>\n",
       "      <td>Marilyn</td>\n",
       "      <td>Baker</td>\n",
       "      <td>Female</td>\n",
       "      <td>Florida</td>\n",
       "      <td>67</td>\n",
       "      <td>7/16/2017</td>\n",
       "      <td>3</td>\n",
       "      <td>married</td>\n",
       "      <td>149199</td>\n",
       "    </tr>\n",
       "    <tr>\n",
       "      <th>23025</th>\n",
       "      <td>33664</td>\n",
       "      <td>2 % Reduced Fat  Milk</td>\n",
       "      <td>84</td>\n",
       "      <td>16</td>\n",
       "      <td>99999.0</td>\n",
       "      <td>2322035</td>\n",
       "      <td>43360</td>\n",
       "      <td>4</td>\n",
       "      <td>1</td>\n",
       "      <td>10</td>\n",
       "      <td>...</td>\n",
       "      <td>Frequent Customer</td>\n",
       "      <td>Marilyn</td>\n",
       "      <td>Baker</td>\n",
       "      <td>Female</td>\n",
       "      <td>Florida</td>\n",
       "      <td>67</td>\n",
       "      <td>7/16/2017</td>\n",
       "      <td>3</td>\n",
       "      <td>married</td>\n",
       "      <td>149199</td>\n",
       "    </tr>\n",
       "    <tr>\n",
       "      <th>23026</th>\n",
       "      <td>33664</td>\n",
       "      <td>2 % Reduced Fat  Milk</td>\n",
       "      <td>84</td>\n",
       "      <td>16</td>\n",
       "      <td>99999.0</td>\n",
       "      <td>420339</td>\n",
       "      <td>43360</td>\n",
       "      <td>5</td>\n",
       "      <td>1</td>\n",
       "      <td>10</td>\n",
       "      <td>...</td>\n",
       "      <td>Frequent Customer</td>\n",
       "      <td>Marilyn</td>\n",
       "      <td>Baker</td>\n",
       "      <td>Female</td>\n",
       "      <td>Florida</td>\n",
       "      <td>67</td>\n",
       "      <td>7/16/2017</td>\n",
       "      <td>3</td>\n",
       "      <td>married</td>\n",
       "      <td>149199</td>\n",
       "    </tr>\n",
       "    <tr>\n",
       "      <th>23027</th>\n",
       "      <td>33664</td>\n",
       "      <td>2 % Reduced Fat  Milk</td>\n",
       "      <td>84</td>\n",
       "      <td>16</td>\n",
       "      <td>99999.0</td>\n",
       "      <td>2912515</td>\n",
       "      <td>43360</td>\n",
       "      <td>7</td>\n",
       "      <td>2</td>\n",
       "      <td>9</td>\n",
       "      <td>...</td>\n",
       "      <td>Frequent Customer</td>\n",
       "      <td>Marilyn</td>\n",
       "      <td>Baker</td>\n",
       "      <td>Female</td>\n",
       "      <td>Florida</td>\n",
       "      <td>67</td>\n",
       "      <td>7/16/2017</td>\n",
       "      <td>3</td>\n",
       "      <td>married</td>\n",
       "      <td>149199</td>\n",
       "    </tr>\n",
       "    <tr>\n",
       "      <th>28712</th>\n",
       "      <td>21553</td>\n",
       "      <td>Lowfat 2% Milkfat Cottage Cheese</td>\n",
       "      <td>108</td>\n",
       "      <td>16</td>\n",
       "      <td>14900.0</td>\n",
       "      <td>518829</td>\n",
       "      <td>54136</td>\n",
       "      <td>22</td>\n",
       "      <td>1</td>\n",
       "      <td>9</td>\n",
       "      <td>...</td>\n",
       "      <td>Regular Customer</td>\n",
       "      <td>Benjamin</td>\n",
       "      <td>Parsons</td>\n",
       "      <td>Male</td>\n",
       "      <td>New Jersey</td>\n",
       "      <td>40</td>\n",
       "      <td>1/28/2020</td>\n",
       "      <td>0</td>\n",
       "      <td>single</td>\n",
       "      <td>160524</td>\n",
       "    </tr>\n",
       "    <tr>\n",
       "      <th>...</th>\n",
       "      <td>...</td>\n",
       "      <td>...</td>\n",
       "      <td>...</td>\n",
       "      <td>...</td>\n",
       "      <td>...</td>\n",
       "      <td>...</td>\n",
       "      <td>...</td>\n",
       "      <td>...</td>\n",
       "      <td>...</td>\n",
       "      <td>...</td>\n",
       "      <td>...</td>\n",
       "      <td>...</td>\n",
       "      <td>...</td>\n",
       "      <td>...</td>\n",
       "      <td>...</td>\n",
       "      <td>...</td>\n",
       "      <td>...</td>\n",
       "      <td>...</td>\n",
       "      <td>...</td>\n",
       "      <td>...</td>\n",
       "      <td>...</td>\n",
       "    </tr>\n",
       "    <tr>\n",
       "      <th>32383871</th>\n",
       "      <td>21553</td>\n",
       "      <td>Lowfat 2% Milkfat Cottage Cheese</td>\n",
       "      <td>108</td>\n",
       "      <td>16</td>\n",
       "      <td>14900.0</td>\n",
       "      <td>3288900</td>\n",
       "      <td>136909</td>\n",
       "      <td>1</td>\n",
       "      <td>5</td>\n",
       "      <td>18</td>\n",
       "      <td>...</td>\n",
       "      <td>Frequent Customer</td>\n",
       "      <td>Deborah</td>\n",
       "      <td>Dillon</td>\n",
       "      <td>Female</td>\n",
       "      <td>New Jersey</td>\n",
       "      <td>30</td>\n",
       "      <td>5/14/2017</td>\n",
       "      <td>2</td>\n",
       "      <td>married</td>\n",
       "      <td>161606</td>\n",
       "    </tr>\n",
       "    <tr>\n",
       "      <th>32383872</th>\n",
       "      <td>21553</td>\n",
       "      <td>Lowfat 2% Milkfat Cottage Cheese</td>\n",
       "      <td>108</td>\n",
       "      <td>16</td>\n",
       "      <td>14900.0</td>\n",
       "      <td>285306</td>\n",
       "      <td>136909</td>\n",
       "      <td>4</td>\n",
       "      <td>1</td>\n",
       "      <td>17</td>\n",
       "      <td>...</td>\n",
       "      <td>Frequent Customer</td>\n",
       "      <td>Deborah</td>\n",
       "      <td>Dillon</td>\n",
       "      <td>Female</td>\n",
       "      <td>New Jersey</td>\n",
       "      <td>30</td>\n",
       "      <td>5/14/2017</td>\n",
       "      <td>2</td>\n",
       "      <td>married</td>\n",
       "      <td>161606</td>\n",
       "    </tr>\n",
       "    <tr>\n",
       "      <th>32383873</th>\n",
       "      <td>21553</td>\n",
       "      <td>Lowfat 2% Milkfat Cottage Cheese</td>\n",
       "      <td>108</td>\n",
       "      <td>16</td>\n",
       "      <td>14900.0</td>\n",
       "      <td>2744314</td>\n",
       "      <td>136909</td>\n",
       "      <td>13</td>\n",
       "      <td>6</td>\n",
       "      <td>12</td>\n",
       "      <td>...</td>\n",
       "      <td>Frequent Customer</td>\n",
       "      <td>Deborah</td>\n",
       "      <td>Dillon</td>\n",
       "      <td>Female</td>\n",
       "      <td>New Jersey</td>\n",
       "      <td>30</td>\n",
       "      <td>5/14/2017</td>\n",
       "      <td>2</td>\n",
       "      <td>married</td>\n",
       "      <td>161606</td>\n",
       "    </tr>\n",
       "    <tr>\n",
       "      <th>32396750</th>\n",
       "      <td>21553</td>\n",
       "      <td>Lowfat 2% Milkfat Cottage Cheese</td>\n",
       "      <td>108</td>\n",
       "      <td>16</td>\n",
       "      <td>14900.0</td>\n",
       "      <td>2716179</td>\n",
       "      <td>2700</td>\n",
       "      <td>7</td>\n",
       "      <td>2</td>\n",
       "      <td>7</td>\n",
       "      <td>...</td>\n",
       "      <td>Frequent Customer</td>\n",
       "      <td>Charles</td>\n",
       "      <td>Crosby</td>\n",
       "      <td>Male</td>\n",
       "      <td>Washington</td>\n",
       "      <td>67</td>\n",
       "      <td>4/19/2019</td>\n",
       "      <td>0</td>\n",
       "      <td>divorced/widowed</td>\n",
       "      <td>225873</td>\n",
       "    </tr>\n",
       "    <tr>\n",
       "      <th>32396768</th>\n",
       "      <td>21553</td>\n",
       "      <td>Lowfat 2% Milkfat Cottage Cheese</td>\n",
       "      <td>108</td>\n",
       "      <td>16</td>\n",
       "      <td>14900.0</td>\n",
       "      <td>1600098</td>\n",
       "      <td>158398</td>\n",
       "      <td>4</td>\n",
       "      <td>6</td>\n",
       "      <td>11</td>\n",
       "      <td>...</td>\n",
       "      <td>Regular Customer</td>\n",
       "      <td>Marie</td>\n",
       "      <td>Morrow</td>\n",
       "      <td>Female</td>\n",
       "      <td>Tennessee</td>\n",
       "      <td>42</td>\n",
       "      <td>8/23/2018</td>\n",
       "      <td>3</td>\n",
       "      <td>married</td>\n",
       "      <td>244936</td>\n",
       "    </tr>\n",
       "  </tbody>\n",
       "</table>\n",
       "<p>5127 rows × 33 columns</p>\n",
       "</div>"
      ],
      "text/plain": [
       "          product_id                      product_name  aisle_id  \\\n",
       "23024          33664             2 % Reduced Fat  Milk        84   \n",
       "23025          33664             2 % Reduced Fat  Milk        84   \n",
       "23026          33664             2 % Reduced Fat  Milk        84   \n",
       "23027          33664             2 % Reduced Fat  Milk        84   \n",
       "28712          21553  Lowfat 2% Milkfat Cottage Cheese       108   \n",
       "...              ...                               ...       ...   \n",
       "32383871       21553  Lowfat 2% Milkfat Cottage Cheese       108   \n",
       "32383872       21553  Lowfat 2% Milkfat Cottage Cheese       108   \n",
       "32383873       21553  Lowfat 2% Milkfat Cottage Cheese       108   \n",
       "32396750       21553  Lowfat 2% Milkfat Cottage Cheese       108   \n",
       "32396768       21553  Lowfat 2% Milkfat Cottage Cheese       108   \n",
       "\n",
       "          department_id   prices  order_id user_id  order_number  \\\n",
       "23024                16  99999.0   1489110   43360             3   \n",
       "23025                16  99999.0   2322035   43360             4   \n",
       "23026                16  99999.0    420339   43360             5   \n",
       "23027                16  99999.0   2912515   43360             7   \n",
       "28712                16  14900.0    518829   54136            22   \n",
       "...                 ...      ...       ...     ...           ...   \n",
       "32383871             16  14900.0   3288900  136909             1   \n",
       "32383872             16  14900.0    285306  136909             4   \n",
       "32383873             16  14900.0   2744314  136909            13   \n",
       "32396750             16  14900.0   2716179    2700             7   \n",
       "32396768             16  14900.0   1600098  158398             4   \n",
       "\n",
       "          order_day_of_week  order_hour_of_day  ...     frequency_flag  \\\n",
       "23024                     1                 10  ...  Frequent Customer   \n",
       "23025                     1                 10  ...  Frequent Customer   \n",
       "23026                     1                 10  ...  Frequent Customer   \n",
       "23027                     2                  9  ...  Frequent Customer   \n",
       "28712                     1                  9  ...   Regular Customer   \n",
       "...                     ...                ...  ...                ...   \n",
       "32383871                  5                 18  ...  Frequent Customer   \n",
       "32383872                  1                 17  ...  Frequent Customer   \n",
       "32383873                  6                 12  ...  Frequent Customer   \n",
       "32396750                  2                  7  ...  Frequent Customer   \n",
       "32396768                  6                 11  ...   Regular Customer   \n",
       "\n",
       "          first_name  last_name  gender       state age date_joined  \\\n",
       "23024        Marilyn      Baker  Female     Florida  67   7/16/2017   \n",
       "23025        Marilyn      Baker  Female     Florida  67   7/16/2017   \n",
       "23026        Marilyn      Baker  Female     Florida  67   7/16/2017   \n",
       "23027        Marilyn      Baker  Female     Florida  67   7/16/2017   \n",
       "28712       Benjamin    Parsons    Male  New Jersey  40   1/28/2020   \n",
       "...              ...        ...     ...         ...  ..         ...   \n",
       "32383871     Deborah     Dillon  Female  New Jersey  30   5/14/2017   \n",
       "32383872     Deborah     Dillon  Female  New Jersey  30   5/14/2017   \n",
       "32383873     Deborah     Dillon  Female  New Jersey  30   5/14/2017   \n",
       "32396750     Charles     Crosby    Male  Washington  67   4/19/2019   \n",
       "32396768       Marie     Morrow  Female   Tennessee  42   8/23/2018   \n",
       "\n",
       "         n_dependants        fam_status  income  \n",
       "23024               3           married  149199  \n",
       "23025               3           married  149199  \n",
       "23026               3           married  149199  \n",
       "23027               3           married  149199  \n",
       "28712               0            single  160524  \n",
       "...               ...               ...     ...  \n",
       "32383871            2           married  161606  \n",
       "32383872            2           married  161606  \n",
       "32383873            2           married  161606  \n",
       "32396750            0  divorced/widowed  225873  \n",
       "32396768            3           married  244936  \n",
       "\n",
       "[5127 rows x 33 columns]"
      ]
     },
     "execution_count": 73,
     "metadata": {},
     "output_type": "execute_result"
    }
   ],
   "source": [
    "df.loc[df['prices'] > 100]"
   ]
  },
  {
   "cell_type": "code",
   "execution_count": 74,
   "id": "cbdb4cd6",
   "metadata": {},
   "outputs": [],
   "source": [
    "df.loc[df['prices'] >100, 'prices'] = np.nan"
   ]
  },
  {
   "cell_type": "code",
   "execution_count": 75,
   "id": "0d2845cb",
   "metadata": {},
   "outputs": [
    {
     "data": {
      "text/plain": [
       "25.0"
      ]
     },
     "execution_count": 75,
     "metadata": {},
     "output_type": "execute_result"
    }
   ],
   "source": [
    "df['prices'].max()"
   ]
  },
  {
   "cell_type": "code",
   "execution_count": 76,
   "id": "e413f39a",
   "metadata": {},
   "outputs": [
    {
     "data": {
      "image/png": "[encoded data removed]",
      "text/plain": [
       "<Figure size 432x288 with 1 Axes>"
      ]
     },
     "metadata": {
      "needs_background": "light"
     },
     "output_type": "display_data"
    }
   ],
   "source": [
    "hist = df['prices'].plot.hist(bins = 25)"
   ]
  },
  {
   "cell_type": "code",
   "execution_count": 78,
   "id": "4601ae8f",
   "metadata": {
    "scrolled": true
   },
   "outputs": [
    {
     "data": {
      "image/png": "[encoded data removed]",
      "text/plain": [
       "<Figure size 432x288 with 1 Axes>"
      ]
     },
     "metadata": {
      "needs_background": "light"
     },
     "output_type": "display_data"
    }
   ],
   "source": [
    "hist_1 = df['prices'].plot.hist(bins = 70)"
   ]
  },
  {
   "cell_type": "code",
   "execution_count": 79,
   "id": "6d91438f",
   "metadata": {},
   "outputs": [],
   "source": [
    "# export the visualization\n",
    "hist.figure.savefig(os.path.join(path, '04 Analysis','Visualizations', 'prices_hist_25bins.png'))\n",
    "hist_1.figure.savefig(os.path.join(path, '04 Analysis','Visualizations', 'prices_hist_70bins.png'))"
   ]
  },
  {
   "cell_type": "markdown",
   "id": "06688283",
   "metadata": {},
   "source": [
    "## Scatter Plots:"
   ]
  },
  {
   "cell_type": "code",
   "execution_count": 80,
   "id": "a1e9d689",
   "metadata": {},
   "outputs": [],
   "source": [
    "np.random.seed(4)"
   ]
  },
  {
   "cell_type": "code",
   "execution_count": 81,
   "id": "badcee9b",
   "metadata": {},
   "outputs": [],
   "source": [
    "# Creat e a list holding True/False values to the test np.random.rand() <= 0.7\n",
    "dev = np.random.rand(len(df)) <= 0.7"
   ]
  },
  {
   "cell_type": "code",
   "execution_count": 82,
   "id": "124ce8d4",
   "metadata": {},
   "outputs": [
    {
     "data": {
      "text/plain": [
       "array([False,  True, False, ...,  True,  True,  True])"
      ]
     },
     "execution_count": 82,
     "metadata": {},
     "output_type": "execute_result"
    }
   ],
   "source": [
    "dev"
   ]
  },
  {
   "cell_type": "code",
   "execution_count": 83,
   "id": "c3cceb3b",
   "metadata": {},
   "outputs": [],
   "source": [
    "# Stores 70% of the sample in the dataframe big\n",
    "big = df[dev]"
   ]
  },
  {
   "cell_type": "code",
   "execution_count": 84,
   "id": "a67089da",
   "metadata": {},
   "outputs": [],
   "source": [
    "# Stores 30% of the sample in the dataframe small\n",
    "small = df[~dev]"
   ]
  },
  {
   "cell_type": "code",
   "execution_count": 85,
   "id": "d7535597",
   "metadata": {},
   "outputs": [
    {
     "data": {
      "text/plain": [
       "32404859"
      ]
     },
     "execution_count": 85,
     "metadata": {},
     "output_type": "execute_result"
    }
   ],
   "source": [
    "len(df)"
   ]
  },
  {
   "cell_type": "code",
   "execution_count": 86,
   "id": "e0c98def",
   "metadata": {},
   "outputs": [
    {
     "data": {
      "text/plain": [
       "32404859"
      ]
     },
     "execution_count": 86,
     "metadata": {},
     "output_type": "execute_result"
    }
   ],
   "source": [
    "len(big) + len(small)"
   ]
  },
  {
   "cell_type": "code",
   "execution_count": 87,
   "id": "3a79681f",
   "metadata": {},
   "outputs": [],
   "source": [
    "# Reduce the size of the sample to the columns we need\n",
    "df_2 = small[['order_day_of_week', 'prices']]"
   ]
  },
  {
   "cell_type": "code",
   "execution_count": 88,
   "id": "ea9f98f1",
   "metadata": {},
   "outputs": [
    {
     "data": {
      "image/png": "[encoded data removed]",
      "text/plain": [
       "<Figure size 432x288 with 1 Axes>"
      ]
     },
     "metadata": {
      "needs_background": "light"
     },
     "output_type": "display_data"
    }
   ],
   "source": [
    "# create line chart\n",
    "line = sns.lineplot(data = df_2, x = 'order_day_of_week',y = 'prices')"
   ]
  },
  {
   "cell_type": "code",
   "execution_count": 89,
   "id": "5157c521",
   "metadata": {},
   "outputs": [],
   "source": [
    "# checking to see if I will get the same graph from the big dataframe; first reducing the size\n",
    "df_3 = big[['order_day_of_week', 'prices']]"
   ]
  },
  {
   "cell_type": "code",
   "execution_count": 90,
   "id": "044b09d2",
   "metadata": {},
   "outputs": [
    {
     "data": {
      "image/png": "[encoded data removed]",
      "text/plain": [
       "<Figure size 432x288 with 1 Axes>"
      ]
     },
     "metadata": {
      "needs_background": "light"
     },
     "output_type": "display_data"
    }
   ],
   "source": [
    "# create line chart for the big dataframe\n",
    "line_2= sns.lineplot(data = df_3, x = 'order_day_of_week',y = 'prices')"
   ]
  },
  {
   "cell_type": "code",
   "execution_count": 91,
   "id": "3e9c2267",
   "metadata": {},
   "outputs": [],
   "source": [
    "# reducing the original dataframe to the two columns to check the line graph:\n",
    "df_4 = df[['order_day_of_week', 'prices']]"
   ]
  },
  {
   "cell_type": "code",
   "execution_count": 92,
   "id": "0b1d4412",
   "metadata": {},
   "outputs": [
    {
     "data": {
      "image/png": "[encoded data removed]",
      "text/plain": [
       "<Figure size 432x288 with 1 Axes>"
      ]
     },
     "metadata": {
      "needs_background": "light"
     },
     "output_type": "display_data"
    }
   ],
   "source": [
    "# create line chart for the WHOLE dataframe\n",
    "line_3= sns.lineplot(data = df_4, x = 'order_day_of_week',y = 'prices')"
   ]
  },
  {
   "cell_type": "markdown",
   "id": "40cf573b",
   "metadata": {},
   "source": [
    "- Crosstabs:"
   ]
  },
  {
   "cell_type": "code",
   "execution_count": 94,
   "id": "d88626ae",
   "metadata": {},
   "outputs": [],
   "source": [
    "# export the visualization\n",
    "line.figure.savefig(os.path.join(path, '04 Analysis','Visualizations', 'order_day_of_week&prices_barchart.png'))\n",
    "line_2.figure.savefig(os.path.join(path, '04 Analysis','Visualizations', 'order_day_of_week&prices_barchart_2.png'))\n",
    "line_3.fåigure.savefig(os.path.join(path, '04 Analysis','Visualizations', 'order_day_of_week&prices_barchart_3.png'))"
   ]
  },
  {
   "cell_type": "code",
   "execution_count": 95,
   "id": "6d9e532b",
   "metadata": {},
   "outputs": [],
   "source": [
    "crosstab = pd.crosstab(df['days_since_prior_order'], df['order_number'], dropna = False)"
   ]
  },
  {
   "cell_type": "code",
   "execution_count": 96,
   "id": "d43ce7b7",
   "metadata": {},
   "outputs": [],
   "source": [
    "crosstab.to_clipboard()"
   ]
  },
  {
   "cell_type": "markdown",
   "id": "890aaad4",
   "metadata": {},
   "source": [
    "## Question 3:\n",
    "\n",
    "You need to provide the Instacart senior stakeholders with descriptive findings about sales. Create a histogram of the “order_hour_of_day” column.\n",
    "In a markdown cell beneath your histogram, describe what the histogram demonstrates."
   ]
  },
  {
   "cell_type": "code",
   "execution_count": 97,
   "id": "d6b3a391",
   "metadata": {},
   "outputs": [
    {
     "data": {
      "text/html": [
       "<div>\n",
       "<style scoped>\n",
       "    .dataframe tbody tr th:only-of-type {\n",
       "        vertical-align: middle;\n",
       "    }\n",
       "\n",
       "    .dataframe tbody tr th {\n",
       "        vertical-align: top;\n",
       "    }\n",
       "\n",
       "    .dataframe thead th {\n",
       "        text-align: right;\n",
       "    }\n",
       "</style>\n",
       "<table border=\"1\" class=\"dataframe\">\n",
       "  <thead>\n",
       "    <tr style=\"text-align: right;\">\n",
       "      <th></th>\n",
       "      <th>product_id</th>\n",
       "      <th>product_name</th>\n",
       "      <th>aisle_id</th>\n",
       "      <th>department_id</th>\n",
       "      <th>prices</th>\n",
       "      <th>order_id</th>\n",
       "      <th>user_id</th>\n",
       "      <th>order_number</th>\n",
       "      <th>order_day_of_week</th>\n",
       "      <th>order_hour_of_day</th>\n",
       "      <th>...</th>\n",
       "      <th>frequency_flag</th>\n",
       "      <th>first_name</th>\n",
       "      <th>last_name</th>\n",
       "      <th>gender</th>\n",
       "      <th>state</th>\n",
       "      <th>age</th>\n",
       "      <th>date_joined</th>\n",
       "      <th>n_dependants</th>\n",
       "      <th>fam_status</th>\n",
       "      <th>income</th>\n",
       "    </tr>\n",
       "  </thead>\n",
       "  <tbody>\n",
       "    <tr>\n",
       "      <th>0</th>\n",
       "      <td>1</td>\n",
       "      <td>Chocolate Sandwich Cookies</td>\n",
       "      <td>61</td>\n",
       "      <td>19</td>\n",
       "      <td>5.8</td>\n",
       "      <td>3139998</td>\n",
       "      <td>138</td>\n",
       "      <td>28</td>\n",
       "      <td>6</td>\n",
       "      <td>11</td>\n",
       "      <td>...</td>\n",
       "      <td>Frequent Customer</td>\n",
       "      <td>Charles</td>\n",
       "      <td>Cox</td>\n",
       "      <td>Male</td>\n",
       "      <td>Minnesota</td>\n",
       "      <td>81</td>\n",
       "      <td>8/1/2019</td>\n",
       "      <td>1</td>\n",
       "      <td>married</td>\n",
       "      <td>49620</td>\n",
       "    </tr>\n",
       "    <tr>\n",
       "      <th>1</th>\n",
       "      <td>1</td>\n",
       "      <td>Chocolate Sandwich Cookies</td>\n",
       "      <td>61</td>\n",
       "      <td>19</td>\n",
       "      <td>5.8</td>\n",
       "      <td>1977647</td>\n",
       "      <td>138</td>\n",
       "      <td>30</td>\n",
       "      <td>6</td>\n",
       "      <td>17</td>\n",
       "      <td>...</td>\n",
       "      <td>Frequent Customer</td>\n",
       "      <td>Charles</td>\n",
       "      <td>Cox</td>\n",
       "      <td>Male</td>\n",
       "      <td>Minnesota</td>\n",
       "      <td>81</td>\n",
       "      <td>8/1/2019</td>\n",
       "      <td>1</td>\n",
       "      <td>married</td>\n",
       "      <td>49620</td>\n",
       "    </tr>\n",
       "    <tr>\n",
       "      <th>2</th>\n",
       "      <td>907</td>\n",
       "      <td>Premium Sliced Bacon</td>\n",
       "      <td>106</td>\n",
       "      <td>12</td>\n",
       "      <td>20.0</td>\n",
       "      <td>3160996</td>\n",
       "      <td>138</td>\n",
       "      <td>1</td>\n",
       "      <td>5</td>\n",
       "      <td>13</td>\n",
       "      <td>...</td>\n",
       "      <td>Frequent Customer</td>\n",
       "      <td>Charles</td>\n",
       "      <td>Cox</td>\n",
       "      <td>Male</td>\n",
       "      <td>Minnesota</td>\n",
       "      <td>81</td>\n",
       "      <td>8/1/2019</td>\n",
       "      <td>1</td>\n",
       "      <td>married</td>\n",
       "      <td>49620</td>\n",
       "    </tr>\n",
       "    <tr>\n",
       "      <th>3</th>\n",
       "      <td>907</td>\n",
       "      <td>Premium Sliced Bacon</td>\n",
       "      <td>106</td>\n",
       "      <td>12</td>\n",
       "      <td>20.0</td>\n",
       "      <td>2254091</td>\n",
       "      <td>138</td>\n",
       "      <td>10</td>\n",
       "      <td>5</td>\n",
       "      <td>14</td>\n",
       "      <td>...</td>\n",
       "      <td>Frequent Customer</td>\n",
       "      <td>Charles</td>\n",
       "      <td>Cox</td>\n",
       "      <td>Male</td>\n",
       "      <td>Minnesota</td>\n",
       "      <td>81</td>\n",
       "      <td>8/1/2019</td>\n",
       "      <td>1</td>\n",
       "      <td>married</td>\n",
       "      <td>49620</td>\n",
       "    </tr>\n",
       "    <tr>\n",
       "      <th>4</th>\n",
       "      <td>1000</td>\n",
       "      <td>Apricots</td>\n",
       "      <td>18</td>\n",
       "      <td>10</td>\n",
       "      <td>12.9</td>\n",
       "      <td>505689</td>\n",
       "      <td>138</td>\n",
       "      <td>9</td>\n",
       "      <td>6</td>\n",
       "      <td>12</td>\n",
       "      <td>...</td>\n",
       "      <td>Frequent Customer</td>\n",
       "      <td>Charles</td>\n",
       "      <td>Cox</td>\n",
       "      <td>Male</td>\n",
       "      <td>Minnesota</td>\n",
       "      <td>81</td>\n",
       "      <td>8/1/2019</td>\n",
       "      <td>1</td>\n",
       "      <td>married</td>\n",
       "      <td>49620</td>\n",
       "    </tr>\n",
       "  </tbody>\n",
       "</table>\n",
       "<p>5 rows × 33 columns</p>\n",
       "</div>"
      ],
      "text/plain": [
       "   product_id                product_name  aisle_id  department_id  prices  \\\n",
       "0           1  Chocolate Sandwich Cookies        61             19     5.8   \n",
       "1           1  Chocolate Sandwich Cookies        61             19     5.8   \n",
       "2         907        Premium Sliced Bacon       106             12    20.0   \n",
       "3         907        Premium Sliced Bacon       106             12    20.0   \n",
       "4        1000                    Apricots        18             10    12.9   \n",
       "\n",
       "   order_id user_id  order_number  order_day_of_week  order_hour_of_day  ...  \\\n",
       "0   3139998     138            28                  6                 11  ...   \n",
       "1   1977647     138            30                  6                 17  ...   \n",
       "2   3160996     138             1                  5                 13  ...   \n",
       "3   2254091     138            10                  5                 14  ...   \n",
       "4    505689     138             9                  6                 12  ...   \n",
       "\n",
       "      frequency_flag  first_name  last_name gender      state age date_joined  \\\n",
       "0  Frequent Customer     Charles        Cox   Male  Minnesota  81    8/1/2019   \n",
       "1  Frequent Customer     Charles        Cox   Male  Minnesota  81    8/1/2019   \n",
       "2  Frequent Customer     Charles        Cox   Male  Minnesota  81    8/1/2019   \n",
       "3  Frequent Customer     Charles        Cox   Male  Minnesota  81    8/1/2019   \n",
       "4  Frequent Customer     Charles        Cox   Male  Minnesota  81    8/1/2019   \n",
       "\n",
       "  n_dependants  fam_status income  \n",
       "0            1     married  49620  \n",
       "1            1     married  49620  \n",
       "2            1     married  49620  \n",
       "3            1     married  49620  \n",
       "4            1     married  49620  \n",
       "\n",
       "[5 rows x 33 columns]"
      ]
     },
     "execution_count": 97,
     "metadata": {},
     "output_type": "execute_result"
    }
   ],
   "source": [
    "df.head()"
   ]
  },
  {
   "cell_type": "code",
   "execution_count": 98,
   "id": "1e5c5b72",
   "metadata": {
    "scrolled": false
   },
   "outputs": [
    {
     "data": {
      "image/png": "[encoded data removed]",
      "text/plain": [
       "<Figure size 432x288 with 1 Axes>"
      ]
     },
     "metadata": {
      "needs_background": "light"
     },
     "output_type": "display_data"
    }
   ],
   "source": [
    "# histogram of the order_hour_of_day\n",
    "hist_orderhour = df['order_hour_of_day'].plot.hist(bins = 24)"
   ]
  },
  {
   "cell_type": "code",
   "execution_count": 99,
   "id": "97a31df1",
   "metadata": {},
   "outputs": [],
   "source": [
    "# export the visualization\n",
    "hist_orderhour.figure.savefig(os.path.join(path, '04 Analysis','Visualizations', 'hist_orderhour.png'))\n"
   ]
  },
  {
   "cell_type": "markdown",
   "id": "7368222f",
   "metadata": {},
   "source": [
    "- According to this histogram, the majority of the orders are placed between the hours 10:00am - 4:00 pm. "
   ]
  },
  {
   "cell_type": "markdown",
   "id": "0c2aef5c",
   "metadata": {},
   "source": [
    "## Question 4:\n",
    "\n",
    "\n",
    "- The marketing team is curious about the distribution of orders among customers in terms of loyalty. Create a bar chart from the “loyalty_flag” column.\n"
   ]
  },
  {
   "cell_type": "code",
   "execution_count": 100,
   "id": "d57a0359",
   "metadata": {
    "scrolled": true
   },
   "outputs": [
    {
     "data": {
      "image/png": "[encoded data removed]",
      "text/plain": [
       "<Figure size 432x288 with 1 Axes>"
      ]
     },
     "metadata": {
      "needs_background": "light"
     },
     "output_type": "display_data"
    }
   ],
   "source": [
    "loyalty_barchart = df['loyalty_flag'].value_counts().sort_index().plot.bar()"
   ]
  },
  {
   "cell_type": "code",
   "execution_count": 101,
   "id": "a77c2337",
   "metadata": {},
   "outputs": [],
   "source": [
    "# export the visualization\n",
    "loyalty_barchart.figure.savefig(os.path.join(path, '04 Analysis','Visualizations', 'loyalty_barchart.png'))\n"
   ]
  },
  {
   "cell_type": "markdown",
   "id": "e2aae064",
   "metadata": {},
   "source": [
    "## Question 5:\n",
    "- Check whether there’s a difference in expenditure (the “prices” column) depending on the hour of the day. (Hint: To check this, you need to use an accurate sample for your line chart!)\n",
    "\n",
    "To find for any association between the hour of the day and the expenciture I am going to create a smaller sample of 70/30 of the whole dataframe and isolate the 'prices' and 'hour_of_day' columns to create scatterplots.\n",
    "I created the scatter plots on all 3  sets (small, big and whole) and they all show the same trend. \n",
    "It looks like more orders are placed in the early hours of the day, and then they go down and then again the prices (orders placed) goes up in the evening but this time it doesn't go as high as in the mornings. "
   ]
  },
  {
   "cell_type": "code",
   "execution_count": 103,
   "id": "838147ab",
   "metadata": {
    "scrolled": true
   },
   "outputs": [
    {
     "data": {
      "text/plain": [
       "25.0"
      ]
     },
     "execution_count": 103,
     "metadata": {},
     "output_type": "execute_result"
    }
   ],
   "source": [
    "df['prices'].max()"
   ]
  },
  {
   "cell_type": "code",
   "execution_count": 104,
   "id": "90e1f3af",
   "metadata": {},
   "outputs": [],
   "source": [
    "np.random.seed(4)"
   ]
  },
  {
   "cell_type": "code",
   "execution_count": 105,
   "id": "70db76b7",
   "metadata": {},
   "outputs": [],
   "source": [
    "# Creat e a list holding True/False values to the test np.random.rand() <= 0.7\n",
    "dev = np.random.rand(len(df)) <= 0.7"
   ]
  },
  {
   "cell_type": "code",
   "execution_count": 108,
   "id": "c1c4bedd",
   "metadata": {},
   "outputs": [],
   "source": [
    "# Stores 70% of the sample in the dataframe big\n",
    "big_2 = df[dev]"
   ]
  },
  {
   "cell_type": "code",
   "execution_count": 110,
   "id": "11d278c6",
   "metadata": {},
   "outputs": [],
   "source": [
    "# Stores 30% of the sample in the dataframe small\n",
    "small_2 = df[~dev]"
   ]
  },
  {
   "cell_type": "code",
   "execution_count": 54,
   "id": "885a4722",
   "metadata": {},
   "outputs": [
    {
     "data": {
      "text/plain": [
       "32404859"
      ]
     },
     "execution_count": 54,
     "metadata": {},
     "output_type": "execute_result"
    }
   ],
   "source": [
    "len(df)"
   ]
  },
  {
   "cell_type": "code",
   "execution_count": 55,
   "id": "91e2c447",
   "metadata": {},
   "outputs": [
    {
     "data": {
      "text/plain": [
       "32404859"
      ]
     },
     "execution_count": 55,
     "metadata": {},
     "output_type": "execute_result"
    }
   ],
   "source": [
    "len(small_2) + len(big_2)"
   ]
  },
  {
   "cell_type": "code",
   "execution_count": 111,
   "id": "6b9057f4",
   "metadata": {},
   "outputs": [],
   "source": [
    "# Reduce the size of the sample to the columns we need\n",
    "df_small = small_2[['order_hour_of_day', 'prices']]"
   ]
  },
  {
   "cell_type": "code",
   "execution_count": 112,
   "id": "aded5a1e",
   "metadata": {
    "scrolled": true
   },
   "outputs": [
    {
     "data": {
      "image/png": "[encoded data removed]",
      "text/plain": [
       "<Figure size 432x288 with 1 Axes>"
      ]
     },
     "metadata": {
      "needs_background": "light"
     },
     "output_type": "display_data"
    }
   ],
   "source": [
    "line_small= sns.lineplot(data = df_small, x = 'order_hour_of_day',y = 'prices')"
   ]
  },
  {
   "cell_type": "code",
   "execution_count": 113,
   "id": "c8ffa730",
   "metadata": {},
   "outputs": [],
   "source": [
    "# Reduce the size of the sample to the columns we need\n",
    "df_big = big_2[['order_hour_of_day', 'prices']]"
   ]
  },
  {
   "cell_type": "code",
   "execution_count": 114,
   "id": "d65b0621",
   "metadata": {},
   "outputs": [
    {
     "data": {
      "image/png": "[encoded data removed]",
      "text/plain": [
       "<Figure size 432x288 with 1 Axes>"
      ]
     },
     "metadata": {
      "needs_background": "light"
     },
     "output_type": "display_data"
    }
   ],
   "source": [
    "line_big= sns.lineplot(data = df_big, x = 'order_hour_of_day',y = 'prices')"
   ]
  },
  {
   "cell_type": "code",
   "execution_count": 115,
   "id": "b7c9935a",
   "metadata": {},
   "outputs": [],
   "source": [
    "# checking the line chart to see if it follows the same trend of association:\n",
    "df_whole = df[['order_hour_of_day', 'prices']]"
   ]
  },
  {
   "cell_type": "code",
   "execution_count": 116,
   "id": "5fb9b464",
   "metadata": {},
   "outputs": [
    {
     "data": {
      "image/png": "[encoded data removed]",
      "text/plain": [
       "<Figure size 432x288 with 1 Axes>"
      ]
     },
     "metadata": {
      "needs_background": "light"
     },
     "output_type": "display_data"
    }
   ],
   "source": [
    "line_whole= sns.lineplot(data = df_whole, x = 'order_hour_of_day',y = 'prices')"
   ]
  },
  {
   "cell_type": "code",
   "execution_count": 117,
   "id": "86515e66",
   "metadata": {},
   "outputs": [],
   "source": [
    "# export the visualization\n",
    "line_small.figure.savefig(os.path.join(path, '04 Analysis','Visualizations', 'price&hour_of_day_lineplot_small.png'))\n",
    "\n",
    "line_big.figure.savefig(os.path.join(path, '04 Analysis','Visualizations', 'price&hour_of_day_lineplot_big.png'))\n",
    "\n",
    "line_whole.figure.savefig(os.path.join(path, '04 Analysis','Visualizations', 'price&hour_of_day_lineplot_whole.png'))\n",
    "\n",
    "\n"
   ]
  },
  {
   "cell_type": "markdown",
   "id": "6ac16409",
   "metadata": {},
   "source": [
    "## Question 6:\n",
    "- Now that you have information about customers, you need to conduct some exploratory analysis of customer demographics to inform the targeted marketing campaigns. First, determine whether there’s a connection between age and family status by creating a line chart exploring the connections between age and number of dependents:\n",
    "In a markdown cell beneath your line chart, describe what the line chart shows.\n",
    "\n",
    "To investigate the customer demographics, I created line charts exploring age & fam_status as well as age & n_dependants"
   ]
  },
  {
   "cell_type": "code",
   "execution_count": 118,
   "id": "ff0d3132",
   "metadata": {},
   "outputs": [],
   "source": [
    "# Reducing the dataframe to the only two columns I am going to use:\n",
    "df_age_dependants = df[['age', 'n_dependants']]"
   ]
  },
  {
   "cell_type": "code",
   "execution_count": 127,
   "id": "44732dd8",
   "metadata": {},
   "outputs": [],
   "source": [
    "# finding the mean and median number of dependants and age:\n",
    "age_mean = df['age'].mean()\n",
    "age_median = df['age'].median()\n",
    "n_dependants_mean = df['n_dependants'].mean()\n",
    "n_dependants_median = df['n_dependants'].median()"
   ]
  },
  {
   "cell_type": "code",
   "execution_count": 129,
   "id": "bf7bf023",
   "metadata": {},
   "outputs": [
    {
     "data": {
      "text/plain": [
       "49.465269853511785"
      ]
     },
     "execution_count": 129,
     "metadata": {},
     "output_type": "execute_result"
    }
   ],
   "source": [
    "age_mean"
   ]
  },
  {
   "cell_type": "code",
   "execution_count": 131,
   "id": "7ae22c52",
   "metadata": {
    "scrolled": true
   },
   "outputs": [
    {
     "data": {
      "text/plain": [
       "49.0"
      ]
     },
     "execution_count": 131,
     "metadata": {},
     "output_type": "execute_result"
    }
   ],
   "source": [
    "age_median "
   ]
  },
  {
   "cell_type": "code",
   "execution_count": 132,
   "id": "c5f7b91d",
   "metadata": {
    "scrolled": true
   },
   "outputs": [
    {
     "data": {
      "text/plain": [
       "1.5018956570679725"
      ]
     },
     "execution_count": 132,
     "metadata": {},
     "output_type": "execute_result"
    }
   ],
   "source": [
    "n_dependants_mean"
   ]
  },
  {
   "cell_type": "code",
   "execution_count": 133,
   "id": "39750f71",
   "metadata": {},
   "outputs": [
    {
     "data": {
      "text/plain": [
       "2.0"
      ]
     },
     "execution_count": 133,
     "metadata": {},
     "output_type": "execute_result"
    }
   ],
   "source": [
    "n_dependants_median"
   ]
  },
  {
   "cell_type": "code",
   "execution_count": 119,
   "id": "5fd5e684",
   "metadata": {
    "scrolled": false
   },
   "outputs": [
    {
     "data": {
      "image/png": "[encoded data removed]",
      "text/plain": [
       "<Figure size 432x288 with 1 Axes>"
      ]
     },
     "metadata": {
      "needs_background": "light"
     },
     "output_type": "display_data"
    }
   ],
   "source": [
    "# line chart: age & n_depndants\n",
    "line_4 = sns.lineplot(data = df_age_dependants, x = 'age', y = 'n_dependants')"
   ]
  },
  {
   "cell_type": "markdown",
   "id": "d9a16ebd",
   "metadata": {},
   "source": [
    "- The average age of customers is 49.46 and the median is 49 based on the data; this is a sign of normal distribution of the data. There is a very slight positive correlation between age and n_dependants. \n",
    "The median number of dependants is 2 and belongs to people aged 49.55 and the average number of dependnats is 1.5.\n"
   ]
  },
  {
   "cell_type": "code",
   "execution_count": 148,
   "id": "230a5f48",
   "metadata": {},
   "outputs": [],
   "source": [
    "# export the visualization\n",
    "line_4.figure.savefig(os.path.join(path, '04 Analysis','Visualizations', 'age_ndependants_line_chart.png'))"
   ]
  },
  {
   "cell_type": "code",
   "execution_count": 124,
   "id": "647e0c96",
   "metadata": {},
   "outputs": [
    {
     "data": {
      "text/plain": [
       "married                             22756753\n",
       "single                               5325691\n",
       "divorced/widowed                     2771812\n",
       "living with parents and siblings     1550603\n",
       "Name: fam_status, dtype: int64"
      ]
     },
     "execution_count": 124,
     "metadata": {},
     "output_type": "execute_result"
    }
   ],
   "source": [
    "# finding the value counts in the fam_status column:\n",
    "df['fam_status'].value_counts()"
   ]
  },
  {
   "cell_type": "code",
   "execution_count": 125,
   "id": "44237037",
   "metadata": {},
   "outputs": [
    {
     "data": {
      "image/png": "[encoded data removed]",
      "text/plain": [
       "<Figure size 432x288 with 1 Axes>"
      ]
     },
     "metadata": {
      "needs_background": "light"
     },
     "output_type": "display_data"
    }
   ],
   "source": [
    "# creating a bar chart based on the value counts:\n",
    "fam_status_barchart = df['fam_status'].value_counts().plot(kind='bar');"
   ]
  },
  {
   "cell_type": "markdown",
   "id": "bb6be390",
   "metadata": {},
   "source": [
    "Married people are the highest group of customers; second in line are single, divorced and livinig with parents and siblings all very close. "
   ]
  },
  {
   "cell_type": "code",
   "execution_count": 144,
   "id": "25c69a1b",
   "metadata": {},
   "outputs": [],
   "source": [
    "# export the visualization\n",
    "fam_status_barchart.figure.savefig(os.path.join(path, '04 Analysis','Visualizations', 'fam_status_barchart.png'))\n",
    "\n"
   ]
  },
  {
   "cell_type": "markdown",
   "id": "93188c4d",
   "metadata": {},
   "source": [
    "## Question 7:\n",
    "- You’ll also need to explore whether there’s a connection between age and spending power. To visualize this relationship, create a scatterplot using the sns.scatterplot() function.\n",
    "In a markdown cell beneath your scatterplot, describe what the scatterplot shows."
   ]
  },
  {
   "cell_type": "code",
   "execution_count": 138,
   "id": "9ffef24e",
   "metadata": {},
   "outputs": [],
   "source": [
    "# age and income scatter plot:\n",
    "df_age_income = df[['age', 'income']]"
   ]
  },
  {
   "cell_type": "code",
   "execution_count": 137,
   "id": "84d13599",
   "metadata": {},
   "outputs": [
    {
     "data": {
      "image/png": "[encoded data removed]",
      "text/plain": [
       "<Figure size 432x288 with 1 Axes>"
      ]
     },
     "metadata": {
      "needs_background": "light"
     },
     "output_type": "display_data"
    }
   ],
   "source": [
    "age_income_lineplot = sns.lineplot(data = df_age_income, x = 'age', y = 'income')"
   ]
  },
  {
   "cell_type": "code",
   "execution_count": 146,
   "id": "7624fe67",
   "metadata": {},
   "outputs": [],
   "source": [
    "# export the visualization\n",
    "age_income_lineplot.figure.savefig(os.path.join(path, '04 Analysis','Visualizations', 'age_income_lineplot.png'))"
   ]
  },
  {
   "cell_type": "markdown",
   "id": "db95126f",
   "metadata": {},
   "source": [
    "The line plot above shows that spending power/income significantly increases by age. It looks like people under 40 have about the same spending power and the people above 40 have significantly higher spending power/income. \n",
    "\n",
    "The scatterplot below shows positive association between age and income as well. "
   ]
  },
  {
   "cell_type": "code",
   "execution_count": 143,
   "id": "5a577e3d",
   "metadata": {},
   "outputs": [
    {
     "data": {
      "image/png": "[encoded data removed]",
      "text/plain": [
       "<Figure size 432x288 with 1 Axes>"
      ]
     },
     "metadata": {
      "needs_background": "light"
     },
     "output_type": "display_data"
    }
   ],
   "source": [
    "age_income_scatterplot = sns.scatterplot(data = df_age_income, x = 'age', y = 'income')"
   ]
  },
  {
   "cell_type": "code",
   "execution_count": 147,
   "id": "5c7af0e2",
   "metadata": {},
   "outputs": [],
   "source": [
    "# export the visualization\n",
    "age_income_scatterplot.figure.savefig(os.path.join(path, '04 Analysis','Visualizations', 'age_income_scatterplot.png'))"
   ]
  }
 ],
 "metadata": {
  "kernelspec": {
   "display_name": "Python 3",
   "language": "python",
   "name": "python3"
  },
  "language_info": {
   "codemirror_mode": {
    "name": "ipython",
    "version": 3
   },
   "file_extension": ".py",
   "mimetype": "text/x-python",
   "name": "python",
   "nbconvert_exporter": "python",
   "pygments_lexer": "ipython3",
   "version": "3.8.8"
  }
 },
 "nbformat": 4,
 "nbformat_minor": 5
}
